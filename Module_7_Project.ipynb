{
  "nbformat": 4,
  "nbformat_minor": 0,
  "metadata": {
    "colab": {
      "provenance": [],
      "gpuType": "T4",
      "include_colab_link": true
    },
    "kernelspec": {
      "name": "python3",
      "display_name": "Python 3"
    },
    "language_info": {
      "name": "python"
    },
    "accelerator": "GPU"
  },
  "cells": [
    {
      "cell_type": "markdown",
      "metadata": {
        "id": "view-in-github",
        "colab_type": "text"
      },
      "source": [
        "<a href=\"https://colab.research.google.com/github/pravalika3986/FMML_MODULES/blob/main/Module_7_Project.ipynb\" target=\"_parent\"><img src=\"https://colab.research.google.com/assets/colab-badge.svg\" alt=\"Open In Colab\"/></a>"
      ]
    },
    {
      "cell_type": "markdown",
      "metadata": {
        "id": "O6WbuhKIaj8v"
      },
      "source": [
        "#Module 7 Project: Movie Recommendation Engine"
      ]
    },
    {
      "cell_type": "markdown",
      "source": [
        "`Module Coordinator: Ganesh Chandan`"
      ],
      "metadata": {
        "id": "nY0Fv5ynQ03G"
      }
    },
    {
      "cell_type": "markdown",
      "source": [
        "In this module, we will try to create a Movie Recommendation System using different unsupervised learning techniques."
      ],
      "metadata": {
        "id": "yb8Th0QVRLWU"
      }
    },
    {
      "cell_type": "code",
      "metadata": {
        "colab": {
          "base_uri": "https://localhost:8080/"
        },
        "id": "ZMBdXlbjbEf4",
        "outputId": "e3ba695d-a11a-43fe-9420-004da6641211"
      },
      "source": [
        "# dataset download\n",
        "\n",
        "# !wget https://files.grouplens.org/datasets/movielens/ml-100k.zip\n",
        "!wget https://files.grouplens.org/datasets/movielens/ml-latest-small.zip\n",
        "!unzip ml-latest-small.zip"
      ],
      "execution_count": 1,
      "outputs": [
        {
          "output_type": "stream",
          "name": "stdout",
          "text": [
            "--2025-02-04 12:35:17--  https://files.grouplens.org/datasets/movielens/ml-latest-small.zip\n",
            "Resolving files.grouplens.org (files.grouplens.org)... 128.101.65.152\n",
            "Connecting to files.grouplens.org (files.grouplens.org)|128.101.65.152|:443... connected.\n",
            "HTTP request sent, awaiting response... 200 OK\n",
            "Length: 978202 (955K) [application/zip]\n",
            "Saving to: ‘ml-latest-small.zip’\n",
            "\n",
            "ml-latest-small.zip 100%[===================>] 955.28K   750KB/s    in 1.3s    \n",
            "\n",
            "2025-02-04 12:35:20 (750 KB/s) - ‘ml-latest-small.zip’ saved [978202/978202]\n",
            "\n",
            "Archive:  ml-latest-small.zip\n",
            "   creating: ml-latest-small/\n",
            "  inflating: ml-latest-small/links.csv  \n",
            "  inflating: ml-latest-small/tags.csv  \n",
            "  inflating: ml-latest-small/ratings.csv  \n",
            "  inflating: ml-latest-small/README.txt  \n",
            "  inflating: ml-latest-small/movies.csv  \n"
          ]
        }
      ]
    },
    {
      "cell_type": "markdown",
      "metadata": {
        "id": "ZUjEAuW0eHbZ"
      },
      "source": [
        "## Clustering based recommendation"
      ]
    },
    {
      "cell_type": "code",
      "metadata": {
        "id": "HtuurMa5aeiX"
      },
      "source": [
        "# Import Libraries\n",
        "import pandas as pd\n",
        "import matplotlib.pyplot as plt\n",
        "import numpy as np\n",
        "from scipy.sparse import csr_matrix\n",
        "from mpl_toolkits.axes_grid1 import make_axes_locatable\n",
        "from sklearn.cluster import KMeans\n",
        "from sklearn.metrics import mean_squared_error\n",
        "import itertools\n",
        "from sklearn.metrics import silhouette_samples, silhouette_score"
      ],
      "execution_count": 2,
      "outputs": []
    },
    {
      "cell_type": "code",
      "metadata": {
        "colab": {
          "base_uri": "https://localhost:8080/",
          "height": 206
        },
        "id": "iZ1H-jLmcT49",
        "outputId": "89576777-9bf3-4704-973d-5da82d71cd2a"
      },
      "source": [
        "# Import the Movies dataset\n",
        "movies = pd.read_csv('ml-latest-small/movies.csv')\n",
        "movies.head()"
      ],
      "execution_count": 3,
      "outputs": [
        {
          "output_type": "execute_result",
          "data": {
            "text/plain": [
              "   movieId                               title  \\\n",
              "0        1                    Toy Story (1995)   \n",
              "1        2                      Jumanji (1995)   \n",
              "2        3             Grumpier Old Men (1995)   \n",
              "3        4            Waiting to Exhale (1995)   \n",
              "4        5  Father of the Bride Part II (1995)   \n",
              "\n",
              "                                        genres  \n",
              "0  Adventure|Animation|Children|Comedy|Fantasy  \n",
              "1                   Adventure|Children|Fantasy  \n",
              "2                               Comedy|Romance  \n",
              "3                         Comedy|Drama|Romance  \n",
              "4                                       Comedy  "
            ],
            "text/html": [
              "\n",
              "  <div id=\"df-fe0ac0d0-bae1-42a4-9f2c-075082b1aa58\" class=\"colab-df-container\">\n",
              "    <div>\n",
              "<style scoped>\n",
              "    .dataframe tbody tr th:only-of-type {\n",
              "        vertical-align: middle;\n",
              "    }\n",
              "\n",
              "    .dataframe tbody tr th {\n",
              "        vertical-align: top;\n",
              "    }\n",
              "\n",
              "    .dataframe thead th {\n",
              "        text-align: right;\n",
              "    }\n",
              "</style>\n",
              "<table border=\"1\" class=\"dataframe\">\n",
              "  <thead>\n",
              "    <tr style=\"text-align: right;\">\n",
              "      <th></th>\n",
              "      <th>movieId</th>\n",
              "      <th>title</th>\n",
              "      <th>genres</th>\n",
              "    </tr>\n",
              "  </thead>\n",
              "  <tbody>\n",
              "    <tr>\n",
              "      <th>0</th>\n",
              "      <td>1</td>\n",
              "      <td>Toy Story (1995)</td>\n",
              "      <td>Adventure|Animation|Children|Comedy|Fantasy</td>\n",
              "    </tr>\n",
              "    <tr>\n",
              "      <th>1</th>\n",
              "      <td>2</td>\n",
              "      <td>Jumanji (1995)</td>\n",
              "      <td>Adventure|Children|Fantasy</td>\n",
              "    </tr>\n",
              "    <tr>\n",
              "      <th>2</th>\n",
              "      <td>3</td>\n",
              "      <td>Grumpier Old Men (1995)</td>\n",
              "      <td>Comedy|Romance</td>\n",
              "    </tr>\n",
              "    <tr>\n",
              "      <th>3</th>\n",
              "      <td>4</td>\n",
              "      <td>Waiting to Exhale (1995)</td>\n",
              "      <td>Comedy|Drama|Romance</td>\n",
              "    </tr>\n",
              "    <tr>\n",
              "      <th>4</th>\n",
              "      <td>5</td>\n",
              "      <td>Father of the Bride Part II (1995)</td>\n",
              "      <td>Comedy</td>\n",
              "    </tr>\n",
              "  </tbody>\n",
              "</table>\n",
              "</div>\n",
              "    <div class=\"colab-df-buttons\">\n",
              "\n",
              "  <div class=\"colab-df-container\">\n",
              "    <button class=\"colab-df-convert\" onclick=\"convertToInteractive('df-fe0ac0d0-bae1-42a4-9f2c-075082b1aa58')\"\n",
              "            title=\"Convert this dataframe to an interactive table.\"\n",
              "            style=\"display:none;\">\n",
              "\n",
              "  <svg xmlns=\"http://www.w3.org/2000/svg\" height=\"24px\" viewBox=\"0 -960 960 960\">\n",
              "    <path d=\"M120-120v-720h720v720H120Zm60-500h600v-160H180v160Zm220 220h160v-160H400v160Zm0 220h160v-160H400v160ZM180-400h160v-160H180v160Zm440 0h160v-160H620v160ZM180-180h160v-160H180v160Zm440 0h160v-160H620v160Z\"/>\n",
              "  </svg>\n",
              "    </button>\n",
              "\n",
              "  <style>\n",
              "    .colab-df-container {\n",
              "      display:flex;\n",
              "      gap: 12px;\n",
              "    }\n",
              "\n",
              "    .colab-df-convert {\n",
              "      background-color: #E8F0FE;\n",
              "      border: none;\n",
              "      border-radius: 50%;\n",
              "      cursor: pointer;\n",
              "      display: none;\n",
              "      fill: #1967D2;\n",
              "      height: 32px;\n",
              "      padding: 0 0 0 0;\n",
              "      width: 32px;\n",
              "    }\n",
              "\n",
              "    .colab-df-convert:hover {\n",
              "      background-color: #E2EBFA;\n",
              "      box-shadow: 0px 1px 2px rgba(60, 64, 67, 0.3), 0px 1px 3px 1px rgba(60, 64, 67, 0.15);\n",
              "      fill: #174EA6;\n",
              "    }\n",
              "\n",
              "    .colab-df-buttons div {\n",
              "      margin-bottom: 4px;\n",
              "    }\n",
              "\n",
              "    [theme=dark] .colab-df-convert {\n",
              "      background-color: #3B4455;\n",
              "      fill: #D2E3FC;\n",
              "    }\n",
              "\n",
              "    [theme=dark] .colab-df-convert:hover {\n",
              "      background-color: #434B5C;\n",
              "      box-shadow: 0px 1px 3px 1px rgba(0, 0, 0, 0.15);\n",
              "      filter: drop-shadow(0px 1px 2px rgba(0, 0, 0, 0.3));\n",
              "      fill: #FFFFFF;\n",
              "    }\n",
              "  </style>\n",
              "\n",
              "    <script>\n",
              "      const buttonEl =\n",
              "        document.querySelector('#df-fe0ac0d0-bae1-42a4-9f2c-075082b1aa58 button.colab-df-convert');\n",
              "      buttonEl.style.display =\n",
              "        google.colab.kernel.accessAllowed ? 'block' : 'none';\n",
              "\n",
              "      async function convertToInteractive(key) {\n",
              "        const element = document.querySelector('#df-fe0ac0d0-bae1-42a4-9f2c-075082b1aa58');\n",
              "        const dataTable =\n",
              "          await google.colab.kernel.invokeFunction('convertToInteractive',\n",
              "                                                    [key], {});\n",
              "        if (!dataTable) return;\n",
              "\n",
              "        const docLinkHtml = 'Like what you see? Visit the ' +\n",
              "          '<a target=\"_blank\" href=https://colab.research.google.com/notebooks/data_table.ipynb>data table notebook</a>'\n",
              "          + ' to learn more about interactive tables.';\n",
              "        element.innerHTML = '';\n",
              "        dataTable['output_type'] = 'display_data';\n",
              "        await google.colab.output.renderOutput(dataTable, element);\n",
              "        const docLink = document.createElement('div');\n",
              "        docLink.innerHTML = docLinkHtml;\n",
              "        element.appendChild(docLink);\n",
              "      }\n",
              "    </script>\n",
              "  </div>\n",
              "\n",
              "\n",
              "<div id=\"df-d5fe598f-fdae-43c0-bd64-71d84e72f0ed\">\n",
              "  <button class=\"colab-df-quickchart\" onclick=\"quickchart('df-d5fe598f-fdae-43c0-bd64-71d84e72f0ed')\"\n",
              "            title=\"Suggest charts\"\n",
              "            style=\"display:none;\">\n",
              "\n",
              "<svg xmlns=\"http://www.w3.org/2000/svg\" height=\"24px\"viewBox=\"0 0 24 24\"\n",
              "     width=\"24px\">\n",
              "    <g>\n",
              "        <path d=\"M19 3H5c-1.1 0-2 .9-2 2v14c0 1.1.9 2 2 2h14c1.1 0 2-.9 2-2V5c0-1.1-.9-2-2-2zM9 17H7v-7h2v7zm4 0h-2V7h2v10zm4 0h-2v-4h2v4z\"/>\n",
              "    </g>\n",
              "</svg>\n",
              "  </button>\n",
              "\n",
              "<style>\n",
              "  .colab-df-quickchart {\n",
              "      --bg-color: #E8F0FE;\n",
              "      --fill-color: #1967D2;\n",
              "      --hover-bg-color: #E2EBFA;\n",
              "      --hover-fill-color: #174EA6;\n",
              "      --disabled-fill-color: #AAA;\n",
              "      --disabled-bg-color: #DDD;\n",
              "  }\n",
              "\n",
              "  [theme=dark] .colab-df-quickchart {\n",
              "      --bg-color: #3B4455;\n",
              "      --fill-color: #D2E3FC;\n",
              "      --hover-bg-color: #434B5C;\n",
              "      --hover-fill-color: #FFFFFF;\n",
              "      --disabled-bg-color: #3B4455;\n",
              "      --disabled-fill-color: #666;\n",
              "  }\n",
              "\n",
              "  .colab-df-quickchart {\n",
              "    background-color: var(--bg-color);\n",
              "    border: none;\n",
              "    border-radius: 50%;\n",
              "    cursor: pointer;\n",
              "    display: none;\n",
              "    fill: var(--fill-color);\n",
              "    height: 32px;\n",
              "    padding: 0;\n",
              "    width: 32px;\n",
              "  }\n",
              "\n",
              "  .colab-df-quickchart:hover {\n",
              "    background-color: var(--hover-bg-color);\n",
              "    box-shadow: 0 1px 2px rgba(60, 64, 67, 0.3), 0 1px 3px 1px rgba(60, 64, 67, 0.15);\n",
              "    fill: var(--button-hover-fill-color);\n",
              "  }\n",
              "\n",
              "  .colab-df-quickchart-complete:disabled,\n",
              "  .colab-df-quickchart-complete:disabled:hover {\n",
              "    background-color: var(--disabled-bg-color);\n",
              "    fill: var(--disabled-fill-color);\n",
              "    box-shadow: none;\n",
              "  }\n",
              "\n",
              "  .colab-df-spinner {\n",
              "    border: 2px solid var(--fill-color);\n",
              "    border-color: transparent;\n",
              "    border-bottom-color: var(--fill-color);\n",
              "    animation:\n",
              "      spin 1s steps(1) infinite;\n",
              "  }\n",
              "\n",
              "  @keyframes spin {\n",
              "    0% {\n",
              "      border-color: transparent;\n",
              "      border-bottom-color: var(--fill-color);\n",
              "      border-left-color: var(--fill-color);\n",
              "    }\n",
              "    20% {\n",
              "      border-color: transparent;\n",
              "      border-left-color: var(--fill-color);\n",
              "      border-top-color: var(--fill-color);\n",
              "    }\n",
              "    30% {\n",
              "      border-color: transparent;\n",
              "      border-left-color: var(--fill-color);\n",
              "      border-top-color: var(--fill-color);\n",
              "      border-right-color: var(--fill-color);\n",
              "    }\n",
              "    40% {\n",
              "      border-color: transparent;\n",
              "      border-right-color: var(--fill-color);\n",
              "      border-top-color: var(--fill-color);\n",
              "    }\n",
              "    60% {\n",
              "      border-color: transparent;\n",
              "      border-right-color: var(--fill-color);\n",
              "    }\n",
              "    80% {\n",
              "      border-color: transparent;\n",
              "      border-right-color: var(--fill-color);\n",
              "      border-bottom-color: var(--fill-color);\n",
              "    }\n",
              "    90% {\n",
              "      border-color: transparent;\n",
              "      border-bottom-color: var(--fill-color);\n",
              "    }\n",
              "  }\n",
              "</style>\n",
              "\n",
              "  <script>\n",
              "    async function quickchart(key) {\n",
              "      const quickchartButtonEl =\n",
              "        document.querySelector('#' + key + ' button');\n",
              "      quickchartButtonEl.disabled = true;  // To prevent multiple clicks.\n",
              "      quickchartButtonEl.classList.add('colab-df-spinner');\n",
              "      try {\n",
              "        const charts = await google.colab.kernel.invokeFunction(\n",
              "            'suggestCharts', [key], {});\n",
              "      } catch (error) {\n",
              "        console.error('Error during call to suggestCharts:', error);\n",
              "      }\n",
              "      quickchartButtonEl.classList.remove('colab-df-spinner');\n",
              "      quickchartButtonEl.classList.add('colab-df-quickchart-complete');\n",
              "    }\n",
              "    (() => {\n",
              "      let quickchartButtonEl =\n",
              "        document.querySelector('#df-d5fe598f-fdae-43c0-bd64-71d84e72f0ed button');\n",
              "      quickchartButtonEl.style.display =\n",
              "        google.colab.kernel.accessAllowed ? 'block' : 'none';\n",
              "    })();\n",
              "  </script>\n",
              "</div>\n",
              "\n",
              "    </div>\n",
              "  </div>\n"
            ],
            "application/vnd.google.colaboratory.intrinsic+json": {
              "type": "dataframe",
              "variable_name": "movies",
              "summary": "{\n  \"name\": \"movies\",\n  \"rows\": 9742,\n  \"fields\": [\n    {\n      \"column\": \"movieId\",\n      \"properties\": {\n        \"dtype\": \"number\",\n        \"std\": 52160,\n        \"min\": 1,\n        \"max\": 193609,\n        \"num_unique_values\": 9742,\n        \"samples\": [\n          45635,\n          1373,\n          7325\n        ],\n        \"semantic_type\": \"\",\n        \"description\": \"\"\n      }\n    },\n    {\n      \"column\": \"title\",\n      \"properties\": {\n        \"dtype\": \"string\",\n        \"num_unique_values\": 9737,\n        \"samples\": [\n          \"Teenage Mutant Ninja Turtles (2014)\",\n          \"America's Sweethearts (2001)\",\n          \"Cast Away (2000)\"\n        ],\n        \"semantic_type\": \"\",\n        \"description\": \"\"\n      }\n    },\n    {\n      \"column\": \"genres\",\n      \"properties\": {\n        \"dtype\": \"category\",\n        \"num_unique_values\": 951,\n        \"samples\": [\n          \"Crime|Mystery|Romance|Thriller\",\n          \"Action|Adventure|Comedy|Western\",\n          \"Crime|Drama|Musical\"\n        ],\n        \"semantic_type\": \"\",\n        \"description\": \"\"\n      }\n    }\n  ]\n}"
            }
          },
          "metadata": {},
          "execution_count": 3
        }
      ]
    },
    {
      "cell_type": "code",
      "metadata": {
        "colab": {
          "base_uri": "https://localhost:8080/",
          "height": 206
        },
        "id": "5dBSzAp5cW5w",
        "outputId": "bd99732b-f97e-4e4b-a812-aacda09d3782"
      },
      "source": [
        "# Import the ratings dataset\n",
        "ratings = pd.read_csv('ml-latest-small/ratings.csv')\n",
        "ratings.head()"
      ],
      "execution_count": 4,
      "outputs": [
        {
          "output_type": "execute_result",
          "data": {
            "text/plain": [
              "   userId  movieId  rating  timestamp\n",
              "0       1        1     4.0  964982703\n",
              "1       1        3     4.0  964981247\n",
              "2       1        6     4.0  964982224\n",
              "3       1       47     5.0  964983815\n",
              "4       1       50     5.0  964982931"
            ],
            "text/html": [
              "\n",
              "  <div id=\"df-47ffae0b-4260-41e3-8347-38bb511259ca\" class=\"colab-df-container\">\n",
              "    <div>\n",
              "<style scoped>\n",
              "    .dataframe tbody tr th:only-of-type {\n",
              "        vertical-align: middle;\n",
              "    }\n",
              "\n",
              "    .dataframe tbody tr th {\n",
              "        vertical-align: top;\n",
              "    }\n",
              "\n",
              "    .dataframe thead th {\n",
              "        text-align: right;\n",
              "    }\n",
              "</style>\n",
              "<table border=\"1\" class=\"dataframe\">\n",
              "  <thead>\n",
              "    <tr style=\"text-align: right;\">\n",
              "      <th></th>\n",
              "      <th>userId</th>\n",
              "      <th>movieId</th>\n",
              "      <th>rating</th>\n",
              "      <th>timestamp</th>\n",
              "    </tr>\n",
              "  </thead>\n",
              "  <tbody>\n",
              "    <tr>\n",
              "      <th>0</th>\n",
              "      <td>1</td>\n",
              "      <td>1</td>\n",
              "      <td>4.0</td>\n",
              "      <td>964982703</td>\n",
              "    </tr>\n",
              "    <tr>\n",
              "      <th>1</th>\n",
              "      <td>1</td>\n",
              "      <td>3</td>\n",
              "      <td>4.0</td>\n",
              "      <td>964981247</td>\n",
              "    </tr>\n",
              "    <tr>\n",
              "      <th>2</th>\n",
              "      <td>1</td>\n",
              "      <td>6</td>\n",
              "      <td>4.0</td>\n",
              "      <td>964982224</td>\n",
              "    </tr>\n",
              "    <tr>\n",
              "      <th>3</th>\n",
              "      <td>1</td>\n",
              "      <td>47</td>\n",
              "      <td>5.0</td>\n",
              "      <td>964983815</td>\n",
              "    </tr>\n",
              "    <tr>\n",
              "      <th>4</th>\n",
              "      <td>1</td>\n",
              "      <td>50</td>\n",
              "      <td>5.0</td>\n",
              "      <td>964982931</td>\n",
              "    </tr>\n",
              "  </tbody>\n",
              "</table>\n",
              "</div>\n",
              "    <div class=\"colab-df-buttons\">\n",
              "\n",
              "  <div class=\"colab-df-container\">\n",
              "    <button class=\"colab-df-convert\" onclick=\"convertToInteractive('df-47ffae0b-4260-41e3-8347-38bb511259ca')\"\n",
              "            title=\"Convert this dataframe to an interactive table.\"\n",
              "            style=\"display:none;\">\n",
              "\n",
              "  <svg xmlns=\"http://www.w3.org/2000/svg\" height=\"24px\" viewBox=\"0 -960 960 960\">\n",
              "    <path d=\"M120-120v-720h720v720H120Zm60-500h600v-160H180v160Zm220 220h160v-160H400v160Zm0 220h160v-160H400v160ZM180-400h160v-160H180v160Zm440 0h160v-160H620v160ZM180-180h160v-160H180v160Zm440 0h160v-160H620v160Z\"/>\n",
              "  </svg>\n",
              "    </button>\n",
              "\n",
              "  <style>\n",
              "    .colab-df-container {\n",
              "      display:flex;\n",
              "      gap: 12px;\n",
              "    }\n",
              "\n",
              "    .colab-df-convert {\n",
              "      background-color: #E8F0FE;\n",
              "      border: none;\n",
              "      border-radius: 50%;\n",
              "      cursor: pointer;\n",
              "      display: none;\n",
              "      fill: #1967D2;\n",
              "      height: 32px;\n",
              "      padding: 0 0 0 0;\n",
              "      width: 32px;\n",
              "    }\n",
              "\n",
              "    .colab-df-convert:hover {\n",
              "      background-color: #E2EBFA;\n",
              "      box-shadow: 0px 1px 2px rgba(60, 64, 67, 0.3), 0px 1px 3px 1px rgba(60, 64, 67, 0.15);\n",
              "      fill: #174EA6;\n",
              "    }\n",
              "\n",
              "    .colab-df-buttons div {\n",
              "      margin-bottom: 4px;\n",
              "    }\n",
              "\n",
              "    [theme=dark] .colab-df-convert {\n",
              "      background-color: #3B4455;\n",
              "      fill: #D2E3FC;\n",
              "    }\n",
              "\n",
              "    [theme=dark] .colab-df-convert:hover {\n",
              "      background-color: #434B5C;\n",
              "      box-shadow: 0px 1px 3px 1px rgba(0, 0, 0, 0.15);\n",
              "      filter: drop-shadow(0px 1px 2px rgba(0, 0, 0, 0.3));\n",
              "      fill: #FFFFFF;\n",
              "    }\n",
              "  </style>\n",
              "\n",
              "    <script>\n",
              "      const buttonEl =\n",
              "        document.querySelector('#df-47ffae0b-4260-41e3-8347-38bb511259ca button.colab-df-convert');\n",
              "      buttonEl.style.display =\n",
              "        google.colab.kernel.accessAllowed ? 'block' : 'none';\n",
              "\n",
              "      async function convertToInteractive(key) {\n",
              "        const element = document.querySelector('#df-47ffae0b-4260-41e3-8347-38bb511259ca');\n",
              "        const dataTable =\n",
              "          await google.colab.kernel.invokeFunction('convertToInteractive',\n",
              "                                                    [key], {});\n",
              "        if (!dataTable) return;\n",
              "\n",
              "        const docLinkHtml = 'Like what you see? Visit the ' +\n",
              "          '<a target=\"_blank\" href=https://colab.research.google.com/notebooks/data_table.ipynb>data table notebook</a>'\n",
              "          + ' to learn more about interactive tables.';\n",
              "        element.innerHTML = '';\n",
              "        dataTable['output_type'] = 'display_data';\n",
              "        await google.colab.output.renderOutput(dataTable, element);\n",
              "        const docLink = document.createElement('div');\n",
              "        docLink.innerHTML = docLinkHtml;\n",
              "        element.appendChild(docLink);\n",
              "      }\n",
              "    </script>\n",
              "  </div>\n",
              "\n",
              "\n",
              "<div id=\"df-33f3f1fd-7074-418c-b2f2-69140ddea2e2\">\n",
              "  <button class=\"colab-df-quickchart\" onclick=\"quickchart('df-33f3f1fd-7074-418c-b2f2-69140ddea2e2')\"\n",
              "            title=\"Suggest charts\"\n",
              "            style=\"display:none;\">\n",
              "\n",
              "<svg xmlns=\"http://www.w3.org/2000/svg\" height=\"24px\"viewBox=\"0 0 24 24\"\n",
              "     width=\"24px\">\n",
              "    <g>\n",
              "        <path d=\"M19 3H5c-1.1 0-2 .9-2 2v14c0 1.1.9 2 2 2h14c1.1 0 2-.9 2-2V5c0-1.1-.9-2-2-2zM9 17H7v-7h2v7zm4 0h-2V7h2v10zm4 0h-2v-4h2v4z\"/>\n",
              "    </g>\n",
              "</svg>\n",
              "  </button>\n",
              "\n",
              "<style>\n",
              "  .colab-df-quickchart {\n",
              "      --bg-color: #E8F0FE;\n",
              "      --fill-color: #1967D2;\n",
              "      --hover-bg-color: #E2EBFA;\n",
              "      --hover-fill-color: #174EA6;\n",
              "      --disabled-fill-color: #AAA;\n",
              "      --disabled-bg-color: #DDD;\n",
              "  }\n",
              "\n",
              "  [theme=dark] .colab-df-quickchart {\n",
              "      --bg-color: #3B4455;\n",
              "      --fill-color: #D2E3FC;\n",
              "      --hover-bg-color: #434B5C;\n",
              "      --hover-fill-color: #FFFFFF;\n",
              "      --disabled-bg-color: #3B4455;\n",
              "      --disabled-fill-color: #666;\n",
              "  }\n",
              "\n",
              "  .colab-df-quickchart {\n",
              "    background-color: var(--bg-color);\n",
              "    border: none;\n",
              "    border-radius: 50%;\n",
              "    cursor: pointer;\n",
              "    display: none;\n",
              "    fill: var(--fill-color);\n",
              "    height: 32px;\n",
              "    padding: 0;\n",
              "    width: 32px;\n",
              "  }\n",
              "\n",
              "  .colab-df-quickchart:hover {\n",
              "    background-color: var(--hover-bg-color);\n",
              "    box-shadow: 0 1px 2px rgba(60, 64, 67, 0.3), 0 1px 3px 1px rgba(60, 64, 67, 0.15);\n",
              "    fill: var(--button-hover-fill-color);\n",
              "  }\n",
              "\n",
              "  .colab-df-quickchart-complete:disabled,\n",
              "  .colab-df-quickchart-complete:disabled:hover {\n",
              "    background-color: var(--disabled-bg-color);\n",
              "    fill: var(--disabled-fill-color);\n",
              "    box-shadow: none;\n",
              "  }\n",
              "\n",
              "  .colab-df-spinner {\n",
              "    border: 2px solid var(--fill-color);\n",
              "    border-color: transparent;\n",
              "    border-bottom-color: var(--fill-color);\n",
              "    animation:\n",
              "      spin 1s steps(1) infinite;\n",
              "  }\n",
              "\n",
              "  @keyframes spin {\n",
              "    0% {\n",
              "      border-color: transparent;\n",
              "      border-bottom-color: var(--fill-color);\n",
              "      border-left-color: var(--fill-color);\n",
              "    }\n",
              "    20% {\n",
              "      border-color: transparent;\n",
              "      border-left-color: var(--fill-color);\n",
              "      border-top-color: var(--fill-color);\n",
              "    }\n",
              "    30% {\n",
              "      border-color: transparent;\n",
              "      border-left-color: var(--fill-color);\n",
              "      border-top-color: var(--fill-color);\n",
              "      border-right-color: var(--fill-color);\n",
              "    }\n",
              "    40% {\n",
              "      border-color: transparent;\n",
              "      border-right-color: var(--fill-color);\n",
              "      border-top-color: var(--fill-color);\n",
              "    }\n",
              "    60% {\n",
              "      border-color: transparent;\n",
              "      border-right-color: var(--fill-color);\n",
              "    }\n",
              "    80% {\n",
              "      border-color: transparent;\n",
              "      border-right-color: var(--fill-color);\n",
              "      border-bottom-color: var(--fill-color);\n",
              "    }\n",
              "    90% {\n",
              "      border-color: transparent;\n",
              "      border-bottom-color: var(--fill-color);\n",
              "    }\n",
              "  }\n",
              "</style>\n",
              "\n",
              "  <script>\n",
              "    async function quickchart(key) {\n",
              "      const quickchartButtonEl =\n",
              "        document.querySelector('#' + key + ' button');\n",
              "      quickchartButtonEl.disabled = true;  // To prevent multiple clicks.\n",
              "      quickchartButtonEl.classList.add('colab-df-spinner');\n",
              "      try {\n",
              "        const charts = await google.colab.kernel.invokeFunction(\n",
              "            'suggestCharts', [key], {});\n",
              "      } catch (error) {\n",
              "        console.error('Error during call to suggestCharts:', error);\n",
              "      }\n",
              "      quickchartButtonEl.classList.remove('colab-df-spinner');\n",
              "      quickchartButtonEl.classList.add('colab-df-quickchart-complete');\n",
              "    }\n",
              "    (() => {\n",
              "      let quickchartButtonEl =\n",
              "        document.querySelector('#df-33f3f1fd-7074-418c-b2f2-69140ddea2e2 button');\n",
              "      quickchartButtonEl.style.display =\n",
              "        google.colab.kernel.accessAllowed ? 'block' : 'none';\n",
              "    })();\n",
              "  </script>\n",
              "</div>\n",
              "\n",
              "    </div>\n",
              "  </div>\n"
            ],
            "application/vnd.google.colaboratory.intrinsic+json": {
              "type": "dataframe",
              "variable_name": "ratings"
            }
          },
          "metadata": {},
          "execution_count": 4
        }
      ]
    },
    {
      "cell_type": "code",
      "metadata": {
        "colab": {
          "base_uri": "https://localhost:8080/"
        },
        "id": "mRRxx1bVcZAr",
        "outputId": "2526ae1b-b3c1-4035-cd7c-f8f58d01514f"
      },
      "source": [
        "# Print the number of records and the total number of movies\n",
        "print('The dataset contains: ', len(ratings), ' ratings of ', len(movies), ' movies.')"
      ],
      "execution_count": 5,
      "outputs": [
        {
          "output_type": "stream",
          "name": "stdout",
          "text": [
            "The dataset contains:  100836  ratings of  9742  movies.\n"
          ]
        }
      ]
    },
    {
      "cell_type": "markdown",
      "metadata": {
        "id": "Ec8LbfpxcfyB"
      },
      "source": [
        "### Romance versus Science Fiction\n",
        "\n",
        "We will start by considering a subset of users and discovering what are their favourite genre. We will do this by defining a function that will calculate each user’s average rating for all science fiction and romance movies."
      ]
    },
    {
      "cell_type": "code",
      "metadata": {
        "colab": {
          "base_uri": "https://localhost:8080/",
          "height": 206
        },
        "id": "ZEiAml47ca7O",
        "outputId": "18e8d8f4-f3ff-46a4-bc80-1973e6aaa4a9"
      },
      "source": [
        "# Function to get the genre ratings\n",
        "def get_genre_ratings(ratings, movies, genres, column_names):\n",
        "    genre_ratings = pd.DataFrame()\n",
        "    for genre in genres:\n",
        "        genre_movies = movies[movies['genres'].str.contains(genre) ]\n",
        "        avg_genre_votes_per_user = ratings[ratings['movieId'].isin(genre_movies['movieId'])].loc[:, ['userId', 'rating']].groupby(['userId'])['rating'].mean().round(2)\n",
        "\n",
        "        genre_ratings = pd.concat([genre_ratings, avg_genre_votes_per_user], axis=1)\n",
        "\n",
        "    genre_ratings.columns = column_names\n",
        "    return genre_ratings# Calculate the average rating of romance and scifi movies\n",
        "genre_ratings = get_genre_ratings(ratings, movies, ['Romance', 'Sci-Fi'], ['avg_romance_rating', 'avg_scifi_rating'])\n",
        "genre_ratings.head()"
      ],
      "execution_count": 6,
      "outputs": [
        {
          "output_type": "execute_result",
          "data": {
            "text/plain": [
              "   avg_romance_rating  avg_scifi_rating\n",
              "1                4.31              4.22\n",
              "2                4.50              3.88\n",
              "3                0.50              4.20\n",
              "4                3.38              2.83\n",
              "5                3.09              2.50"
            ],
            "text/html": [
              "\n",
              "  <div id=\"df-990e3ddd-e76c-4262-a1a9-447ac554fe4d\" class=\"colab-df-container\">\n",
              "    <div>\n",
              "<style scoped>\n",
              "    .dataframe tbody tr th:only-of-type {\n",
              "        vertical-align: middle;\n",
              "    }\n",
              "\n",
              "    .dataframe tbody tr th {\n",
              "        vertical-align: top;\n",
              "    }\n",
              "\n",
              "    .dataframe thead th {\n",
              "        text-align: right;\n",
              "    }\n",
              "</style>\n",
              "<table border=\"1\" class=\"dataframe\">\n",
              "  <thead>\n",
              "    <tr style=\"text-align: right;\">\n",
              "      <th></th>\n",
              "      <th>avg_romance_rating</th>\n",
              "      <th>avg_scifi_rating</th>\n",
              "    </tr>\n",
              "  </thead>\n",
              "  <tbody>\n",
              "    <tr>\n",
              "      <th>1</th>\n",
              "      <td>4.31</td>\n",
              "      <td>4.22</td>\n",
              "    </tr>\n",
              "    <tr>\n",
              "      <th>2</th>\n",
              "      <td>4.50</td>\n",
              "      <td>3.88</td>\n",
              "    </tr>\n",
              "    <tr>\n",
              "      <th>3</th>\n",
              "      <td>0.50</td>\n",
              "      <td>4.20</td>\n",
              "    </tr>\n",
              "    <tr>\n",
              "      <th>4</th>\n",
              "      <td>3.38</td>\n",
              "      <td>2.83</td>\n",
              "    </tr>\n",
              "    <tr>\n",
              "      <th>5</th>\n",
              "      <td>3.09</td>\n",
              "      <td>2.50</td>\n",
              "    </tr>\n",
              "  </tbody>\n",
              "</table>\n",
              "</div>\n",
              "    <div class=\"colab-df-buttons\">\n",
              "\n",
              "  <div class=\"colab-df-container\">\n",
              "    <button class=\"colab-df-convert\" onclick=\"convertToInteractive('df-990e3ddd-e76c-4262-a1a9-447ac554fe4d')\"\n",
              "            title=\"Convert this dataframe to an interactive table.\"\n",
              "            style=\"display:none;\">\n",
              "\n",
              "  <svg xmlns=\"http://www.w3.org/2000/svg\" height=\"24px\" viewBox=\"0 -960 960 960\">\n",
              "    <path d=\"M120-120v-720h720v720H120Zm60-500h600v-160H180v160Zm220 220h160v-160H400v160Zm0 220h160v-160H400v160ZM180-400h160v-160H180v160Zm440 0h160v-160H620v160ZM180-180h160v-160H180v160Zm440 0h160v-160H620v160Z\"/>\n",
              "  </svg>\n",
              "    </button>\n",
              "\n",
              "  <style>\n",
              "    .colab-df-container {\n",
              "      display:flex;\n",
              "      gap: 12px;\n",
              "    }\n",
              "\n",
              "    .colab-df-convert {\n",
              "      background-color: #E8F0FE;\n",
              "      border: none;\n",
              "      border-radius: 50%;\n",
              "      cursor: pointer;\n",
              "      display: none;\n",
              "      fill: #1967D2;\n",
              "      height: 32px;\n",
              "      padding: 0 0 0 0;\n",
              "      width: 32px;\n",
              "    }\n",
              "\n",
              "    .colab-df-convert:hover {\n",
              "      background-color: #E2EBFA;\n",
              "      box-shadow: 0px 1px 2px rgba(60, 64, 67, 0.3), 0px 1px 3px 1px rgba(60, 64, 67, 0.15);\n",
              "      fill: #174EA6;\n",
              "    }\n",
              "\n",
              "    .colab-df-buttons div {\n",
              "      margin-bottom: 4px;\n",
              "    }\n",
              "\n",
              "    [theme=dark] .colab-df-convert {\n",
              "      background-color: #3B4455;\n",
              "      fill: #D2E3FC;\n",
              "    }\n",
              "\n",
              "    [theme=dark] .colab-df-convert:hover {\n",
              "      background-color: #434B5C;\n",
              "      box-shadow: 0px 1px 3px 1px rgba(0, 0, 0, 0.15);\n",
              "      filter: drop-shadow(0px 1px 2px rgba(0, 0, 0, 0.3));\n",
              "      fill: #FFFFFF;\n",
              "    }\n",
              "  </style>\n",
              "\n",
              "    <script>\n",
              "      const buttonEl =\n",
              "        document.querySelector('#df-990e3ddd-e76c-4262-a1a9-447ac554fe4d button.colab-df-convert');\n",
              "      buttonEl.style.display =\n",
              "        google.colab.kernel.accessAllowed ? 'block' : 'none';\n",
              "\n",
              "      async function convertToInteractive(key) {\n",
              "        const element = document.querySelector('#df-990e3ddd-e76c-4262-a1a9-447ac554fe4d');\n",
              "        const dataTable =\n",
              "          await google.colab.kernel.invokeFunction('convertToInteractive',\n",
              "                                                    [key], {});\n",
              "        if (!dataTable) return;\n",
              "\n",
              "        const docLinkHtml = 'Like what you see? Visit the ' +\n",
              "          '<a target=\"_blank\" href=https://colab.research.google.com/notebooks/data_table.ipynb>data table notebook</a>'\n",
              "          + ' to learn more about interactive tables.';\n",
              "        element.innerHTML = '';\n",
              "        dataTable['output_type'] = 'display_data';\n",
              "        await google.colab.output.renderOutput(dataTable, element);\n",
              "        const docLink = document.createElement('div');\n",
              "        docLink.innerHTML = docLinkHtml;\n",
              "        element.appendChild(docLink);\n",
              "      }\n",
              "    </script>\n",
              "  </div>\n",
              "\n",
              "\n",
              "<div id=\"df-852338e9-1f90-47ec-8518-041f0aa96356\">\n",
              "  <button class=\"colab-df-quickchart\" onclick=\"quickchart('df-852338e9-1f90-47ec-8518-041f0aa96356')\"\n",
              "            title=\"Suggest charts\"\n",
              "            style=\"display:none;\">\n",
              "\n",
              "<svg xmlns=\"http://www.w3.org/2000/svg\" height=\"24px\"viewBox=\"0 0 24 24\"\n",
              "     width=\"24px\">\n",
              "    <g>\n",
              "        <path d=\"M19 3H5c-1.1 0-2 .9-2 2v14c0 1.1.9 2 2 2h14c1.1 0 2-.9 2-2V5c0-1.1-.9-2-2-2zM9 17H7v-7h2v7zm4 0h-2V7h2v10zm4 0h-2v-4h2v4z\"/>\n",
              "    </g>\n",
              "</svg>\n",
              "  </button>\n",
              "\n",
              "<style>\n",
              "  .colab-df-quickchart {\n",
              "      --bg-color: #E8F0FE;\n",
              "      --fill-color: #1967D2;\n",
              "      --hover-bg-color: #E2EBFA;\n",
              "      --hover-fill-color: #174EA6;\n",
              "      --disabled-fill-color: #AAA;\n",
              "      --disabled-bg-color: #DDD;\n",
              "  }\n",
              "\n",
              "  [theme=dark] .colab-df-quickchart {\n",
              "      --bg-color: #3B4455;\n",
              "      --fill-color: #D2E3FC;\n",
              "      --hover-bg-color: #434B5C;\n",
              "      --hover-fill-color: #FFFFFF;\n",
              "      --disabled-bg-color: #3B4455;\n",
              "      --disabled-fill-color: #666;\n",
              "  }\n",
              "\n",
              "  .colab-df-quickchart {\n",
              "    background-color: var(--bg-color);\n",
              "    border: none;\n",
              "    border-radius: 50%;\n",
              "    cursor: pointer;\n",
              "    display: none;\n",
              "    fill: var(--fill-color);\n",
              "    height: 32px;\n",
              "    padding: 0;\n",
              "    width: 32px;\n",
              "  }\n",
              "\n",
              "  .colab-df-quickchart:hover {\n",
              "    background-color: var(--hover-bg-color);\n",
              "    box-shadow: 0 1px 2px rgba(60, 64, 67, 0.3), 0 1px 3px 1px rgba(60, 64, 67, 0.15);\n",
              "    fill: var(--button-hover-fill-color);\n",
              "  }\n",
              "\n",
              "  .colab-df-quickchart-complete:disabled,\n",
              "  .colab-df-quickchart-complete:disabled:hover {\n",
              "    background-color: var(--disabled-bg-color);\n",
              "    fill: var(--disabled-fill-color);\n",
              "    box-shadow: none;\n",
              "  }\n",
              "\n",
              "  .colab-df-spinner {\n",
              "    border: 2px solid var(--fill-color);\n",
              "    border-color: transparent;\n",
              "    border-bottom-color: var(--fill-color);\n",
              "    animation:\n",
              "      spin 1s steps(1) infinite;\n",
              "  }\n",
              "\n",
              "  @keyframes spin {\n",
              "    0% {\n",
              "      border-color: transparent;\n",
              "      border-bottom-color: var(--fill-color);\n",
              "      border-left-color: var(--fill-color);\n",
              "    }\n",
              "    20% {\n",
              "      border-color: transparent;\n",
              "      border-left-color: var(--fill-color);\n",
              "      border-top-color: var(--fill-color);\n",
              "    }\n",
              "    30% {\n",
              "      border-color: transparent;\n",
              "      border-left-color: var(--fill-color);\n",
              "      border-top-color: var(--fill-color);\n",
              "      border-right-color: var(--fill-color);\n",
              "    }\n",
              "    40% {\n",
              "      border-color: transparent;\n",
              "      border-right-color: var(--fill-color);\n",
              "      border-top-color: var(--fill-color);\n",
              "    }\n",
              "    60% {\n",
              "      border-color: transparent;\n",
              "      border-right-color: var(--fill-color);\n",
              "    }\n",
              "    80% {\n",
              "      border-color: transparent;\n",
              "      border-right-color: var(--fill-color);\n",
              "      border-bottom-color: var(--fill-color);\n",
              "    }\n",
              "    90% {\n",
              "      border-color: transparent;\n",
              "      border-bottom-color: var(--fill-color);\n",
              "    }\n",
              "  }\n",
              "</style>\n",
              "\n",
              "  <script>\n",
              "    async function quickchart(key) {\n",
              "      const quickchartButtonEl =\n",
              "        document.querySelector('#' + key + ' button');\n",
              "      quickchartButtonEl.disabled = true;  // To prevent multiple clicks.\n",
              "      quickchartButtonEl.classList.add('colab-df-spinner');\n",
              "      try {\n",
              "        const charts = await google.colab.kernel.invokeFunction(\n",
              "            'suggestCharts', [key], {});\n",
              "      } catch (error) {\n",
              "        console.error('Error during call to suggestCharts:', error);\n",
              "      }\n",
              "      quickchartButtonEl.classList.remove('colab-df-spinner');\n",
              "      quickchartButtonEl.classList.add('colab-df-quickchart-complete');\n",
              "    }\n",
              "    (() => {\n",
              "      let quickchartButtonEl =\n",
              "        document.querySelector('#df-852338e9-1f90-47ec-8518-041f0aa96356 button');\n",
              "      quickchartButtonEl.style.display =\n",
              "        google.colab.kernel.accessAllowed ? 'block' : 'none';\n",
              "    })();\n",
              "  </script>\n",
              "</div>\n",
              "\n",
              "    </div>\n",
              "  </div>\n"
            ],
            "application/vnd.google.colaboratory.intrinsic+json": {
              "type": "dataframe",
              "variable_name": "genre_ratings",
              "summary": "{\n  \"name\": \"genre_ratings\",\n  \"rows\": 610,\n  \"fields\": [\n    {\n      \"column\": \"avg_romance_rating\",\n      \"properties\": {\n        \"dtype\": \"number\",\n        \"std\": 0.627960024724498,\n        \"min\": 0.5,\n        \"max\": 5.0,\n        \"num_unique_values\": 186,\n        \"samples\": [\n          3.94,\n          2.44,\n          3.47\n        ],\n        \"semantic_type\": \"\",\n        \"description\": \"\"\n      }\n    },\n    {\n      \"column\": \"avg_scifi_rating\",\n      \"properties\": {\n        \"dtype\": \"number\",\n        \"std\": 0.6830400791007273,\n        \"min\": 0.5,\n        \"max\": 5.0,\n        \"num_unique_values\": 190,\n        \"samples\": [\n          2.27,\n          3.17,\n          4.7\n        ],\n        \"semantic_type\": \"\",\n        \"description\": \"\"\n      }\n    }\n  ]\n}"
            }
          },
          "metadata": {},
          "execution_count": 6
        }
      ]
    },
    {
      "cell_type": "markdown",
      "metadata": {
        "id": "79b5Uz3KcmSu"
      },
      "source": [
        "In order to have a more delimited subset of people to study, we are going to bias our grouping to only get ratings from those users that like either romance or science fiction movies."
      ]
    },
    {
      "cell_type": "code",
      "metadata": {
        "colab": {
          "base_uri": "https://localhost:8080/",
          "height": 223
        },
        "id": "AdiswAdbceds",
        "outputId": "2a012ee6-daf2-4e60-c9d9-c2464b4940a4"
      },
      "source": [
        "# Function to get the biased dataset\n",
        "def bias_genre_rating_dataset(genre_ratings, score_limit_1, score_limit_2):\n",
        "    biased_dataset =    genre_ratings[((genre_ratings['avg_romance_rating'] < score_limit_1 - 0.2) & (genre_ratings['avg_scifi_rating'] > score_limit_2)) | ((genre_ratings['avg_scifi_rating'] < score_limit_1) & (genre_ratings['avg_romance_rating'] > score_limit_2))]\n",
        "    biased_dataset = pd.concat([biased_dataset[:300], genre_ratings[:2]])\n",
        "    biased_dataset = pd.DataFrame(biased_dataset.to_records())\n",
        "    return biased_dataset\n",
        "\n",
        "# Bias the dataset\n",
        "biased_dataset = bias_genre_rating_dataset(genre_ratings, 3.2, 2.5)\n",
        "\n",
        "# Printing the resulting number of records & the head of the dataset\n",
        "print( \"Number of records: \", len(biased_dataset))\n",
        "biased_dataset.head()"
      ],
      "execution_count": 7,
      "outputs": [
        {
          "output_type": "stream",
          "name": "stdout",
          "text": [
            "Number of records:  162\n"
          ]
        },
        {
          "output_type": "execute_result",
          "data": {
            "text/plain": [
              "   index  avg_romance_rating  avg_scifi_rating\n",
              "0      3                0.50              4.20\n",
              "1      4                3.38              2.83\n",
              "2      5                3.09              2.50\n",
              "3      7                2.65              3.15\n",
              "4      9                3.17              3.00"
            ],
            "text/html": [
              "\n",
              "  <div id=\"df-5ac59ac0-da32-4a86-878f-880452ffee9d\" class=\"colab-df-container\">\n",
              "    <div>\n",
              "<style scoped>\n",
              "    .dataframe tbody tr th:only-of-type {\n",
              "        vertical-align: middle;\n",
              "    }\n",
              "\n",
              "    .dataframe tbody tr th {\n",
              "        vertical-align: top;\n",
              "    }\n",
              "\n",
              "    .dataframe thead th {\n",
              "        text-align: right;\n",
              "    }\n",
              "</style>\n",
              "<table border=\"1\" class=\"dataframe\">\n",
              "  <thead>\n",
              "    <tr style=\"text-align: right;\">\n",
              "      <th></th>\n",
              "      <th>index</th>\n",
              "      <th>avg_romance_rating</th>\n",
              "      <th>avg_scifi_rating</th>\n",
              "    </tr>\n",
              "  </thead>\n",
              "  <tbody>\n",
              "    <tr>\n",
              "      <th>0</th>\n",
              "      <td>3</td>\n",
              "      <td>0.50</td>\n",
              "      <td>4.20</td>\n",
              "    </tr>\n",
              "    <tr>\n",
              "      <th>1</th>\n",
              "      <td>4</td>\n",
              "      <td>3.38</td>\n",
              "      <td>2.83</td>\n",
              "    </tr>\n",
              "    <tr>\n",
              "      <th>2</th>\n",
              "      <td>5</td>\n",
              "      <td>3.09</td>\n",
              "      <td>2.50</td>\n",
              "    </tr>\n",
              "    <tr>\n",
              "      <th>3</th>\n",
              "      <td>7</td>\n",
              "      <td>2.65</td>\n",
              "      <td>3.15</td>\n",
              "    </tr>\n",
              "    <tr>\n",
              "      <th>4</th>\n",
              "      <td>9</td>\n",
              "      <td>3.17</td>\n",
              "      <td>3.00</td>\n",
              "    </tr>\n",
              "  </tbody>\n",
              "</table>\n",
              "</div>\n",
              "    <div class=\"colab-df-buttons\">\n",
              "\n",
              "  <div class=\"colab-df-container\">\n",
              "    <button class=\"colab-df-convert\" onclick=\"convertToInteractive('df-5ac59ac0-da32-4a86-878f-880452ffee9d')\"\n",
              "            title=\"Convert this dataframe to an interactive table.\"\n",
              "            style=\"display:none;\">\n",
              "\n",
              "  <svg xmlns=\"http://www.w3.org/2000/svg\" height=\"24px\" viewBox=\"0 -960 960 960\">\n",
              "    <path d=\"M120-120v-720h720v720H120Zm60-500h600v-160H180v160Zm220 220h160v-160H400v160Zm0 220h160v-160H400v160ZM180-400h160v-160H180v160Zm440 0h160v-160H620v160ZM180-180h160v-160H180v160Zm440 0h160v-160H620v160Z\"/>\n",
              "  </svg>\n",
              "    </button>\n",
              "\n",
              "  <style>\n",
              "    .colab-df-container {\n",
              "      display:flex;\n",
              "      gap: 12px;\n",
              "    }\n",
              "\n",
              "    .colab-df-convert {\n",
              "      background-color: #E8F0FE;\n",
              "      border: none;\n",
              "      border-radius: 50%;\n",
              "      cursor: pointer;\n",
              "      display: none;\n",
              "      fill: #1967D2;\n",
              "      height: 32px;\n",
              "      padding: 0 0 0 0;\n",
              "      width: 32px;\n",
              "    }\n",
              "\n",
              "    .colab-df-convert:hover {\n",
              "      background-color: #E2EBFA;\n",
              "      box-shadow: 0px 1px 2px rgba(60, 64, 67, 0.3), 0px 1px 3px 1px rgba(60, 64, 67, 0.15);\n",
              "      fill: #174EA6;\n",
              "    }\n",
              "\n",
              "    .colab-df-buttons div {\n",
              "      margin-bottom: 4px;\n",
              "    }\n",
              "\n",
              "    [theme=dark] .colab-df-convert {\n",
              "      background-color: #3B4455;\n",
              "      fill: #D2E3FC;\n",
              "    }\n",
              "\n",
              "    [theme=dark] .colab-df-convert:hover {\n",
              "      background-color: #434B5C;\n",
              "      box-shadow: 0px 1px 3px 1px rgba(0, 0, 0, 0.15);\n",
              "      filter: drop-shadow(0px 1px 2px rgba(0, 0, 0, 0.3));\n",
              "      fill: #FFFFFF;\n",
              "    }\n",
              "  </style>\n",
              "\n",
              "    <script>\n",
              "      const buttonEl =\n",
              "        document.querySelector('#df-5ac59ac0-da32-4a86-878f-880452ffee9d button.colab-df-convert');\n",
              "      buttonEl.style.display =\n",
              "        google.colab.kernel.accessAllowed ? 'block' : 'none';\n",
              "\n",
              "      async function convertToInteractive(key) {\n",
              "        const element = document.querySelector('#df-5ac59ac0-da32-4a86-878f-880452ffee9d');\n",
              "        const dataTable =\n",
              "          await google.colab.kernel.invokeFunction('convertToInteractive',\n",
              "                                                    [key], {});\n",
              "        if (!dataTable) return;\n",
              "\n",
              "        const docLinkHtml = 'Like what you see? Visit the ' +\n",
              "          '<a target=\"_blank\" href=https://colab.research.google.com/notebooks/data_table.ipynb>data table notebook</a>'\n",
              "          + ' to learn more about interactive tables.';\n",
              "        element.innerHTML = '';\n",
              "        dataTable['output_type'] = 'display_data';\n",
              "        await google.colab.output.renderOutput(dataTable, element);\n",
              "        const docLink = document.createElement('div');\n",
              "        docLink.innerHTML = docLinkHtml;\n",
              "        element.appendChild(docLink);\n",
              "      }\n",
              "    </script>\n",
              "  </div>\n",
              "\n",
              "\n",
              "<div id=\"df-db649ec8-aed0-4cb7-b875-7f3046c8db8c\">\n",
              "  <button class=\"colab-df-quickchart\" onclick=\"quickchart('df-db649ec8-aed0-4cb7-b875-7f3046c8db8c')\"\n",
              "            title=\"Suggest charts\"\n",
              "            style=\"display:none;\">\n",
              "\n",
              "<svg xmlns=\"http://www.w3.org/2000/svg\" height=\"24px\"viewBox=\"0 0 24 24\"\n",
              "     width=\"24px\">\n",
              "    <g>\n",
              "        <path d=\"M19 3H5c-1.1 0-2 .9-2 2v14c0 1.1.9 2 2 2h14c1.1 0 2-.9 2-2V5c0-1.1-.9-2-2-2zM9 17H7v-7h2v7zm4 0h-2V7h2v10zm4 0h-2v-4h2v4z\"/>\n",
              "    </g>\n",
              "</svg>\n",
              "  </button>\n",
              "\n",
              "<style>\n",
              "  .colab-df-quickchart {\n",
              "      --bg-color: #E8F0FE;\n",
              "      --fill-color: #1967D2;\n",
              "      --hover-bg-color: #E2EBFA;\n",
              "      --hover-fill-color: #174EA6;\n",
              "      --disabled-fill-color: #AAA;\n",
              "      --disabled-bg-color: #DDD;\n",
              "  }\n",
              "\n",
              "  [theme=dark] .colab-df-quickchart {\n",
              "      --bg-color: #3B4455;\n",
              "      --fill-color: #D2E3FC;\n",
              "      --hover-bg-color: #434B5C;\n",
              "      --hover-fill-color: #FFFFFF;\n",
              "      --disabled-bg-color: #3B4455;\n",
              "      --disabled-fill-color: #666;\n",
              "  }\n",
              "\n",
              "  .colab-df-quickchart {\n",
              "    background-color: var(--bg-color);\n",
              "    border: none;\n",
              "    border-radius: 50%;\n",
              "    cursor: pointer;\n",
              "    display: none;\n",
              "    fill: var(--fill-color);\n",
              "    height: 32px;\n",
              "    padding: 0;\n",
              "    width: 32px;\n",
              "  }\n",
              "\n",
              "  .colab-df-quickchart:hover {\n",
              "    background-color: var(--hover-bg-color);\n",
              "    box-shadow: 0 1px 2px rgba(60, 64, 67, 0.3), 0 1px 3px 1px rgba(60, 64, 67, 0.15);\n",
              "    fill: var(--button-hover-fill-color);\n",
              "  }\n",
              "\n",
              "  .colab-df-quickchart-complete:disabled,\n",
              "  .colab-df-quickchart-complete:disabled:hover {\n",
              "    background-color: var(--disabled-bg-color);\n",
              "    fill: var(--disabled-fill-color);\n",
              "    box-shadow: none;\n",
              "  }\n",
              "\n",
              "  .colab-df-spinner {\n",
              "    border: 2px solid var(--fill-color);\n",
              "    border-color: transparent;\n",
              "    border-bottom-color: var(--fill-color);\n",
              "    animation:\n",
              "      spin 1s steps(1) infinite;\n",
              "  }\n",
              "\n",
              "  @keyframes spin {\n",
              "    0% {\n",
              "      border-color: transparent;\n",
              "      border-bottom-color: var(--fill-color);\n",
              "      border-left-color: var(--fill-color);\n",
              "    }\n",
              "    20% {\n",
              "      border-color: transparent;\n",
              "      border-left-color: var(--fill-color);\n",
              "      border-top-color: var(--fill-color);\n",
              "    }\n",
              "    30% {\n",
              "      border-color: transparent;\n",
              "      border-left-color: var(--fill-color);\n",
              "      border-top-color: var(--fill-color);\n",
              "      border-right-color: var(--fill-color);\n",
              "    }\n",
              "    40% {\n",
              "      border-color: transparent;\n",
              "      border-right-color: var(--fill-color);\n",
              "      border-top-color: var(--fill-color);\n",
              "    }\n",
              "    60% {\n",
              "      border-color: transparent;\n",
              "      border-right-color: var(--fill-color);\n",
              "    }\n",
              "    80% {\n",
              "      border-color: transparent;\n",
              "      border-right-color: var(--fill-color);\n",
              "      border-bottom-color: var(--fill-color);\n",
              "    }\n",
              "    90% {\n",
              "      border-color: transparent;\n",
              "      border-bottom-color: var(--fill-color);\n",
              "    }\n",
              "  }\n",
              "</style>\n",
              "\n",
              "  <script>\n",
              "    async function quickchart(key) {\n",
              "      const quickchartButtonEl =\n",
              "        document.querySelector('#' + key + ' button');\n",
              "      quickchartButtonEl.disabled = true;  // To prevent multiple clicks.\n",
              "      quickchartButtonEl.classList.add('colab-df-spinner');\n",
              "      try {\n",
              "        const charts = await google.colab.kernel.invokeFunction(\n",
              "            'suggestCharts', [key], {});\n",
              "      } catch (error) {\n",
              "        console.error('Error during call to suggestCharts:', error);\n",
              "      }\n",
              "      quickchartButtonEl.classList.remove('colab-df-spinner');\n",
              "      quickchartButtonEl.classList.add('colab-df-quickchart-complete');\n",
              "    }\n",
              "    (() => {\n",
              "      let quickchartButtonEl =\n",
              "        document.querySelector('#df-db649ec8-aed0-4cb7-b875-7f3046c8db8c button');\n",
              "      quickchartButtonEl.style.display =\n",
              "        google.colab.kernel.accessAllowed ? 'block' : 'none';\n",
              "    })();\n",
              "  </script>\n",
              "</div>\n",
              "\n",
              "    </div>\n",
              "  </div>\n"
            ],
            "application/vnd.google.colaboratory.intrinsic+json": {
              "type": "dataframe",
              "variable_name": "biased_dataset",
              "summary": "{\n  \"name\": \"biased_dataset\",\n  \"rows\": 162,\n  \"fields\": [\n    {\n      \"column\": \"index\",\n      \"properties\": {\n        \"dtype\": \"number\",\n        \"std\": 171,\n        \"min\": 1,\n        \"max\": 609,\n        \"num_unique_values\": 162,\n        \"samples\": [\n          608,\n          373,\n          467\n        ],\n        \"semantic_type\": \"\",\n        \"description\": \"\"\n      }\n    },\n    {\n      \"column\": \"avg_romance_rating\",\n      \"properties\": {\n        \"dtype\": \"number\",\n        \"std\": 0.6343445367739997,\n        \"min\": 0.5,\n        \"max\": 5.0,\n        \"num_unique_values\": 99,\n        \"samples\": [\n          2.85,\n          3.19,\n          3.15\n        ],\n        \"semantic_type\": \"\",\n        \"description\": \"\"\n      }\n    },\n    {\n      \"column\": \"avg_scifi_rating\",\n      \"properties\": {\n        \"dtype\": \"number\",\n        \"std\": 0.6196859107800693,\n        \"min\": 0.5,\n        \"max\": 4.5,\n        \"num_unique_values\": 79,\n        \"samples\": [\n          3.12,\n          4.2,\n          4.19\n        ],\n        \"semantic_type\": \"\",\n        \"description\": \"\"\n      }\n    }\n  ]\n}"
            }
          },
          "metadata": {},
          "execution_count": 7
        }
      ]
    },
    {
      "cell_type": "code",
      "metadata": {
        "colab": {
          "base_uri": "https://localhost:8080/",
          "height": 701
        },
        "id": "MLCoVvz0ctAh",
        "outputId": "2b202ecf-adae-4f64-cd84-3d4528096011"
      },
      "source": [
        "# Defining the scatterplot drawing function\n",
        "def draw_scatterplot(x_data, x_label, y_data, y_label):\n",
        "    fig = plt.figure(figsize=(8,8))\n",
        "    ax = fig.add_subplot(111)\n",
        "    plt.xlim(0, 5)\n",
        "    plt.ylim(0, 5)\n",
        "    ax.set_xlabel(x_label)\n",
        "    ax.set_ylabel(y_label)\n",
        "    ax.scatter(x_data, y_data, s=30)\n",
        "\n",
        "# Plot the scatterplot\n",
        "draw_scatterplot(biased_dataset['avg_scifi_rating'],'Avg scifi rating', biased_dataset['avg_romance_rating'], 'Avg romance rating')"
      ],
      "execution_count": 8,
      "outputs": [
        {
          "output_type": "display_data",
          "data": {
            "text/plain": [
              "<Figure size 800x800 with 1 Axes>"
            ],
            "image/png": "[encoded data removed]"
          },
          "metadata": {}
        }
      ]
    },
    {
      "cell_type": "code",
      "metadata": {
        "colab": {
          "base_uri": "https://localhost:8080/",
          "height": 701
        },
        "id": "LRfknsM1c1Ur",
        "outputId": "c37bc683-db17-45ce-d450-fd6f04397642"
      },
      "source": [
        "# Let's turn our dataset into a list\n",
        "X = biased_dataset[['avg_scifi_rating','avg_romance_rating']].values\n",
        "\n",
        "# Import KMeans\n",
        "from sklearn.cluster import KMeans\n",
        "\n",
        "# Create an instance of KMeans to find two clusters\n",
        "kmeans_1 = KMeans(n_clusters=2)\n",
        "\n",
        "# Use fit_predict to cluster the dataset\n",
        "predictions = kmeans_1.fit_predict(X)\n",
        "\n",
        "# Defining the cluster plotting function\n",
        "def draw_clusters(biased_dataset, predictions, cmap='viridis'):\n",
        "    fig = plt.figure(figsize=(8,8))\n",
        "    ax = fig.add_subplot(111)\n",
        "    plt.xlim(0, 5)\n",
        "    plt.ylim(0, 5)\n",
        "    ax.set_xlabel('Avg scifi rating')\n",
        "    ax.set_ylabel('Avg romance rating')\n",
        "    clustered = pd.concat([biased_dataset.reset_index(), pd.DataFrame({'group':predictions})], axis=1)\n",
        "    plt.scatter(clustered['avg_scifi_rating'], clustered['avg_romance_rating'], c=clustered['group'], s=20, cmap=cmap)\n",
        "\n",
        "# Plot\n",
        "draw_clusters(biased_dataset, predictions)"
      ],
      "execution_count": 9,
      "outputs": [
        {
          "output_type": "display_data",
          "data": {
            "text/plain": [
              "<Figure size 800x800 with 1 Axes>"
            ],
            "image/png": "[encoded data removed]"
          },
          "metadata": {}
        }
      ]
    },
    {
      "cell_type": "code",
      "metadata": {
        "colab": {
          "base_uri": "https://localhost:8080/",
          "height": 701
        },
        "id": "4tVnggzlc-rg",
        "outputId": "a57f1b7e-eb37-4e20-ba38-aa1e1ade831d"
      },
      "source": [
        "# Create an instance of KMeans to find three clusters\n",
        "kmeans_2 = KMeans(n_clusters=3)\n",
        "# Use fit_predict to cluster the dataset\n",
        "predictions_2 = kmeans_2.fit_predict(X)\n",
        "# Plot\n",
        "draw_clusters(biased_dataset, predictions_2)"
      ],
      "execution_count": 10,
      "outputs": [
        {
          "output_type": "display_data",
          "data": {
            "text/plain": [
              "<Figure size 800x800 with 1 Axes>"
            ],
            "image/png": "[encoded data removed]"
          },
          "metadata": {}
        }
      ]
    },
    {
      "cell_type": "markdown",
      "metadata": {
        "id": "Xi5ObyC0dLle"
      },
      "source": [
        "It is evident now that the science-fiction rating has started to come into play:\n",
        "\n",
        "    People who like sci-fi and romance modeately belong to the green group.\n",
        "    People who like scifi but not romance belong to the yello group.\n",
        "    People who like romance but not sci-fi belong to the purple group."
      ]
    },
    {
      "cell_type": "markdown",
      "metadata": {
        "id": "p5w_-jzld_rM"
      },
      "source": [
        "Finding optimal clusters using silhouette score"
      ]
    },
    {
      "cell_type": "code",
      "metadata": {
        "colab": {
          "base_uri": "https://localhost:8080/",
          "height": 405
        },
        "id": "HyzcralUdFxj",
        "outputId": "9c818bb2-32b5-4f32-9989-228cd2696bae"
      },
      "source": [
        "# Selecting our dataset to study\n",
        "df = biased_dataset[['avg_scifi_rating','avg_romance_rating']]\n",
        "\n",
        "# Choose the range of k values to test.\n",
        "# We added a stride of 5 to improve performance. We don't need to calculate the error for every k value\n",
        "possible_k_values = range(2, len(X)+1, 5)\n",
        "\n",
        "# Define function to calculate the clustering errors\n",
        "def clustering_errors(k, data):\n",
        "    kmeans = KMeans(n_clusters=k).fit(data)\n",
        "    predictions = kmeans.predict(data)\n",
        "    #cluster_centers = kmeans.cluster_centers_\n",
        "    # errors = [mean_squared_error(row, cluster_centers[cluster]) for row, cluster in zip(data.values, predictions)]\n",
        "    # return sum(errors)\n",
        "    silhouette_avg = silhouette_score(data, predictions)\n",
        "    return silhouette_avg\n",
        "\n",
        "# Calculate error values for all k values we're interested in\n",
        "errors_per_k = [clustering_errors(k, X) for k in possible_k_values]\n",
        "\n",
        "# Plot the each value of K vs. the silhouette score at that value\n",
        "fig, ax = plt.subplots(figsize=(16, 6))\n",
        "plt.plot(possible_k_values, errors_per_k)\n",
        "\n",
        "# Ticks and grid\n",
        "xticks = np.arange(min(possible_k_values), max(possible_k_values)+1, 5.0)\n",
        "ax.set_xticks(xticks, minor=False)\n",
        "ax.set_xticks(xticks, minor=True)\n",
        "ax.xaxis.grid(True, which='both')\n",
        "yticks = np.arange(round(min(errors_per_k), 2), max(errors_per_k), .05)\n",
        "ax.set_yticks(yticks, minor=False)\n",
        "ax.set_yticks(yticks, minor=True)\n",
        "ax.yaxis.grid(True, which='both')"
      ],
      "execution_count": 11,
      "outputs": [
        {
          "output_type": "stream",
          "name": "stderr",
          "text": [
            "/usr/local/lib/python3.11/dist-packages/sklearn/base.py:1389: ConvergenceWarning: Number of distinct clusters (157) found smaller than n_clusters (162). Possibly due to duplicate points in X.\n",
            "  return fit_method(estimator, *args, **kwargs)\n"
          ]
        },
        {
          "output_type": "display_data",
          "data": {
            "text/plain": [
              "<Figure size 1600x600 with 1 Axes>"
            ],
            "image/png": "[encoded data removed]"
          },
          "metadata": {}
        }
      ]
    },
    {
      "cell_type": "markdown",
      "metadata": {
        "id": "j02Q87YjepyP"
      },
      "source": [
        "We will chose the K = 7 as it is the one that yields the best score and will be easier to visualize.\n",
        "\n"
      ]
    },
    {
      "cell_type": "code",
      "metadata": {
        "id": "lV1yJyAbeWHC",
        "colab": {
          "base_uri": "https://localhost:8080/",
          "height": 701
        },
        "outputId": "50aa5747-42d3-4de0-cf7c-5023a2b5b0c0"
      },
      "source": [
        "# Create an instance of KMeans to find seven clusters\n",
        "kmeans_4 = KMeans(n_clusters=7)\n",
        "# Use fit_predict to cluster the dataset\n",
        "predictions_4 = kmeans_4.fit_predict(X)\n",
        "# Plot\n",
        "draw_clusters(biased_dataset, predictions_4, cmap='Accent')"
      ],
      "execution_count": 12,
      "outputs": [
        {
          "output_type": "display_data",
          "data": {
            "text/plain": [
              "<Figure size 800x800 with 1 Axes>"
            ],
            "image/png": "[encoded data removed]"
          },
          "metadata": {}
        }
      ]
    },
    {
      "cell_type": "markdown",
      "metadata": {
        "id": "Bqqi2h3FfaXs"
      },
      "source": [
        "Up to now, we have only analyzed romance and science-fiction movies. Let us see what happens when adding other genre to our analysis by adding Action movies."
      ]
    },
    {
      "cell_type": "code",
      "metadata": {
        "id": "Wv4ykXxweyrf",
        "colab": {
          "base_uri": "https://localhost:8080/",
          "height": 223
        },
        "outputId": "7b3dc69a-df90-49b0-d445-87f801d92195"
      },
      "source": [
        "# Select our biased dataset and add action genre\n",
        "biased_dataset_3_genres = get_genre_ratings(ratings, movies, ['Romance','Sci-Fi', 'Action'],\n",
        "['avg_romance_rating', 'avg_scifi_rating', 'avg_action_rating'])\n",
        "# Drop null values\n",
        "biased_dataset_3_genres = bias_genre_rating_dataset(biased_dataset_3_genres, 3.2, 2.5).dropna()\n",
        "# Print the number of records and the head of our dataset\n",
        "print( \"Number of records: \", len(biased_dataset_3_genres))\n",
        "biased_dataset_3_genres.head()"
      ],
      "execution_count": 13,
      "outputs": [
        {
          "output_type": "stream",
          "name": "stdout",
          "text": [
            "Number of records:  161\n"
          ]
        },
        {
          "output_type": "execute_result",
          "data": {
            "text/plain": [
              "   index  avg_romance_rating  avg_scifi_rating  avg_action_rating\n",
              "0      3                0.50              4.20               3.57\n",
              "1      4                3.38              2.83               3.32\n",
              "2      5                3.09              2.50               3.11\n",
              "3      7                2.65              3.15               3.26\n",
              "4      9                3.17              3.00               3.12"
            ],
            "text/html": [
              "\n",
              "  <div id=\"df-4079b861-7e99-4e78-aa22-cf1d900031c2\" class=\"colab-df-container\">\n",
              "    <div>\n",
              "<style scoped>\n",
              "    .dataframe tbody tr th:only-of-type {\n",
              "        vertical-align: middle;\n",
              "    }\n",
              "\n",
              "    .dataframe tbody tr th {\n",
              "        vertical-align: top;\n",
              "    }\n",
              "\n",
              "    .dataframe thead th {\n",
              "        text-align: right;\n",
              "    }\n",
              "</style>\n",
              "<table border=\"1\" class=\"dataframe\">\n",
              "  <thead>\n",
              "    <tr style=\"text-align: right;\">\n",
              "      <th></th>\n",
              "      <th>index</th>\n",
              "      <th>avg_romance_rating</th>\n",
              "      <th>avg_scifi_rating</th>\n",
              "      <th>avg_action_rating</th>\n",
              "    </tr>\n",
              "  </thead>\n",
              "  <tbody>\n",
              "    <tr>\n",
              "      <th>0</th>\n",
              "      <td>3</td>\n",
              "      <td>0.50</td>\n",
              "      <td>4.20</td>\n",
              "      <td>3.57</td>\n",
              "    </tr>\n",
              "    <tr>\n",
              "      <th>1</th>\n",
              "      <td>4</td>\n",
              "      <td>3.38</td>\n",
              "      <td>2.83</td>\n",
              "      <td>3.32</td>\n",
              "    </tr>\n",
              "    <tr>\n",
              "      <th>2</th>\n",
              "      <td>5</td>\n",
              "      <td>3.09</td>\n",
              "      <td>2.50</td>\n",
              "      <td>3.11</td>\n",
              "    </tr>\n",
              "    <tr>\n",
              "      <th>3</th>\n",
              "      <td>7</td>\n",
              "      <td>2.65</td>\n",
              "      <td>3.15</td>\n",
              "      <td>3.26</td>\n",
              "    </tr>\n",
              "    <tr>\n",
              "      <th>4</th>\n",
              "      <td>9</td>\n",
              "      <td>3.17</td>\n",
              "      <td>3.00</td>\n",
              "      <td>3.12</td>\n",
              "    </tr>\n",
              "  </tbody>\n",
              "</table>\n",
              "</div>\n",
              "    <div class=\"colab-df-buttons\">\n",
              "\n",
              "  <div class=\"colab-df-container\">\n",
              "    <button class=\"colab-df-convert\" onclick=\"convertToInteractive('df-4079b861-7e99-4e78-aa22-cf1d900031c2')\"\n",
              "            title=\"Convert this dataframe to an interactive table.\"\n",
              "            style=\"display:none;\">\n",
              "\n",
              "  <svg xmlns=\"http://www.w3.org/2000/svg\" height=\"24px\" viewBox=\"0 -960 960 960\">\n",
              "    <path d=\"M120-120v-720h720v720H120Zm60-500h600v-160H180v160Zm220 220h160v-160H400v160Zm0 220h160v-160H400v160ZM180-400h160v-160H180v160Zm440 0h160v-160H620v160ZM180-180h160v-160H180v160Zm440 0h160v-160H620v160Z\"/>\n",
              "  </svg>\n",
              "    </button>\n",
              "\n",
              "  <style>\n",
              "    .colab-df-container {\n",
              "      display:flex;\n",
              "      gap: 12px;\n",
              "    }\n",
              "\n",
              "    .colab-df-convert {\n",
              "      background-color: #E8F0FE;\n",
              "      border: none;\n",
              "      border-radius: 50%;\n",
              "      cursor: pointer;\n",
              "      display: none;\n",
              "      fill: #1967D2;\n",
              "      height: 32px;\n",
              "      padding: 0 0 0 0;\n",
              "      width: 32px;\n",
              "    }\n",
              "\n",
              "    .colab-df-convert:hover {\n",
              "      background-color: #E2EBFA;\n",
              "      box-shadow: 0px 1px 2px rgba(60, 64, 67, 0.3), 0px 1px 3px 1px rgba(60, 64, 67, 0.15);\n",
              "      fill: #174EA6;\n",
              "    }\n",
              "\n",
              "    .colab-df-buttons div {\n",
              "      margin-bottom: 4px;\n",
              "    }\n",
              "\n",
              "    [theme=dark] .colab-df-convert {\n",
              "      background-color: #3B4455;\n",
              "      fill: #D2E3FC;\n",
              "    }\n",
              "\n",
              "    [theme=dark] .colab-df-convert:hover {\n",
              "      background-color: #434B5C;\n",
              "      box-shadow: 0px 1px 3px 1px rgba(0, 0, 0, 0.15);\n",
              "      filter: drop-shadow(0px 1px 2px rgba(0, 0, 0, 0.3));\n",
              "      fill: #FFFFFF;\n",
              "    }\n",
              "  </style>\n",
              "\n",
              "    <script>\n",
              "      const buttonEl =\n",
              "        document.querySelector('#df-4079b861-7e99-4e78-aa22-cf1d900031c2 button.colab-df-convert');\n",
              "      buttonEl.style.display =\n",
              "        google.colab.kernel.accessAllowed ? 'block' : 'none';\n",
              "\n",
              "      async function convertToInteractive(key) {\n",
              "        const element = document.querySelector('#df-4079b861-7e99-4e78-aa22-cf1d900031c2');\n",
              "        const dataTable =\n",
              "          await google.colab.kernel.invokeFunction('convertToInteractive',\n",
              "                                                    [key], {});\n",
              "        if (!dataTable) return;\n",
              "\n",
              "        const docLinkHtml = 'Like what you see? Visit the ' +\n",
              "          '<a target=\"_blank\" href=https://colab.research.google.com/notebooks/data_table.ipynb>data table notebook</a>'\n",
              "          + ' to learn more about interactive tables.';\n",
              "        element.innerHTML = '';\n",
              "        dataTable['output_type'] = 'display_data';\n",
              "        await google.colab.output.renderOutput(dataTable, element);\n",
              "        const docLink = document.createElement('div');\n",
              "        docLink.innerHTML = docLinkHtml;\n",
              "        element.appendChild(docLink);\n",
              "      }\n",
              "    </script>\n",
              "  </div>\n",
              "\n",
              "\n",
              "<div id=\"df-9998099c-eb84-4d23-ad29-ecaf929d55f1\">\n",
              "  <button class=\"colab-df-quickchart\" onclick=\"quickchart('df-9998099c-eb84-4d23-ad29-ecaf929d55f1')\"\n",
              "            title=\"Suggest charts\"\n",
              "            style=\"display:none;\">\n",
              "\n",
              "<svg xmlns=\"http://www.w3.org/2000/svg\" height=\"24px\"viewBox=\"0 0 24 24\"\n",
              "     width=\"24px\">\n",
              "    <g>\n",
              "        <path d=\"M19 3H5c-1.1 0-2 .9-2 2v14c0 1.1.9 2 2 2h14c1.1 0 2-.9 2-2V5c0-1.1-.9-2-2-2zM9 17H7v-7h2v7zm4 0h-2V7h2v10zm4 0h-2v-4h2v4z\"/>\n",
              "    </g>\n",
              "</svg>\n",
              "  </button>\n",
              "\n",
              "<style>\n",
              "  .colab-df-quickchart {\n",
              "      --bg-color: #E8F0FE;\n",
              "      --fill-color: #1967D2;\n",
              "      --hover-bg-color: #E2EBFA;\n",
              "      --hover-fill-color: #174EA6;\n",
              "      --disabled-fill-color: #AAA;\n",
              "      --disabled-bg-color: #DDD;\n",
              "  }\n",
              "\n",
              "  [theme=dark] .colab-df-quickchart {\n",
              "      --bg-color: #3B4455;\n",
              "      --fill-color: #D2E3FC;\n",
              "      --hover-bg-color: #434B5C;\n",
              "      --hover-fill-color: #FFFFFF;\n",
              "      --disabled-bg-color: #3B4455;\n",
              "      --disabled-fill-color: #666;\n",
              "  }\n",
              "\n",
              "  .colab-df-quickchart {\n",
              "    background-color: var(--bg-color);\n",
              "    border: none;\n",
              "    border-radius: 50%;\n",
              "    cursor: pointer;\n",
              "    display: none;\n",
              "    fill: var(--fill-color);\n",
              "    height: 32px;\n",
              "    padding: 0;\n",
              "    width: 32px;\n",
              "  }\n",
              "\n",
              "  .colab-df-quickchart:hover {\n",
              "    background-color: var(--hover-bg-color);\n",
              "    box-shadow: 0 1px 2px rgba(60, 64, 67, 0.3), 0 1px 3px 1px rgba(60, 64, 67, 0.15);\n",
              "    fill: var(--button-hover-fill-color);\n",
              "  }\n",
              "\n",
              "  .colab-df-quickchart-complete:disabled,\n",
              "  .colab-df-quickchart-complete:disabled:hover {\n",
              "    background-color: var(--disabled-bg-color);\n",
              "    fill: var(--disabled-fill-color);\n",
              "    box-shadow: none;\n",
              "  }\n",
              "\n",
              "  .colab-df-spinner {\n",
              "    border: 2px solid var(--fill-color);\n",
              "    border-color: transparent;\n",
              "    border-bottom-color: var(--fill-color);\n",
              "    animation:\n",
              "      spin 1s steps(1) infinite;\n",
              "  }\n",
              "\n",
              "  @keyframes spin {\n",
              "    0% {\n",
              "      border-color: transparent;\n",
              "      border-bottom-color: var(--fill-color);\n",
              "      border-left-color: var(--fill-color);\n",
              "    }\n",
              "    20% {\n",
              "      border-color: transparent;\n",
              "      border-left-color: var(--fill-color);\n",
              "      border-top-color: var(--fill-color);\n",
              "    }\n",
              "    30% {\n",
              "      border-color: transparent;\n",
              "      border-left-color: var(--fill-color);\n",
              "      border-top-color: var(--fill-color);\n",
              "      border-right-color: var(--fill-color);\n",
              "    }\n",
              "    40% {\n",
              "      border-color: transparent;\n",
              "      border-right-color: var(--fill-color);\n",
              "      border-top-color: var(--fill-color);\n",
              "    }\n",
              "    60% {\n",
              "      border-color: transparent;\n",
              "      border-right-color: var(--fill-color);\n",
              "    }\n",
              "    80% {\n",
              "      border-color: transparent;\n",
              "      border-right-color: var(--fill-color);\n",
              "      border-bottom-color: var(--fill-color);\n",
              "    }\n",
              "    90% {\n",
              "      border-color: transparent;\n",
              "      border-bottom-color: var(--fill-color);\n",
              "    }\n",
              "  }\n",
              "</style>\n",
              "\n",
              "  <script>\n",
              "    async function quickchart(key) {\n",
              "      const quickchartButtonEl =\n",
              "        document.querySelector('#' + key + ' button');\n",
              "      quickchartButtonEl.disabled = true;  // To prevent multiple clicks.\n",
              "      quickchartButtonEl.classList.add('colab-df-spinner');\n",
              "      try {\n",
              "        const charts = await google.colab.kernel.invokeFunction(\n",
              "            'suggestCharts', [key], {});\n",
              "      } catch (error) {\n",
              "        console.error('Error during call to suggestCharts:', error);\n",
              "      }\n",
              "      quickchartButtonEl.classList.remove('colab-df-spinner');\n",
              "      quickchartButtonEl.classList.add('colab-df-quickchart-complete');\n",
              "    }\n",
              "    (() => {\n",
              "      let quickchartButtonEl =\n",
              "        document.querySelector('#df-9998099c-eb84-4d23-ad29-ecaf929d55f1 button');\n",
              "      quickchartButtonEl.style.display =\n",
              "        google.colab.kernel.accessAllowed ? 'block' : 'none';\n",
              "    })();\n",
              "  </script>\n",
              "</div>\n",
              "\n",
              "    </div>\n",
              "  </div>\n"
            ],
            "application/vnd.google.colaboratory.intrinsic+json": {
              "type": "dataframe",
              "variable_name": "biased_dataset_3_genres",
              "summary": "{\n  \"name\": \"biased_dataset_3_genres\",\n  \"rows\": 161,\n  \"fields\": [\n    {\n      \"column\": \"index\",\n      \"properties\": {\n        \"dtype\": \"number\",\n        \"std\": 172,\n        \"min\": 1,\n        \"max\": 609,\n        \"num_unique_values\": 161,\n        \"samples\": [\n          365,\n          373,\n          518\n        ],\n        \"semantic_type\": \"\",\n        \"description\": \"\"\n      }\n    },\n    {\n      \"column\": \"avg_romance_rating\",\n      \"properties\": {\n        \"dtype\": \"number\",\n        \"std\": 0.6302727337780839,\n        \"min\": 0.5,\n        \"max\": 5.0,\n        \"num_unique_values\": 98,\n        \"samples\": [\n          2.53,\n          3.19,\n          3.15\n        ],\n        \"semantic_type\": \"\",\n        \"description\": \"\"\n      }\n    },\n    {\n      \"column\": \"avg_scifi_rating\",\n      \"properties\": {\n        \"dtype\": \"number\",\n        \"std\": 0.5923767004866947,\n        \"min\": 0.5,\n        \"max\": 4.5,\n        \"num_unique_values\": 79,\n        \"samples\": [\n          3.12,\n          4.2,\n          4.19\n        ],\n        \"semantic_type\": \"\",\n        \"description\": \"\"\n      }\n    },\n    {\n      \"column\": \"avg_action_rating\",\n      \"properties\": {\n        \"dtype\": \"number\",\n        \"std\": 0.6019997343223862,\n        \"min\": 0.93,\n        \"max\": 4.64,\n        \"num_unique_values\": 100,\n        \"samples\": [\n          2.71,\n          4.17,\n          2.82\n        ],\n        \"semantic_type\": \"\",\n        \"description\": \"\"\n      }\n    }\n  ]\n}"
            }
          },
          "metadata": {},
          "execution_count": 13
        }
      ]
    },
    {
      "cell_type": "code",
      "metadata": {
        "id": "bmxE7OEbfjgH",
        "colab": {
          "base_uri": "https://localhost:8080/",
          "height": 701
        },
        "outputId": "4244f076-c9ff-4a45-95fd-412d04d6ab36"
      },
      "source": [
        "# Turn dataset into a list\n",
        "X_with_action = biased_dataset_3_genres[['avg_scifi_rating','avg_romance_rating','avg_action_rating']].values# Create an instance of KMeans to find seven clusters\n",
        "kmeans_5 = KMeans(n_clusters=7)\n",
        "# Use fit_predict to cluster the dataset\n",
        "predictions_5 = kmeans_5.fit_predict(X_with_action)\n",
        "# Define 3d plotting function\n",
        "def draw_clusters_3d(biased_dataset_3, predictions):\n",
        "    fig = plt.figure(figsize=(8,8))\n",
        "    ax = fig.add_subplot(111)\n",
        "    plt.xlim(0, 5)\n",
        "    plt.ylim(0, 5)\n",
        "    ax.set_xlabel('Avg scifi rating')\n",
        "    ax.set_ylabel('Avg romance rating')\n",
        "    clustered = pd.concat([biased_dataset_3.reset_index(), pd.DataFrame({'group':predictions})], axis=1)\n",
        "    colors = itertools.cycle(plt.rcParams[\"axes.prop_cycle\"].by_key()[\"color\"])\n",
        "    for g in clustered.group.unique():\n",
        "        color = next(colors)\n",
        "        for index, point in clustered[clustered.group == g].iterrows():\n",
        "            if point['avg_action_rating'].astype(float) > 3:\n",
        "                size = 50\n",
        "            else:\n",
        "                size = 15\n",
        "            plt.scatter(point['avg_scifi_rating'],\n",
        "                        point['avg_romance_rating'],\n",
        "                        s=size,\n",
        "                        color=color)# Plot\n",
        "draw_clusters_3d(biased_dataset_3_genres, predictions_5)"
      ],
      "execution_count": 14,
      "outputs": [
        {
          "output_type": "display_data",
          "data": {
            "text/plain": [
              "<Figure size 800x800 with 1 Axes>"
            ],
            "image/png": "[encoded data removed]"
          },
          "metadata": {}
        }
      ]
    },
    {
      "cell_type": "markdown",
      "metadata": {
        "id": "2Upy7G0Ta5MH"
      },
      "source": [
        "The size of the dots represent the ratings of the action movies."
      ]
    },
    {
      "cell_type": "markdown",
      "source": [
        "# Exercise 1\n",
        "\n",
        "## Instead of choosing a n_clusters as 7, play around with different k\n",
        "## Find the optimal no of clusters with 3 genre_ratings data we just created using silhouette score method"
      ],
      "metadata": {
        "id": "AbWq1zNn5gVH"
      }
    },
    {
      "cell_type": "code",
      "source": [
        "# CODE"
      ],
      "metadata": {
        "id": "DzocWXF85cdp"
      },
      "execution_count": 15,
      "outputs": []
    },
    {
      "cell_type": "markdown",
      "metadata": {
        "id": "gzfFJTMJbGCk"
      },
      "source": [
        "### Taking users into consideration"
      ]
    },
    {
      "cell_type": "markdown",
      "metadata": {
        "id": "JahmtB_0f5fd"
      },
      "source": [
        "Once we have seen and understood how the K-Means algorithm group the users by their movie genre preferences, we are going to take a bigger picture of the dataset and explore how users rate individual movies.\n",
        "\n",
        "To do so, we will subset the dataset by ‘userid’ vs ‘user rating’ as follows."
      ]
    },
    {
      "cell_type": "code",
      "metadata": {
        "id": "oy6yk-kxfuxC",
        "colab": {
          "base_uri": "https://localhost:8080/",
          "height": 407
        },
        "outputId": "d7bd9e32-cc1f-4aeb-fef3-887f1f8dc80b"
      },
      "source": [
        "# Merge the two tables then pivot so we have Users X Movies dataframe\n",
        "ratings_title = pd.merge(ratings, movies[['movieId', 'title']], on='movieId' )\n",
        "user_movie_ratings = pd.pivot_table(ratings_title, index='userId', columns= 'title', values='rating')\n",
        "\n",
        "# Print he number of dimensions and a subset of the dataset\n",
        "print('dataset dimensions: ', user_movie_ratings.shape, '\\n\\nSubset example:')\n",
        "user_movie_ratings.iloc[:6, :10]"
      ],
      "execution_count": 16,
      "outputs": [
        {
          "output_type": "stream",
          "name": "stdout",
          "text": [
            "dataset dimensions:  (610, 9719) \n",
            "\n",
            "Subset example:\n"
          ]
        },
        {
          "output_type": "execute_result",
          "data": {
            "text/plain": [
              "title   '71 (2014)  'Hellboy': The Seeds of Creation (2004)  \\\n",
              "userId                                                        \n",
              "1              NaN                                      NaN   \n",
              "2              NaN                                      NaN   \n",
              "3              NaN                                      NaN   \n",
              "4              NaN                                      NaN   \n",
              "5              NaN                                      NaN   \n",
              "6              NaN                                      NaN   \n",
              "\n",
              "title   'Round Midnight (1986)  'Salem's Lot (2004)  \\\n",
              "userId                                                \n",
              "1                          NaN                  NaN   \n",
              "2                          NaN                  NaN   \n",
              "3                          NaN                  NaN   \n",
              "4                          NaN                  NaN   \n",
              "5                          NaN                  NaN   \n",
              "6                          NaN                  NaN   \n",
              "\n",
              "title   'Til There Was You (1997)  'Tis the Season for Love (2015)  \\\n",
              "userId                                                               \n",
              "1                             NaN                              NaN   \n",
              "2                             NaN                              NaN   \n",
              "3                             NaN                              NaN   \n",
              "4                             NaN                              NaN   \n",
              "5                             NaN                              NaN   \n",
              "6                             NaN                              NaN   \n",
              "\n",
              "title   'burbs, The (1989)  'night Mother (1986)  (500) Days of Summer (2009)  \\\n",
              "userId                                                                          \n",
              "1                      NaN                   NaN                          NaN   \n",
              "2                      NaN                   NaN                          NaN   \n",
              "3                      NaN                   NaN                          NaN   \n",
              "4                      NaN                   NaN                          NaN   \n",
              "5                      NaN                   NaN                          NaN   \n",
              "6                      NaN                   NaN                          NaN   \n",
              "\n",
              "title   *batteries not included (1987)  \n",
              "userId                                  \n",
              "1                                  NaN  \n",
              "2                                  NaN  \n",
              "3                                  NaN  \n",
              "4                                  NaN  \n",
              "5                                  NaN  \n",
              "6                                  NaN  "
            ],
            "text/html": [
              "\n",
              "  <div id=\"df-316cb9f3-fcbd-4f0c-90da-78638606a07a\" class=\"colab-df-container\">\n",
              "    <div>\n",
              "<style scoped>\n",
              "    .dataframe tbody tr th:only-of-type {\n",
              "        vertical-align: middle;\n",
              "    }\n",
              "\n",
              "    .dataframe tbody tr th {\n",
              "        vertical-align: top;\n",
              "    }\n",
              "\n",
              "    .dataframe thead th {\n",
              "        text-align: right;\n",
              "    }\n",
              "</style>\n",
              "<table border=\"1\" class=\"dataframe\">\n",
              "  <thead>\n",
              "    <tr style=\"text-align: right;\">\n",
              "      <th>title</th>\n",
              "      <th>'71 (2014)</th>\n",
              "      <th>'Hellboy': The Seeds of Creation (2004)</th>\n",
              "      <th>'Round Midnight (1986)</th>\n",
              "      <th>'Salem's Lot (2004)</th>\n",
              "      <th>'Til There Was You (1997)</th>\n",
              "      <th>'Tis the Season for Love (2015)</th>\n",
              "      <th>'burbs, The (1989)</th>\n",
              "      <th>'night Mother (1986)</th>\n",
              "      <th>(500) Days of Summer (2009)</th>\n",
              "      <th>*batteries not included (1987)</th>\n",
              "    </tr>\n",
              "    <tr>\n",
              "      <th>userId</th>\n",
              "      <th></th>\n",
              "      <th></th>\n",
              "      <th></th>\n",
              "      <th></th>\n",
              "      <th></th>\n",
              "      <th></th>\n",
              "      <th></th>\n",
              "      <th></th>\n",
              "      <th></th>\n",
              "      <th></th>\n",
              "    </tr>\n",
              "  </thead>\n",
              "  <tbody>\n",
              "    <tr>\n",
              "      <th>1</th>\n",
              "      <td>NaN</td>\n",
              "      <td>NaN</td>\n",
              "      <td>NaN</td>\n",
              "      <td>NaN</td>\n",
              "      <td>NaN</td>\n",
              "      <td>NaN</td>\n",
              "      <td>NaN</td>\n",
              "      <td>NaN</td>\n",
              "      <td>NaN</td>\n",
              "      <td>NaN</td>\n",
              "    </tr>\n",
              "    <tr>\n",
              "      <th>2</th>\n",
              "      <td>NaN</td>\n",
              "      <td>NaN</td>\n",
              "      <td>NaN</td>\n",
              "      <td>NaN</td>\n",
              "      <td>NaN</td>\n",
              "      <td>NaN</td>\n",
              "      <td>NaN</td>\n",
              "      <td>NaN</td>\n",
              "      <td>NaN</td>\n",
              "      <td>NaN</td>\n",
              "    </tr>\n",
              "    <tr>\n",
              "      <th>3</th>\n",
              "      <td>NaN</td>\n",
              "      <td>NaN</td>\n",
              "      <td>NaN</td>\n",
              "      <td>NaN</td>\n",
              "      <td>NaN</td>\n",
              "      <td>NaN</td>\n",
              "      <td>NaN</td>\n",
              "      <td>NaN</td>\n",
              "      <td>NaN</td>\n",
              "      <td>NaN</td>\n",
              "    </tr>\n",
              "    <tr>\n",
              "      <th>4</th>\n",
              "      <td>NaN</td>\n",
              "      <td>NaN</td>\n",
              "      <td>NaN</td>\n",
              "      <td>NaN</td>\n",
              "      <td>NaN</td>\n",
              "      <td>NaN</td>\n",
              "      <td>NaN</td>\n",
              "      <td>NaN</td>\n",
              "      <td>NaN</td>\n",
              "      <td>NaN</td>\n",
              "    </tr>\n",
              "    <tr>\n",
              "      <th>5</th>\n",
              "      <td>NaN</td>\n",
              "      <td>NaN</td>\n",
              "      <td>NaN</td>\n",
              "      <td>NaN</td>\n",
              "      <td>NaN</td>\n",
              "      <td>NaN</td>\n",
              "      <td>NaN</td>\n",
              "      <td>NaN</td>\n",
              "      <td>NaN</td>\n",
              "      <td>NaN</td>\n",
              "    </tr>\n",
              "    <tr>\n",
              "      <th>6</th>\n",
              "      <td>NaN</td>\n",
              "      <td>NaN</td>\n",
              "      <td>NaN</td>\n",
              "      <td>NaN</td>\n",
              "      <td>NaN</td>\n",
              "      <td>NaN</td>\n",
              "      <td>NaN</td>\n",
              "      <td>NaN</td>\n",
              "      <td>NaN</td>\n",
              "      <td>NaN</td>\n",
              "    </tr>\n",
              "  </tbody>\n",
              "</table>\n",
              "</div>\n",
              "    <div class=\"colab-df-buttons\">\n",
              "\n",
              "  <div class=\"colab-df-container\">\n",
              "    <button class=\"colab-df-convert\" onclick=\"convertToInteractive('df-316cb9f3-fcbd-4f0c-90da-78638606a07a')\"\n",
              "            title=\"Convert this dataframe to an interactive table.\"\n",
              "            style=\"display:none;\">\n",
              "\n",
              "  <svg xmlns=\"http://www.w3.org/2000/svg\" height=\"24px\" viewBox=\"0 -960 960 960\">\n",
              "    <path d=\"M120-120v-720h720v720H120Zm60-500h600v-160H180v160Zm220 220h160v-160H400v160Zm0 220h160v-160H400v160ZM180-400h160v-160H180v160Zm440 0h160v-160H620v160ZM180-180h160v-160H180v160Zm440 0h160v-160H620v160Z\"/>\n",
              "  </svg>\n",
              "    </button>\n",
              "\n",
              "  <style>\n",
              "    .colab-df-container {\n",
              "      display:flex;\n",
              "      gap: 12px;\n",
              "    }\n",
              "\n",
              "    .colab-df-convert {\n",
              "      background-color: #E8F0FE;\n",
              "      border: none;\n",
              "      border-radius: 50%;\n",
              "      cursor: pointer;\n",
              "      display: none;\n",
              "      fill: #1967D2;\n",
              "      height: 32px;\n",
              "      padding: 0 0 0 0;\n",
              "      width: 32px;\n",
              "    }\n",
              "\n",
              "    .colab-df-convert:hover {\n",
              "      background-color: #E2EBFA;\n",
              "      box-shadow: 0px 1px 2px rgba(60, 64, 67, 0.3), 0px 1px 3px 1px rgba(60, 64, 67, 0.15);\n",
              "      fill: #174EA6;\n",
              "    }\n",
              "\n",
              "    .colab-df-buttons div {\n",
              "      margin-bottom: 4px;\n",
              "    }\n",
              "\n",
              "    [theme=dark] .colab-df-convert {\n",
              "      background-color: #3B4455;\n",
              "      fill: #D2E3FC;\n",
              "    }\n",
              "\n",
              "    [theme=dark] .colab-df-convert:hover {\n",
              "      background-color: #434B5C;\n",
              "      box-shadow: 0px 1px 3px 1px rgba(0, 0, 0, 0.15);\n",
              "      filter: drop-shadow(0px 1px 2px rgba(0, 0, 0, 0.3));\n",
              "      fill: #FFFFFF;\n",
              "    }\n",
              "  </style>\n",
              "\n",
              "    <script>\n",
              "      const buttonEl =\n",
              "        document.querySelector('#df-316cb9f3-fcbd-4f0c-90da-78638606a07a button.colab-df-convert');\n",
              "      buttonEl.style.display =\n",
              "        google.colab.kernel.accessAllowed ? 'block' : 'none';\n",
              "\n",
              "      async function convertToInteractive(key) {\n",
              "        const element = document.querySelector('#df-316cb9f3-fcbd-4f0c-90da-78638606a07a');\n",
              "        const dataTable =\n",
              "          await google.colab.kernel.invokeFunction('convertToInteractive',\n",
              "                                                    [key], {});\n",
              "        if (!dataTable) return;\n",
              "\n",
              "        const docLinkHtml = 'Like what you see? Visit the ' +\n",
              "          '<a target=\"_blank\" href=https://colab.research.google.com/notebooks/data_table.ipynb>data table notebook</a>'\n",
              "          + ' to learn more about interactive tables.';\n",
              "        element.innerHTML = '';\n",
              "        dataTable['output_type'] = 'display_data';\n",
              "        await google.colab.output.renderOutput(dataTable, element);\n",
              "        const docLink = document.createElement('div');\n",
              "        docLink.innerHTML = docLinkHtml;\n",
              "        element.appendChild(docLink);\n",
              "      }\n",
              "    </script>\n",
              "  </div>\n",
              "\n",
              "\n",
              "<div id=\"df-50722783-a751-42de-a080-1f7b5e1509de\">\n",
              "  <button class=\"colab-df-quickchart\" onclick=\"quickchart('df-50722783-a751-42de-a080-1f7b5e1509de')\"\n",
              "            title=\"Suggest charts\"\n",
              "            style=\"display:none;\">\n",
              "\n",
              "<svg xmlns=\"http://www.w3.org/2000/svg\" height=\"24px\"viewBox=\"0 0 24 24\"\n",
              "     width=\"24px\">\n",
              "    <g>\n",
              "        <path d=\"M19 3H5c-1.1 0-2 .9-2 2v14c0 1.1.9 2 2 2h14c1.1 0 2-.9 2-2V5c0-1.1-.9-2-2-2zM9 17H7v-7h2v7zm4 0h-2V7h2v10zm4 0h-2v-4h2v4z\"/>\n",
              "    </g>\n",
              "</svg>\n",
              "  </button>\n",
              "\n",
              "<style>\n",
              "  .colab-df-quickchart {\n",
              "      --bg-color: #E8F0FE;\n",
              "      --fill-color: #1967D2;\n",
              "      --hover-bg-color: #E2EBFA;\n",
              "      --hover-fill-color: #174EA6;\n",
              "      --disabled-fill-color: #AAA;\n",
              "      --disabled-bg-color: #DDD;\n",
              "  }\n",
              "\n",
              "  [theme=dark] .colab-df-quickchart {\n",
              "      --bg-color: #3B4455;\n",
              "      --fill-color: #D2E3FC;\n",
              "      --hover-bg-color: #434B5C;\n",
              "      --hover-fill-color: #FFFFFF;\n",
              "      --disabled-bg-color: #3B4455;\n",
              "      --disabled-fill-color: #666;\n",
              "  }\n",
              "\n",
              "  .colab-df-quickchart {\n",
              "    background-color: var(--bg-color);\n",
              "    border: none;\n",
              "    border-radius: 50%;\n",
              "    cursor: pointer;\n",
              "    display: none;\n",
              "    fill: var(--fill-color);\n",
              "    height: 32px;\n",
              "    padding: 0;\n",
              "    width: 32px;\n",
              "  }\n",
              "\n",
              "  .colab-df-quickchart:hover {\n",
              "    background-color: var(--hover-bg-color);\n",
              "    box-shadow: 0 1px 2px rgba(60, 64, 67, 0.3), 0 1px 3px 1px rgba(60, 64, 67, 0.15);\n",
              "    fill: var(--button-hover-fill-color);\n",
              "  }\n",
              "\n",
              "  .colab-df-quickchart-complete:disabled,\n",
              "  .colab-df-quickchart-complete:disabled:hover {\n",
              "    background-color: var(--disabled-bg-color);\n",
              "    fill: var(--disabled-fill-color);\n",
              "    box-shadow: none;\n",
              "  }\n",
              "\n",
              "  .colab-df-spinner {\n",
              "    border: 2px solid var(--fill-color);\n",
              "    border-color: transparent;\n",
              "    border-bottom-color: var(--fill-color);\n",
              "    animation:\n",
              "      spin 1s steps(1) infinite;\n",
              "  }\n",
              "\n",
              "  @keyframes spin {\n",
              "    0% {\n",
              "      border-color: transparent;\n",
              "      border-bottom-color: var(--fill-color);\n",
              "      border-left-color: var(--fill-color);\n",
              "    }\n",
              "    20% {\n",
              "      border-color: transparent;\n",
              "      border-left-color: var(--fill-color);\n",
              "      border-top-color: var(--fill-color);\n",
              "    }\n",
              "    30% {\n",
              "      border-color: transparent;\n",
              "      border-left-color: var(--fill-color);\n",
              "      border-top-color: var(--fill-color);\n",
              "      border-right-color: var(--fill-color);\n",
              "    }\n",
              "    40% {\n",
              "      border-color: transparent;\n",
              "      border-right-color: var(--fill-color);\n",
              "      border-top-color: var(--fill-color);\n",
              "    }\n",
              "    60% {\n",
              "      border-color: transparent;\n",
              "      border-right-color: var(--fill-color);\n",
              "    }\n",
              "    80% {\n",
              "      border-color: transparent;\n",
              "      border-right-color: var(--fill-color);\n",
              "      border-bottom-color: var(--fill-color);\n",
              "    }\n",
              "    90% {\n",
              "      border-color: transparent;\n",
              "      border-bottom-color: var(--fill-color);\n",
              "    }\n",
              "  }\n",
              "</style>\n",
              "\n",
              "  <script>\n",
              "    async function quickchart(key) {\n",
              "      const quickchartButtonEl =\n",
              "        document.querySelector('#' + key + ' button');\n",
              "      quickchartButtonEl.disabled = true;  // To prevent multiple clicks.\n",
              "      quickchartButtonEl.classList.add('colab-df-spinner');\n",
              "      try {\n",
              "        const charts = await google.colab.kernel.invokeFunction(\n",
              "            'suggestCharts', [key], {});\n",
              "      } catch (error) {\n",
              "        console.error('Error during call to suggestCharts:', error);\n",
              "      }\n",
              "      quickchartButtonEl.classList.remove('colab-df-spinner');\n",
              "      quickchartButtonEl.classList.add('colab-df-quickchart-complete');\n",
              "    }\n",
              "    (() => {\n",
              "      let quickchartButtonEl =\n",
              "        document.querySelector('#df-50722783-a751-42de-a080-1f7b5e1509de button');\n",
              "      quickchartButtonEl.style.display =\n",
              "        google.colab.kernel.accessAllowed ? 'block' : 'none';\n",
              "    })();\n",
              "  </script>\n",
              "</div>\n",
              "\n",
              "    </div>\n",
              "  </div>\n"
            ],
            "application/vnd.google.colaboratory.intrinsic+json": {
              "type": "dataframe",
              "summary": "{\n  \"name\": \"user_movie_ratings\",\n  \"rows\": 6,\n  \"fields\": [\n    {\n      \"column\": \"userId\",\n      \"properties\": {\n        \"dtype\": \"number\",\n        \"std\": 1,\n        \"min\": 1,\n        \"max\": 6,\n        \"num_unique_values\": 6,\n        \"samples\": [\n          1,\n          2,\n          6\n        ],\n        \"semantic_type\": \"\",\n        \"description\": \"\"\n      }\n    },\n    {\n      \"column\": \"'71 (2014)\",\n      \"properties\": {\n        \"dtype\": \"number\",\n        \"std\": null,\n        \"min\": null,\n        \"max\": null,\n        \"num_unique_values\": 0,\n        \"samples\": [],\n        \"semantic_type\": \"\",\n        \"description\": \"\"\n      }\n    },\n    {\n      \"column\": \"'Hellboy': The Seeds of Creation (2004)\",\n      \"properties\": {\n        \"dtype\": \"number\",\n        \"std\": null,\n        \"min\": null,\n        \"max\": null,\n        \"num_unique_values\": 0,\n        \"samples\": [],\n        \"semantic_type\": \"\",\n        \"description\": \"\"\n      }\n    },\n    {\n      \"column\": \"'Round Midnight (1986)\",\n      \"properties\": {\n        \"dtype\": \"number\",\n        \"std\": null,\n        \"min\": null,\n        \"max\": null,\n        \"num_unique_values\": 0,\n        \"samples\": [],\n        \"semantic_type\": \"\",\n        \"description\": \"\"\n      }\n    },\n    {\n      \"column\": \"'Salem's Lot (2004)\",\n      \"properties\": {\n        \"dtype\": \"number\",\n        \"std\": null,\n        \"min\": null,\n        \"max\": null,\n        \"num_unique_values\": 0,\n        \"samples\": [],\n        \"semantic_type\": \"\",\n        \"description\": \"\"\n      }\n    },\n    {\n      \"column\": \"'Til There Was You (1997)\",\n      \"properties\": {\n        \"dtype\": \"number\",\n        \"std\": null,\n        \"min\": null,\n        \"max\": null,\n        \"num_unique_values\": 0,\n        \"samples\": [],\n        \"semantic_type\": \"\",\n        \"description\": \"\"\n      }\n    },\n    {\n      \"column\": \"'Tis the Season for Love (2015)\",\n      \"properties\": {\n        \"dtype\": \"number\",\n        \"std\": null,\n        \"min\": null,\n        \"max\": null,\n        \"num_unique_values\": 0,\n        \"samples\": [],\n        \"semantic_type\": \"\",\n        \"description\": \"\"\n      }\n    },\n    {\n      \"column\": \"'burbs, The (1989)\",\n      \"properties\": {\n        \"dtype\": \"number\",\n        \"std\": null,\n        \"min\": null,\n        \"max\": null,\n        \"num_unique_values\": 0,\n        \"samples\": [],\n        \"semantic_type\": \"\",\n        \"description\": \"\"\n      }\n    },\n    {\n      \"column\": \"'night Mother (1986)\",\n      \"properties\": {\n        \"dtype\": \"number\",\n        \"std\": null,\n        \"min\": null,\n        \"max\": null,\n        \"num_unique_values\": 0,\n        \"samples\": [],\n        \"semantic_type\": \"\",\n        \"description\": \"\"\n      }\n    },\n    {\n      \"column\": \"(500) Days of Summer (2009)\",\n      \"properties\": {\n        \"dtype\": \"number\",\n        \"std\": null,\n        \"min\": null,\n        \"max\": null,\n        \"num_unique_values\": 0,\n        \"samples\": [],\n        \"semantic_type\": \"\",\n        \"description\": \"\"\n      }\n    },\n    {\n      \"column\": \"*batteries not included (1987)\",\n      \"properties\": {\n        \"dtype\": \"number\",\n        \"std\": null,\n        \"min\": null,\n        \"max\": null,\n        \"num_unique_values\": 0,\n        \"samples\": [],\n        \"semantic_type\": \"\",\n        \"description\": \"\"\n      }\n    }\n  ]\n}"
            }
          },
          "metadata": {},
          "execution_count": 16
        }
      ]
    },
    {
      "cell_type": "code",
      "metadata": {
        "id": "iSB8eHPqf-Xc",
        "colab": {
          "base_uri": "https://localhost:8080/"
        },
        "outputId": "72e45974-549a-4fe3-969b-6b8ec5517423"
      },
      "source": [
        "# Define Function to get the most rated movies\n",
        "import pandas as pd\n",
        "\n",
        "# Define function to get the most-rated movies\n",
        "def get_most_rated_movies(user_movie_ratings, max_number_of_movies):\n",
        "    # Count the number of ratings for each movie (by column)\n",
        "    movie_ratings_count = user_movie_ratings.notnull().sum(axis=0)\n",
        "    # Sort movies by the number of ratings in descending order\n",
        "    sorted_movies = movie_ratings_count.sort_values(ascending=False)\n",
        "    # Select top N movies with the most ratings\n",
        "    most_rated_movies = user_movie_ratings[sorted_movies.index[:max_number_of_movies]]\n",
        "    return most_rated_movies\n",
        "\n",
        "# Define function to get the users who rated the most movies\n",
        "def get_users_who_rate_the_most(most_rated_movies, n_users):\n",
        "    # Count the number of ratings for each user (by row)\n",
        "    user_ratings_count = most_rated_movies.notnull().sum(axis=1)\n",
        "    # Sort users by the number of ratings in descending order\n",
        "    sorted_users = user_ratings_count.sort_values(ascending=False)\n",
        "    # Select top N users who rated the most movies\n",
        "    most_active_users = most_rated_movies.loc[sorted_users.index[:n_users]]\n",
        "    return most_active_users\n",
        "\n",
        "# Define the sorting by rating density function\n",
        "def sort_by_rating_density(user_movie_ratings, n_movies, n_users):\n",
        "    most_rated_movies = get_most_rated_movies(user_movie_ratings, n_movies)\n",
        "    most_rated_movies = get_users_who_rate_the_most(most_rated_movies, n_users)\n",
        "    return most_rated_movies\n",
        "\n",
        "# Example usage\n",
        "# Assuming user_movie_ratings is a pandas DataFrame already loaded\n",
        "n_movies = 30  # Number of most rated movies\n",
        "n_users = 18   # Number of most active users\n",
        "\n",
        "# Run the function\n",
        "most_rated_movies_users_selection = sort_by_rating_density(user_movie_ratings, n_movies, n_users)\n",
        "\n",
        "# Print the result\n",
        "print('Dataset dimensions: ', most_rated_movies_users_selection.shape)\n",
        "print(most_rated_movies_users_selection.head())\n"
      ],
      "execution_count": 18,
      "outputs": [
        {
          "output_type": "stream",
          "name": "stdout",
          "text": [
            "Dataset dimensions:  (18, 30)\n",
            "title   Forrest Gump (1994)  Shawshank Redemption, The (1994)  \\\n",
            "userId                                                          \n",
            "414                     5.0                               5.0   \n",
            "590                     5.0                               4.5   \n",
            "474                     3.0                               5.0   \n",
            "480                     5.0                               5.0   \n",
            "68                      3.5                               3.0   \n",
            "\n",
            "title   Pulp Fiction (1994)  Silence of the Lambs, The (1991)  \\\n",
            "userId                                                          \n",
            "414                     5.0                               4.0   \n",
            "590                     4.5                               3.5   \n",
            "474                     4.0                               4.5   \n",
            "480                     4.0                               4.5   \n",
            "68                      2.0                               3.5   \n",
            "\n",
            "title   Matrix, The (1999)  Star Wars: Episode IV - A New Hope (1977)  \\\n",
            "userId                                                                  \n",
            "414                    5.0                                        5.0   \n",
            "590                    4.0                                        5.0   \n",
            "474                    4.5                                        4.0   \n",
            "480                    5.0                                        4.5   \n",
            "68                     4.5                                        5.0   \n",
            "\n",
            "title   Jurassic Park (1993)  Braveheart (1995)  \\\n",
            "userId                                            \n",
            "414                      4.0                5.0   \n",
            "590                      4.0                4.0   \n",
            "474                      4.5                3.0   \n",
            "480                      5.0                5.0   \n",
            "68                       3.5                2.5   \n",
            "\n",
            "title   Terminator 2: Judgment Day (1991)  Schindler's List (1993)  ...  \\\n",
            "userId                                                              ...   \n",
            "414                                   5.0                      4.0  ...   \n",
            "590                                   4.5                      5.0  ...   \n",
            "474                                   4.0                      5.0  ...   \n",
            "480                                   4.5                      5.0  ...   \n",
            "68                                    3.5                      4.0  ...   \n",
            "\n",
            "title   Star Wars: Episode VI - Return of the Jedi (1983)  \\\n",
            "userId                                                      \n",
            "414                                                   5.0   \n",
            "590                                                   4.5   \n",
            "474                                                   4.0   \n",
            "480                                                   3.5   \n",
            "68                                                    5.0   \n",
            "\n",
            "title   Godfather, The (1972)  Fugitive, The (1993)  Batman (1989)  \\\n",
            "userId                                                               \n",
            "414                       5.0                   5.0            4.0   \n",
            "590                       5.0                   4.0            3.5   \n",
            "474                       5.0                   5.0            4.0   \n",
            "480                       5.0                   3.5            4.5   \n",
            "68                        4.0                   4.5            4.0   \n",
            "\n",
            "title   Saving Private Ryan (1998)  \\\n",
            "userId                               \n",
            "414                            5.0   \n",
            "590                            4.0   \n",
            "474                            3.0   \n",
            "480                            4.5   \n",
            "68                             4.0   \n",
            "\n",
            "title   Lord of the Rings: The Two Towers, The (2002)  \\\n",
            "userId                                                  \n",
            "414                                               5.0   \n",
            "590                                               5.0   \n",
            "474                                               5.0   \n",
            "480                                               4.5   \n",
            "68                                                4.0   \n",
            "\n",
            "title   Lord of the Rings: The Return of the King, The (2003)  Aladdin (1992)  \\\n",
            "userId                                                                          \n",
            "414                                                   4.0                 4.0   \n",
            "590                                                   4.5                 4.0   \n",
            "474                                                   5.0                 4.0   \n",
            "480                                                   4.0                 4.0   \n",
            "68                                                    4.5                 3.5   \n",
            "\n",
            "title   Fargo (1996)  Sixth Sense, The (1999)  \n",
            "userId                                         \n",
            "414              5.0                      3.0  \n",
            "590              4.0                      3.5  \n",
            "474              4.0                      5.0  \n",
            "480              4.0                      4.0  \n",
            "68               2.5                      2.5  \n",
            "\n",
            "[5 rows x 30 columns]\n"
          ]
        }
      ]
    },
    {
      "cell_type": "code",
      "metadata": {
        "id": "tMmuIqVxgGAN",
        "colab": {
          "base_uri": "https://localhost:8080/",
          "height": 445
        },
        "outputId": "7a9cf09e-e18c-4bdb-dd8e-b2a79e149b4a"
      },
      "source": [
        "# Define the plotting heatmap function\n",
        "import matplotlib.pyplot as plt\n",
        "import numpy as np\n",
        "from mpl_toolkits.axes_grid1.axes_divider import make_axes_locatable\n",
        "\n",
        "def draw_movies_heatmap(most_rated_movies_users_selection, axis_labels=True):\n",
        "    # Create figure and axis\n",
        "    fig = plt.figure(figsize=(15, 6))\n",
        "    ax = plt.gca()\n",
        "\n",
        "    # Draw heatmap\n",
        "    heatmap = ax.imshow(most_rated_movies_users_selection, interpolation='nearest', vmin=0, vmax=5, aspect='auto')\n",
        "\n",
        "    if axis_labels:\n",
        "        # Set tick positions and labels\n",
        "        ax.set_yticks(np.arange(most_rated_movies_users_selection.shape[0]))\n",
        "        ax.set_xticks(np.arange(most_rated_movies_users_selection.shape[1]))\n",
        "        ax.invert_yaxis()  # Invert the y-axis to show the first user at the top\n",
        "        ax.xaxis.tick_top()  # Move x-axis ticks to the top\n",
        "\n",
        "        # Format column and row labels\n",
        "        labels = most_rated_movies_users_selection.columns.str[:40]  # Truncate column labels if too long\n",
        "        ax.set_xticklabels(labels, minor=False)\n",
        "        ax.set_yticklabels(most_rated_movies_users_selection.index, minor=False)\n",
        "\n",
        "        # Rotate x-axis labels for better visibility\n",
        "        plt.setp(ax.get_xticklabels(), rotation=90, ha=\"center\", rotation_mode=\"anchor\")\n",
        "    else:\n",
        "        # Hide axis labels if axis_labels is False\n",
        "        ax.get_xaxis().set_visible(False)\n",
        "        ax.get_yaxis().set_visible(False)\n",
        "\n",
        "    # Remove grid lines from heatmap\n",
        "    ax.grid(False)\n",
        "\n",
        "    # Set y-axis label\n",
        "    ax.set_ylabel('User ID')\n",
        "\n",
        "    # Add color bar\n",
        "    divider = make_axes_locatable(ax)\n",
        "    cax = divider.append_axes(\"right\", size=\"5%\", pad=0.05)  # Create an axis for the color bar\n",
        "    cbar = fig.colorbar(heatmap, ticks=[0, 1, 2, 3, 4, 5], cax=cax)\n",
        "    cbar.ax.set_yticklabels(['0 stars', '1 star', '2 stars', '3 stars', '4 stars', '5 stars'])  # Color bar labels\n",
        "\n",
        "    # Show the plot\n",
        "    plt.show()\n",
        "\n",
        "# Example usage:\n",
        "# Assuming `most_rated_movies_users_selection` is a DataFrame (e.g., the result of your previous function)\n",
        "draw_movies_heatmap(most_rated_movies_users_selection)\n"
      ],
      "execution_count": 19,
      "outputs": [
        {
          "output_type": "display_data",
          "data": {
            "text/plain": [
              "<Figure size 1500x600 with 2 Axes>"
            ],
            "image/png": "[encoded data removed]"
          },
          "metadata": {}
        }
      ]
    },
    {
      "cell_type": "code",
      "metadata": {
        "id": "nTdEC1i5hS-M",
        "colab": {
          "base_uri": "https://localhost:8080/"
        },
        "outputId": "bc2cb41a-fee4-44fc-bfb8-c32b0124022a"
      },
      "source": [
        "# Pivot the dataset and choose the first 1000 movies\n",
        "import pandas as pd\n",
        "import numpy as np\n",
        "\n",
        "# Assuming ratings_title is the DataFrame with the raw ratings data\n",
        "# ratings_title should have 'userId', 'title', and 'rating' columns\n",
        "\n",
        "# Create a user-item matrix (pivot table)\n",
        "user_movie_ratings = pd.pivot_table(ratings_title, index='userId', columns='title', values='rating')\n",
        "\n",
        "# Define the function to get most rated movies (top N movies with highest ratings count)\n",
        "def get_most_rated_movies(user_movie_ratings, max_number_of_movies):\n",
        "    # Count the number of ratings for each movie (non-NaN entries in each column)\n",
        "    movie_ratings_count = user_movie_ratings.notnull().sum(axis=0)\n",
        "    # Sort movies by the number of ratings in descending order\n",
        "    sorted_movies = movie_ratings_count.sort_values(ascending=False)\n",
        "    # Select the top N movies with the most ratings\n",
        "    most_rated_movies = user_movie_ratings[sorted_movies.index[:max_number_of_movies]]\n",
        "    return most_rated_movies\n",
        "\n",
        "# Get the top 1000 most rated movies\n",
        "most_rated_movies_1k = get_most_rated_movies(user_movie_ratings, 1000)\n",
        "\n",
        "# Replace NaN values with 0 to indicate unrated movies (if necessary)\n",
        "most_rated_movies_1k = most_rated_movies_1k.fillna(0)\n",
        "\n",
        "# Check the result\n",
        "print(most_rated_movies_1k.head())\n"
      ],
      "execution_count": 20,
      "outputs": [
        {
          "output_type": "stream",
          "name": "stdout",
          "text": [
            "title   Forrest Gump (1994)  Shawshank Redemption, The (1994)  \\\n",
            "userId                                                          \n",
            "1                       4.0                               0.0   \n",
            "2                       0.0                               3.0   \n",
            "3                       0.0                               0.0   \n",
            "4                       0.0                               0.0   \n",
            "5                       0.0                               3.0   \n",
            "\n",
            "title   Pulp Fiction (1994)  Silence of the Lambs, The (1991)  \\\n",
            "userId                                                          \n",
            "1                       3.0                               4.0   \n",
            "2                       0.0                               0.0   \n",
            "3                       0.0                               0.0   \n",
            "4                       1.0                               5.0   \n",
            "5                       5.0                               0.0   \n",
            "\n",
            "title   Matrix, The (1999)  Star Wars: Episode IV - A New Hope (1977)  \\\n",
            "userId                                                                  \n",
            "1                      5.0                                        5.0   \n",
            "2                      0.0                                        0.0   \n",
            "3                      0.0                                        0.0   \n",
            "4                      1.0                                        5.0   \n",
            "5                      0.0                                        0.0   \n",
            "\n",
            "title   Jurassic Park (1993)  Braveheart (1995)  \\\n",
            "userId                                            \n",
            "1                        4.0                4.0   \n",
            "2                        0.0                0.0   \n",
            "3                        0.0                0.0   \n",
            "4                        0.0                0.0   \n",
            "5                        0.0                4.0   \n",
            "\n",
            "title   Terminator 2: Judgment Day (1991)  Schindler's List (1993)  ...  \\\n",
            "userId                                                              ...   \n",
            "1                                     0.0                      5.0  ...   \n",
            "2                                     0.0                      0.0  ...   \n",
            "3                                     0.0                      0.5  ...   \n",
            "4                                     0.0                      0.0  ...   \n",
            "5                                     3.0                      5.0  ...   \n",
            "\n",
            "title   Scary Movie 2 (2001)  About Schmidt (2002)  21 Jump Street (2012)  \\\n",
            "userId                                                                      \n",
            "1                        0.0                   0.0                    0.0   \n",
            "2                        0.0                   0.0                    0.0   \n",
            "3                        0.0                   0.0                    0.0   \n",
            "4                        0.0                   0.0                    0.0   \n",
            "5                        0.0                   0.0                    0.0   \n",
            "\n",
            "title   Cider House Rules, The (1999)  Death Proof (2007)  Moonraker (1979)  \\\n",
            "userId                                                                        \n",
            "1                                 0.0                 0.0               0.0   \n",
            "2                                 0.0                 0.0               0.0   \n",
            "3                                 0.0                 0.0               0.0   \n",
            "4                                 0.0                 0.0               0.0   \n",
            "5                                 0.0                 0.0               0.0   \n",
            "\n",
            "title   Virgin Suicides, The (1999)  ¡Three Amigos! (1986)  \\\n",
            "userId                                                       \n",
            "1                               0.0                    4.0   \n",
            "2                               0.0                    0.0   \n",
            "3                               0.0                    0.0   \n",
            "4                               0.0                    0.0   \n",
            "5                               0.0                    0.0   \n",
            "\n",
            "title   Waking Ned Devine (a.k.a. Waking Ned) (1998)  Jacob's Ladder (1990)  \n",
            "userId                                                                       \n",
            "1                                                0.0                    0.0  \n",
            "2                                                0.0                    0.0  \n",
            "3                                                0.0                    0.0  \n",
            "4                                                4.0                    0.0  \n",
            "5                                                0.0                    0.0  \n",
            "\n",
            "[5 rows x 1000 columns]\n"
          ]
        }
      ]
    },
    {
      "cell_type": "code",
      "metadata": {
        "id": "YMGpCM8SikyB",
        "outputId": "5d6c181e-8c2b-403c-d5f6-abe8d74ce04b",
        "colab": {
          "base_uri": "https://localhost:8080/"
        }
      },
      "source": [
        "from scipy import sparse\n",
        "\n",
        "# Ensure most_rated_movies_1k has no NaN values, replace NaN with 0\n",
        "most_rated_movies_1k = most_rated_movies_1k.fillna(0)\n",
        "\n",
        "# Convert to sparse CSR matrix\n",
        "sparse_ratings = sparse.csr_matrix(most_rated_movies_1k.values)\n",
        "\n",
        "# Check the result (optional)\n",
        "print(sparse_ratings.shape)  # Print the shape of the sparse matrix\n"
      ],
      "execution_count": 21,
      "outputs": [
        {
          "output_type": "stream",
          "name": "stdout",
          "text": [
            "(610, 1000)\n"
          ]
        }
      ]
    },
    {
      "cell_type": "markdown",
      "metadata": {
        "id": "5j6M6TL7j5B7"
      },
      "source": [
        "### Large Scale Clustering"
      ]
    },
    {
      "cell_type": "code",
      "metadata": {
        "id": "pcvHmGnZipva"
      },
      "source": [
        "import pandas as pd\n",
        "from sklearn.cluster import KMeans\n",
        "\n",
        "def get_most_rated_movies(user_movie_ratings, n=1000):\n",
        "    \"\"\"Gets the most rated movies based on the number of ratings.\"\"\"\n",
        "    # Assuming user_movie_ratings is a DataFrame with a 'movie_id' and potentially a 'rating' column.\n",
        "    # Group by 'movie_id' and count the number of ratings.\n",
        "    most_rated = user_movie_ratings.groupby('movie_id')['rating'].count().nlargest(n)  # Or just count if no rating column\n",
        "    return most_rated.index  # return the movie_ids\n",
        "\n",
        "def draw_movie_clusters(clustered, max_users, max_movies):\n",
        "    \"\"\"Draws a heatmap of movie clusters.  (Implementation needed)\"\"\"\n",
        "    # This function needs to be defined based on how you want to visualize.\n",
        "    #  It will likely use matplotlib or seaborn to create the heatmap.\n",
        "    #  It needs to take the 'clustered' DataFrame and the max user/movie limits.\n",
        "    #  It needs to filter the data based on those limits and create the heatmap.\n",
        "    pass # Placeholder – you MUST implement this.\n",
        "\n",
        "\n",
        "def cluster_and_visualize(user_movie_ratings, sparse_ratings, n_clusters=20, max_users=None, max_movies=None):\n",
        "    \"\"\"Clusters movies and visualizes the clusters.\"\"\"\n",
        "\n",
        "    predictions = KMeans(n_clusters=n_clusters, algorithm='full', random_state=42).fit_predict(sparse_ratings)  # Added random_state\n",
        "\n",
        "    most_rated_movies = get_most_rated_movies(user_movie_ratings, 1000)  # Get the most rated movies\n",
        "\n",
        "    clustered = pd.concat([user_movie_ratings[user_movie_ratings['movie_id'].isin(most_rated_movies)].reset_index(drop=True), pd.DataFrame({'group': predictions})], axis=1)\n",
        "\n",
        "    # Filter for top users and movies if specified.  This is crucial for heatmap performance.\n",
        "    if max_users is not None:\n",
        "        top_users = clustered['user_id'].value_counts().nlargest(max_users).index\n",
        "        clustered = clustered[clustered['user_id'].isin(top_users)]\n",
        "\n",
        "    if max_movies is not None:\n",
        "        top_movies = clustered['movie_id'].value_counts().nlargest(max_movies).index\n",
        "        clustered = clustered[clustered['movie_id'].isin(top_movies)]\n",
        "\n",
        "    draw_movie_clusters(clustered, max_users, max_movies)  # Call the visualization function\n",
        "\n",
        "# Example usage (replace with your actual data and sparse matrix):\n",
        "# cluster_and_visualize(user_movie_ratings_df, sparse_ratings_matrix, n_clusters=20, max_users=50, max_movies=50)"
      ],
      "execution_count": 23,
      "outputs": []
    },
    {
      "cell_type": "markdown",
      "metadata": {
        "id": "wr82U3hYo7gg"
      },
      "source": [
        "### Predictions and Recommendation"
      ]
    },
    {
      "cell_type": "code",
      "metadata": {
        "id": "KSx-kAa2j9rJ",
        "colab": {
          "base_uri": "https://localhost:8080/",
          "height": 598
        },
        "outputId": "c62d52c5-7fdd-48a2-9e0b-9372a4a9b260"
      },
      "source": [
        "import pandas as pd\n",
        "import numpy as np\n",
        "import matplotlib.pyplot as plt\n",
        "import seaborn as sns\n",
        "\n",
        "# Assuming you have a function sort_by_rating_density and draw_movies_heatmap defined elsewhere.\n",
        "# If not, you'll need to provide those functions.  I'll include placeholder definitions below.\n",
        "\n",
        "def sort_by_rating_density(df, n_movies, n_users):\n",
        "    \"\"\"Sorts the DataFrame by rating density (placeholder implementation).\"\"\"\n",
        "    # In a real implementation, you would calculate rating density and sort.\n",
        "    # This example just sorts by the first column for demonstration.\n",
        "    return df.sort_values(by=df.columns[0], ascending=False)  # Placeholder\n",
        "\n",
        "def draw_movies_heatmap(df, axis_labels=True):\n",
        "    \"\"\"Draws a heatmap of the movie ratings (placeholder implementation).\"\"\"\n",
        "    plt.figure(figsize=(10, 6))  # Adjust figure size as needed\n",
        "    sns.heatmap(df, cmap=\"YlGnBu\",  # Use a colormap you prefer\n",
        "                linewidths=.5,  # Add spacing between cells\n",
        "                linecolor='black',  # Add line color\n",
        "               cbar_kws={'label': 'Rating'}) # Add colorbar label\n",
        "    if not axis_labels:\n",
        "        plt.xticks([])\n",
        "        plt.yticks([])\n",
        "    plt.title(\"Movie Ratings Heatmap\") # Add a title\n",
        "    plt.show()\n",
        "\n",
        "\n",
        "# Sample Data (replace with your actual 'clustered' DataFrame)\n",
        "# This is crucial for testing the code.  Make sure your real data is in a similar format.\n",
        "data = {'index': range(100), 'group': np.random.randint(0, 15, 100), 'Movie1': np.random.randint(0, 5, 100), 'Movie2': np.random.randint(0, 5, 100), 'Movie3': np.random.randint(0, 5, 100), 'Movie4': np.random.randint(0, 5, 100), 'Movie5': np.random.randint(0, 5, 100)}\n",
        "clustered = pd.DataFrame(data)\n",
        "\n",
        "# Pick a cluster ID\n",
        "cluster_number = 11\n",
        "\n",
        "# Filter the data\n",
        "n_users = 75 # Important: These values should be less than or equal to your data dimensions\n",
        "n_movies = 5 # Number of movies in the sample data.  Adjust if your data has more.\n",
        "\n",
        "cluster = clustered[clustered.group == cluster_number].drop(['index', 'group'], axis=1)\n",
        "\n",
        "# Check if the cluster is empty.  This is a very important step!\n",
        "if cluster.empty:\n",
        "    print(f\"Cluster {cluster_number} is empty.  Please choose a different cluster.\")\n",
        "else:\n",
        "    # Sort and print the cluster\n",
        "    cluster = sort_by_rating_density(cluster, n_movies, n_users)\n",
        "    print(cluster)\n",
        "    draw_movies_heatmap(cluster, axis_labels=False)"
      ],
      "execution_count": 24,
      "outputs": [
        {
          "output_type": "stream",
          "name": "stdout",
          "text": [
            "    Movie1  Movie2  Movie3  Movie4  Movie5\n",
            "0        3       4       2       1       2\n",
            "42       0       4       2       2       0\n",
            "56       0       0       2       2       2\n"
          ]
        },
        {
          "output_type": "display_data",
          "data": {
            "text/plain": [
              "<Figure size 1000x600 with 2 Axes>"
            ],
            "image/png": "[encoded data removed]"
          },
          "metadata": {}
        }
      ]
    },
    {
      "cell_type": "code",
      "metadata": {
        "id": "K1H3vAespxSf",
        "colab": {
          "base_uri": "https://localhost:8080/"
        },
        "outputId": "52d03fb4-2a85-4fc2-cdd4-915849728b2c"
      },
      "source": [
        "# Fill in the name of the column/movie. e.g. 'Forrest Gump (1994)'\n",
        "import pandas as pd\n",
        "import numpy as np\n",
        "\n",
        "# Sample Data (replace with your actual 'cluster' DataFrame)\n",
        "data = {'Matrix, The (1999)': np.random.randint(0, 5, 100), 'Movie2': np.random.randint(0, 5, 100), 'Movie3': np.random.randint(0, 5, 100)}  # Include the movie\n",
        "cluster = pd.DataFrame(data)\n",
        "\n",
        "movie_name = \"Matrix, The (1999)\"\n",
        "\n",
        "# Check if the movie exists in the cluster's columns\n",
        "if movie_name in cluster.columns:\n",
        "    mean_rating = cluster[movie_name].mean()\n",
        "    print(f\"The mean rating for '{movie_name}' in this cluster is: {mean_rating}\")\n",
        "else:\n",
        "    print(f\"Movie '{movie_name}' not found in this cluster.\")\n",
        "\n",
        "\n",
        "# More robust handling of missing data (if applicable)\n",
        "if movie_name in cluster.columns:\n",
        "    # Handle potential missing values (NaNs) more explicitly\n",
        "    mean_rating = cluster[movie_name].dropna().mean() # dropna() to exclude NaN values\n",
        "    if pd.isna(mean_rating): # Check if the mean itself is NaN (e.g., all ratings were NaN)\n",
        "        print(f\"No ratings found for '{movie_name}' in this cluster.\")\n",
        "    else:\n",
        "        print(f\"The mean rating for '{movie_name}' in this cluster is: {mean_rating}\")\n",
        "else:\n",
        "    print(f\"Movie '{movie_name}' not found in this cluster.\")"
      ],
      "execution_count": 25,
      "outputs": [
        {
          "output_type": "stream",
          "name": "stdout",
          "text": [
            "The mean rating for 'Matrix, The (1999)' in this cluster is: 2.04\n",
            "The mean rating for 'Matrix, The (1999)' in this cluster is: 2.04\n"
          ]
        }
      ]
    },
    {
      "cell_type": "code",
      "metadata": {
        "id": "4eaBbILNpsWA",
        "colab": {
          "base_uri": "https://localhost:8080/"
        },
        "outputId": "a0e121c1-7c90-4d04-8358-6ada4d787866"
      },
      "source": [
        "# The average rating of 20 movies as rated by the users in the cluster\n",
        "import pandas as pd\n",
        "import numpy as np\n",
        "\n",
        "# Sample Data (replace with your actual 'cluster' DataFrame)\n",
        "data = {'Matrix, The (1999)': np.random.randint(0, 5, 100), 'Movie2': np.random.randint(0, 5, 100), 'Movie3': np.random.randint(0, 5, 100), 'Movie4': np.nan, 'Movie5': np.random.randint(0,5,100)}  # Include the movie, and some NaNs\n",
        "cluster = pd.DataFrame(data)\n",
        "\n",
        "\n",
        "# Calculate and print the mean of the first 20 columns (or fewer if there are less)\n",
        "num_cols_to_show = min(20, len(cluster.columns))  # Ensure we don't try to access more columns than exist\n",
        "means = cluster.mean().head(num_cols_to_show) # or cluster.mean(skipna=True).head(num_cols_to_show)\n",
        "print(means)\n",
        "\n",
        "# More robust handling of entirely empty dataframes:\n",
        "if not cluster.empty:\n",
        "    num_cols_to_show = min(20, len(cluster.columns))\n",
        "    means = cluster.mean().head(num_cols_to_show)  # or cluster.mean(skipna=True).head(num_cols_to_show)\n",
        "    print(means)\n",
        "else:\n",
        "    print(\"The cluster DataFrame is empty.\")\n",
        "\n",
        "\n",
        "# If you want to ignore NaNs during the mean calculation, use skipna:\n",
        "if not cluster.empty:\n",
        "    num_cols_to_show = min(20, len(cluster.columns))\n",
        "    means = cluster.mean(skipna=True).head(num_cols_to_show) # skipna=True to ignore NaNs\n",
        "    print(means)\n",
        "else:\n",
        "    print(\"The cluster DataFrame is empty.\")"
      ],
      "execution_count": 26,
      "outputs": [
        {
          "output_type": "stream",
          "name": "stdout",
          "text": [
            "Matrix, The (1999)    1.81\n",
            "Movie2                1.71\n",
            "Movie3                2.12\n",
            "Movie4                 NaN\n",
            "Movie5                1.83\n",
            "dtype: float64\n",
            "Matrix, The (1999)    1.81\n",
            "Movie2                1.71\n",
            "Movie3                2.12\n",
            "Movie4                 NaN\n",
            "Movie5                1.83\n",
            "dtype: float64\n",
            "Matrix, The (1999)    1.81\n",
            "Movie2                1.71\n",
            "Movie3                2.12\n",
            "Movie4                 NaN\n",
            "Movie5                1.83\n",
            "dtype: float64\n"
          ]
        }
      ]
    },
    {
      "cell_type": "code",
      "source": [
        "cluster"
      ],
      "metadata": {
        "id": "9JPb15Qizy4Y"
      },
      "execution_count": null,
      "outputs": []
    },
    {
      "cell_type": "code",
      "metadata": {
        "id": "4VKa3_ZiyeGg",
        "colab": {
          "base_uri": "https://localhost:8080/"
        },
        "outputId": "e835acb8-2b81-4430-d200-8adff51c7b78"
      },
      "source": [
        "import pandas as pd\n",
        "import numpy as np\n",
        "\n",
        "# Sample Data (replace with your actual 'cluster' DataFrame)\n",
        "# Important: The index of your DataFrame MUST be user IDs for .loc to work correctly.\n",
        "data = {'Matrix, The (1999)': np.random.randint(0, 5, 100), 'Movie2': np.random.randint(0, 5, 100), 'Movie3': np.random.randint(0, 5, 100), 'Movie4': np.nan, 'Movie5': np.random.randint(0,5,100)}\n",
        "cluster = pd.DataFrame(data, index=range(100)) # Example: User IDs from 0 to 99\n",
        "\n",
        "\n",
        "\n",
        "user_id = 7\n",
        "\n",
        "# Check if the user ID exists in the index\n",
        "if user_id not in cluster.index:\n",
        "    print(f\"User ID {user_id} not found in the cluster DataFrame.\")\n",
        "else:\n",
        "    # Get all this user's ratings\n",
        "    user_ratings = cluster.loc[user_id]  # Corrected: No need for : after user_id\n",
        "\n",
        "    # Which movies did they not rate?\n",
        "    user_unrated_movies = user_ratings[user_ratings.isnull()]\n",
        "\n",
        "    # Check if the user has rated all movies\n",
        "    if user_unrated_movies.empty:\n",
        "      print(f\"User {user_id} has rated all movies\")\n",
        "    else:\n",
        "        # What are the average ratings of these movies the user did not rate?\n",
        "        avg_ratings = cluster.mean(skipna=True)  # Calculate average ratings for all movies\n",
        "\n",
        "        # Filter out rated movies from the average ratings\n",
        "        predicted_ratings = avg_ratings[user_unrated_movies.index] # Use unrated movies as index\n",
        "\n",
        "        # Sort by rating so the highest rated movies are presented first\n",
        "        top_predictions = predicted_ratings.sort_values(ascending=False)[:20]\n",
        "        print(top_predictions)"
      ],
      "execution_count": 27,
      "outputs": [
        {
          "output_type": "stream",
          "name": "stdout",
          "text": [
            "Movie4   NaN\n",
            "dtype: float64\n"
          ]
        }
      ]
    },
    {
      "cell_type": "markdown",
      "metadata": {
        "id": "w4SISKyey5rb"
      },
      "source": [
        "## Using Collaborative Filtering (With fast.ai)"
      ]
    },
    {
      "cell_type": "code",
      "metadata": {
        "id": "Eh_wLcmh4nFi",
        "outputId": "058800a5-f3b5-4e7e-fa89-e7ae14714cb2",
        "colab": {
          "base_uri": "https://localhost:8080/"
        }
      },
      "source": [
        "import subprocess\n",
        "\n",
        "try:\n",
        "    import fastai\n",
        "    print(\"fastai already installed.\")\n",
        "except ImportError:\n",
        "    print(\"fastai not found. Installing...\")\n",
        "    try:\n",
        "        subprocess.run(['pip', 'install', '-Uqq', 'fastai'], check=True)  # Use subprocess for pip\n",
        "        print(\"fastai installed successfully.\")\n",
        "        import fastai # Check if the import now works\n",
        "    except subprocess.CalledProcessError as e:\n",
        "        print(f\"Error installing fastai: {e}\")\n",
        "    except ImportError:\n",
        "        print(\"Installation seemed to succeed, but fastai could not be imported.\")\n",
        "\n",
        "\n",
        "# Or, a slightly more concise version:\n",
        "\n",
        "try:\n",
        "    import fastai\n",
        "    print(\"fastai already installed.\")\n",
        "except ImportError:\n",
        "    print(\"fastai not found. Installing...\")\n",
        "    try:\n",
        "        # Combine the command into a single string\n",
        "        subprocess.run('pip install -Uqq fastai', shell=True, check=True)\n",
        "        print(\"fastai installed successfully.\")\n",
        "        import fastai\n",
        "    except subprocess.CalledProcessError as e:\n",
        "        print(f\"Error installing fastai: {e}\")\n",
        "    except ImportError:\n",
        "        print(\"Installation seemed to succeed, but fastai could not be imported.\")"
      ],
      "execution_count": 28,
      "outputs": [
        {
          "output_type": "stream",
          "name": "stdout",
          "text": [
            "fastai already installed.\n",
            "fastai already installed.\n"
          ]
        }
      ]
    },
    {
      "cell_type": "code",
      "metadata": {
        "id": "_GQhuh1QzBO-",
        "outputId": "edd649e3-4b37-4eb3-9003-99ff471a548b",
        "colab": {
          "base_uri": "https://localhost:8080/"
        }
      },
      "source": [
        "try:\n",
        "    from fastai.tabular.all import *\n",
        "    print(\"fastai.tabular.all imported successfully.\")\n",
        "except ImportError:\n",
        "    print(\"fastai.tabular.all import failed. Please make sure fastai is installed.\")\n",
        "\n",
        "try:\n",
        "    from fastai.collab import *\n",
        "    print(\"fastai.collab imported successfully.\")\n",
        "except ImportError:\n",
        "    print(\"fastai.collab import failed. Please make sure fastai is installed.\")\n",
        "\n",
        "\n",
        "# Or, a more concise version using a loop:\n",
        "\n",
        "modules = [\"fastai.tabular.all\", \"fastai.collab\"]\n",
        "\n",
        "for module in modules:\n",
        "    try:\n",
        "        __import__(module) # Use __import__() to dynamically import the module\n",
        "        print(f\"{module} imported successfully.\")\n",
        "    except ImportError:\n",
        "        print(f\"{module} import failed. Please make sure fastai is installed.\")"
      ],
      "execution_count": 29,
      "outputs": [
        {
          "output_type": "stream",
          "name": "stdout",
          "text": [
            "fastai.tabular.all imported successfully.\n",
            "fastai.collab imported successfully.\n",
            "fastai.tabular.all imported successfully.\n",
            "fastai.collab imported successfully.\n"
          ]
        }
      ]
    },
    {
      "cell_type": "markdown",
      "metadata": {
        "id": "_C6VqNfy5KGG"
      },
      "source": [
        "### Training a model"
      ]
    },
    {
      "cell_type": "markdown",
      "metadata": {
        "id": "vVnoQsA25KGH"
      },
      "source": [
        "For this, we will use the [Movielens 100k data dataset](https://grouplens.org/datasets/movielens/100k/). We can download it easily and decompress it with the following function:"
      ]
    },
    {
      "cell_type": "code",
      "metadata": {
        "id": "WSpPNWVo5KGI",
        "colab": {
          "base_uri": "https://localhost:8080/",
          "height": 89
        },
        "outputId": "79980f29-b772-4c0e-aaea-38057ad27844"
      },
      "source": [
        "from fastai.data.all import *\n",
        "\n",
        "try:\n",
        "    path = untar_data(URLs.ML_100k)\n",
        "    print(f\"ML_100k dataset downloaded and extracted to: {path}\")\n",
        "except Exception as e:  # Catch a broader range of potential errors\n",
        "    print(f\"Error downloading or extracting ML_100k dataset: {e}\")\n",
        "    # Handle the error appropriately.  For example, you might exit the program:\n",
        "    # exit()  # or raise the exception again: raise\n",
        "    # Or you might try a different URL or method to get the data.\n",
        "\n",
        "\n",
        "\n",
        "# More robust version with path checking:\n",
        "from fastai.data.all import *\n",
        "import os\n",
        "\n",
        "try:\n",
        "    path = untar_data(URLs.ML_100k)\n",
        "    print(f\"ML_100k dataset downloaded and extracted to: {path}\")\n",
        "\n",
        "    # Check if the data files are actually there (more verification)\n",
        "    files_to_check = ['u.data', 'u.item', 'u.user'] # Common ML-100k files\n",
        "    data_exists = all(os.path.exists(os.path.join(path, file)) for file in files_to_check)\n",
        "\n",
        "    if data_exists:\n",
        "        print(\"ML_100k data files verified.\")\n",
        "    else:\n",
        "        print(\"Some ML_100k data files are missing.  Download may have been incomplete.\")\n",
        "\n",
        "except Exception as e:\n",
        "    print(f\"Error downloading or extracting ML_100k dataset: {e}\")\n",
        "    # Handle the error as needed (exit, retry, etc.)"
      ],
      "execution_count": 30,
      "outputs": [
        {
          "output_type": "display_data",
          "data": {
            "text/plain": [
              "<IPython.core.display.HTML object>"
            ],
            "text/html": [
              "\n",
              "<style>\n",
              "    /* Turns off some styling */\n",
              "    progress {\n",
              "        /* gets rid of default border in Firefox and Opera. */\n",
              "        border: none;\n",
              "        /* Needs to be in here for Safari polyfill so background images work as expected. */\n",
              "        background-size: auto;\n",
              "    }\n",
              "    progress:not([value]), progress:not([value])::-webkit-progress-bar {\n",
              "        background: repeating-linear-gradient(45deg, #7e7e7e, #7e7e7e 10px, #5c5c5c 10px, #5c5c5c 20px);\n",
              "    }\n",
              "    .progress-bar-interrupted, .progress-bar-interrupted::-webkit-progress-bar {\n",
              "        background: #F44336;\n",
              "    }\n",
              "</style>\n"
            ]
          },
          "metadata": {}
        },
        {
          "output_type": "display_data",
          "data": {
            "text/plain": [
              "<IPython.core.display.HTML object>"
            ],
            "text/html": [
              "\n",
              "    <div>\n",
              "      <progress value='4931584' class='' max='4924029' style='width:300px; height:20px; vertical-align: middle;'></progress>\n",
              "      100.15% [4931584/4924029 00:01&lt;00:00]\n",
              "    </div>\n",
              "    "
            ]
          },
          "metadata": {}
        },
        {
          "output_type": "stream",
          "name": "stdout",
          "text": [
            "ML_100k dataset downloaded and extracted to: /root/.fastai/data/ml-100k\n",
            "ML_100k dataset downloaded and extracted to: /root/.fastai/data/ml-100k\n",
            "ML_100k data files verified.\n"
          ]
        }
      ]
    },
    {
      "cell_type": "markdown",
      "metadata": {
        "id": "_ryXnRG55KGJ"
      },
      "source": [
        "The main table is in `u.data`. Since it's not a proper csv, we have to specify a few things while opening it: the tab delimiter, the columns we want to keep and their names."
      ]
    },
    {
      "cell_type": "code",
      "metadata": {
        "id": "9aIeuyeJ5KGL",
        "colab": {
          "base_uri": "https://localhost:8080/"
        },
        "outputId": "07f6cb0c-73eb-4e87-cd17-8a3f497f9518"
      },
      "source": [
        "import pandas as pd\n",
        "from fastai.data.all import *  # Make sure you've imported the necessary modules\n",
        "\n",
        "try:\n",
        "    path = untar_data(URLs.ML_100k) # Get the path (make sure this succeeded)\n",
        "\n",
        "    ratings = pd.read_csv(path/'u.data', delimiter='\\t', header=None,\n",
        "                            usecols=(0,1,2), names=['user','movie','rating'])\n",
        "    print(\"Ratings data loaded successfully:\")\n",
        "    print(ratings.head())\n",
        "\n",
        "except FileNotFoundError:\n",
        "    print(f\"Error: 'u.data' file not found at {path}.  Make sure the ML_100k dataset was downloaded correctly.\")\n",
        "except Exception as e:  # Catch other potential errors\n",
        "    print(f\"An error occurred while reading the ratings data: {e}\")"
      ],
      "execution_count": 31,
      "outputs": [
        {
          "output_type": "stream",
          "name": "stdout",
          "text": [
            "Ratings data loaded successfully:\n",
            "   user  movie  rating\n",
            "0   196    242       3\n",
            "1   186    302       3\n",
            "2    22    377       1\n",
            "3   244     51       2\n",
            "4   166    346       1\n"
          ]
        }
      ]
    },
    {
      "cell_type": "markdown",
      "metadata": {
        "id": "g0FSMvM05KGP"
      },
      "source": [
        "Movie ids are not ideal to look at things, so we load the corresponding movie id to the title that is in the table `u.item`:"
      ]
    },
    {
      "cell_type": "code",
      "metadata": {
        "id": "y3y_V-da5KGQ",
        "colab": {
          "base_uri": "https://localhost:8080/"
        },
        "outputId": "f1046e7b-8634-43db-b462-225f18cb6eee"
      },
      "source": [
        "import pandas as pd\n",
        "from fastai.data.all import *\n",
        "import os\n",
        "\n",
        "try:\n",
        "    path = untar_data(URLs.ML_100k)  # Ensure path is defined\n",
        "\n",
        "    movies = pd.read_csv(path/'u.item', delimiter='|', encoding='latin-1',\n",
        "                           usecols=(0,1), names=['movie','title'], header=None)\n",
        "\n",
        "    print(\"Movies data loaded successfully:\")\n",
        "    print(movies.head())\n",
        "\n",
        "except FileNotFoundError:\n",
        "    print(f\"Error: 'u.item' file not found at {path}. Make sure the ML_100k dataset was downloaded.\")\n",
        "except UnicodeDecodeError: # Catch encoding issues\n",
        "    print(f\"Error decoding 'u.item'.  Try a different encoding (e.g., 'utf-8'):\")\n",
        "    try:\n",
        "        movies = pd.read_csv(path/'u.item', delimiter='|', encoding='utf-8',\n",
        "                               usecols=(0,1), names=['movie','title'], header=None)\n",
        "        print(\"Movies data loaded successfully (using utf-8):\")\n",
        "        print(movies.head())\n",
        "    except Exception as e:\n",
        "        print(f\"Error decoding with utf-8: {e}\")\n",
        "\n",
        "except Exception as e:\n",
        "    print(f\"An error occurred while reading the movies data: {e}\")\n",
        "\n",
        "\n",
        "# More robust version with file existence check:\n",
        "try:\n",
        "    path = untar_data(URLs.ML_100k)\n",
        "\n",
        "    item_file_path = path/'u.item' # Store path for easy checking\n",
        "    if os.path.exists(item_file_path): # Check file exists before reading\n",
        "        movies = pd.read_csv(item_file_path, delimiter='|', encoding='latin-1',\n",
        "                               usecols=(0,1), names=['movie','title'], header=None)\n",
        "        print(\"Movies data loaded successfully:\")\n",
        "        print(movies.head())\n",
        "    else:\n",
        "        print(f\"Error: 'u.item' file not found at {path}. Make sure the ML_100k dataset was downloaded.\")\n",
        "\n",
        "except UnicodeDecodeError: # Catch encoding issues\n",
        "    print(f\"Error decoding 'u.item'.  Try a different encoding (e.g., 'utf-8'):\")\n",
        "    try:\n",
        "        movies = pd.read_csv(item_file_path, delimiter='|', encoding='utf-8',\n",
        "                               usecols=(0,1), names=['movie','title'], header=None)\n",
        "        print(\"Movies data loaded successfully (using utf-8):\")\n",
        "        print(movies.head())\n",
        "    except Exception as e:\n",
        "        print(f\"Error decoding with utf-8: {e}\")\n",
        "\n",
        "except Exception as e:\n",
        "    print(f\"An error occurred while reading the movies data: {e}\")"
      ],
      "execution_count": 32,
      "outputs": [
        {
          "output_type": "stream",
          "name": "stdout",
          "text": [
            "Movies data loaded successfully:\n",
            "   movie              title\n",
            "0      1   Toy Story (1995)\n",
            "1      2   GoldenEye (1995)\n",
            "2      3  Four Rooms (1995)\n",
            "3      4  Get Shorty (1995)\n",
            "4      5     Copycat (1995)\n",
            "Movies data loaded successfully:\n",
            "   movie              title\n",
            "0      1   Toy Story (1995)\n",
            "1      2   GoldenEye (1995)\n",
            "2      3  Four Rooms (1995)\n",
            "3      4  Get Shorty (1995)\n",
            "4      5     Copycat (1995)\n"
          ]
        }
      ]
    },
    {
      "cell_type": "markdown",
      "metadata": {
        "id": "g11IQqmd5KGR"
      },
      "source": [
        "Next we merge it to our ratings table:"
      ]
    },
    {
      "cell_type": "code",
      "metadata": {
        "id": "eZmPTq285KGT",
        "colab": {
          "base_uri": "https://localhost:8080/"
        },
        "outputId": "ef07953d-24e2-4b05-e8b5-1de2a2997236"
      },
      "source": [
        "import pandas as pd\n",
        "from fastai.data.all import *\n",
        "\n",
        "try:\n",
        "    path = untar_data(URLs.ML_100k)\n",
        "\n",
        "    ratings = pd.read_csv(path/'u.data', delimiter='\\t', header=None,\n",
        "                            usecols=(0,1,2), names=['user','movie','rating'])\n",
        "\n",
        "    movies = pd.read_csv(path/'u.item', delimiter='|', encoding='latin-1',\n",
        "                           usecols=(0,1), names=['movie','title'], header=None)\n",
        "\n",
        "    # Check for duplicate movie IDs before merging\n",
        "    if movies['movie'].duplicated().any():\n",
        "        print(\"Warning: Duplicate movie IDs found in 'u.item'. This can cause issues with the merge.\")\n",
        "        # Investigate the duplicates:\n",
        "        duplicate_movies = movies[movies['movie'].duplicated(keep=False)] # Show all duplicates\n",
        "        print(\"Duplicate Movies:\\n\", duplicate_movies)\n",
        "\n",
        "        # Handle duplicates (e.g., drop them, keep first, etc.)\n",
        "        # Example: Keep the first occurrence of each movie ID\n",
        "        movies = movies.drop_duplicates(subset='movie', keep='first')\n",
        "        print(\"\\nDuplicates removed. Movies DataFrame shape:\", movies.shape)\n",
        "\n",
        "    ratings = ratings.merge(movies, on='movie') # Explicitly specify the join key\n",
        "\n",
        "    print(\"Merged DataFrame:\")\n",
        "    print(ratings.head())\n",
        "\n",
        "except FileNotFoundError:\n",
        "    print(f\"Error: One of the data files not found at {path}. Make sure the ML_100k dataset was downloaded.\")\n",
        "except UnicodeDecodeError:\n",
        "    print(\"Encoding error with 'u.item'. Try 'utf-8'.\")\n",
        "    #... (try utf-8 as before)\n",
        "except KeyError as e: # Catch merge issues\n",
        "    print(f\"KeyError during merge: {e}. Check if the 'movie' column exists in both DataFrames.\")\n",
        "    print(\"Ratings columns:\", ratings.columns)\n",
        "    print(\"Movies columns:\", movies.columns)\n",
        "except Exception as e:\n",
        "    print(f\"An error occurred: {e}\")\n",
        "\n",
        "\n",
        "# Even more robust version with more checks:\n",
        "try:\n",
        "    path = untar_data(URLs.ML_100k)\n",
        "\n",
        "    ratings = pd.read_csv(...) # Load ratings (as before)\n",
        "    movies = pd.read_csv(...) # Load movies (as before, with duplicate check)\n",
        "\n",
        "    # Verify data types *before* the merge\n",
        "    print(\"\\nDataTypes before merge:\")\n",
        "    print(\"Ratings:\\n\", ratings.dtypes)\n",
        "    print(\"Movies:\\n\", movies.dtypes)\n",
        "\n",
        "\n",
        "    if ratings['movie'].dtype!= movies['movie'].dtype:\n",
        "        print(\"Warning: 'movie' columns have different data types. This can cause issues with merging.\")\n",
        "        # Convert to a common type (e.g., int64) if needed:\n",
        "        ratings['movie'] = ratings['movie'].astype('int64')\n",
        "        movies['movie'] = movies['movie'].astype('int64')\n",
        "        print(\"\\n'movie' columns converted to int64.\")\n",
        "\n",
        "    ratings = ratings.merge(movies, on='movie')\n",
        "\n",
        "    print(\"\\nMerged DataFrame:\")\n",
        "    print(ratings.head())\n",
        "\n",
        "\n",
        "    # Verify data types *after* the merge\n",
        "    print(\"\\nDataTypes after merge:\")\n",
        "    print(ratings.dtypes)\n",
        "\n",
        "\n",
        "except Exception as e:\n",
        "    print(f\"An error occurred: {e}\")"
      ],
      "execution_count": 33,
      "outputs": [
        {
          "output_type": "stream",
          "name": "stdout",
          "text": [
            "Merged DataFrame:\n",
            "   user  movie  rating                       title\n",
            "0   196    242       3                Kolya (1996)\n",
            "1   186    302       3    L.A. Confidential (1997)\n",
            "2    22    377       1         Heavyweights (1994)\n",
            "3   244     51       2  Legends of the Fall (1994)\n",
            "4   166    346       1         Jackie Brown (1997)\n",
            "An error occurred: Invalid file path or buffer object type: <class 'ellipsis'>\n"
          ]
        }
      ]
    },
    {
      "cell_type": "markdown",
      "metadata": {
        "id": "PksImdkw5KGV"
      },
      "source": [
        "We can then build a `DataLoaders` object from this table. By default, it takes the first column for user, the second column for the item (here our movies) and the third column for the ratings. We need to change the value of `item_name` in our case, to use the titles instead of the ids:"
      ]
    },
    {
      "cell_type": "code",
      "metadata": {
        "id": "OV-H74uh5KGV",
        "outputId": "096f3a00-3596-455e-dbac-a6fe61502f23",
        "colab": {
          "base_uri": "https://localhost:8080/"
        }
      },
      "source": [
        "import pandas as pd\n",
        "from fastai.data.all import *\n",
        "from fastai.collab import *\n",
        "\n",
        "try:\n",
        "    # ... (Load ratings and movies DataFrames as before, including duplicate and dtype checks)\n",
        "\n",
        "    # Check for NaN values in the 'title' column before creating the DataLoaders\n",
        "    if ratings['title'].isnull().any():\n",
        "        print(\"Warning: NaN values found in the 'title' column. This can cause issues with CollabDataLoaders.\")\n",
        "        # Handle NaN values (e.g., fill with a placeholder, drop rows with NaNs)\n",
        "        # Example: Fill NaN values with \"Unknown\"\n",
        "        ratings['title'] = ratings['title'].fillna(\"Unknown\")\n",
        "        print(\"\\nNaNs in 'title' column filled with 'Unknown'.\")\n",
        "\n",
        "    # Check if 'user' and 'rating' are numeric. If not, convert them.\n",
        "    if not pd.api.types.is_numeric_dtype(ratings['user']):\n",
        "        print(\"Warning: 'user' column is not numeric. Converting to numeric.\")\n",
        "        ratings['user'] = pd.to_numeric(ratings['user'], errors='coerce') # errors='coerce' handles non-numeric values\n",
        "    if not pd.api.types.is_numeric_dtype(ratings['rating']):\n",
        "        print(\"Warning: 'rating' column is not numeric. Converting to numeric.\")\n",
        "        ratings['rating'] = pd.to_numeric(ratings['rating'], errors='coerce')\n",
        "\n",
        "    # Double-check for NaN values *after* conversion\n",
        "    if ratings['user'].isnull().any() or ratings['rating'].isnull().any():\n",
        "        print(\"Warning: NaN values introduced after numeric conversion. Inspect your data.\")\n",
        "        # Handle NaNs (drop rows, fill, etc.) - CRITICAL STEP!\n",
        "        ratings.dropna(subset=['user', 'rating'], inplace=True) # Example: Drop rows with NaN in user or rating\n",
        "        print(\"\\nRows with NaN in 'user' or 'rating' dropped. Updated DataFrame shape:\", ratings.shape)\n",
        "\n",
        "    dls = CollabDataLoaders.from_df(ratings, item_name='title', bs=64)\n",
        "\n",
        "    print(\"CollabDataLoaders created successfully.\")\n",
        "    # You can now inspect the dls object:\n",
        "    print(dls)\n",
        "    print(dls.one_batch()) # See a sample batch of data\n",
        "\n",
        "except Exception as e:\n",
        "    print(f\"An error occurred during CollabDataLoaders creation: {e}\")"
      ],
      "execution_count": 34,
      "outputs": [
        {
          "output_type": "stream",
          "name": "stdout",
          "text": [
            "CollabDataLoaders created successfully.\n",
            "<fastai.tabular.data.TabularDataLoaders object at 0x79c96de608d0>\n",
            "(tensor([[ 194,  552],\n",
            "        [ 478,  320],\n",
            "        [ 882,  592],\n",
            "        [ 224,  767],\n",
            "        [ 398,  798],\n",
            "        [ 409,  983],\n",
            "        [ 276,  417],\n",
            "        [ 650, 1508],\n",
            "        [ 440,  555],\n",
            "        [ 279,  897],\n",
            "        [ 399,  374],\n",
            "        [ 374,  457],\n",
            "        [ 122,  514],\n",
            "        [ 712, 1017],\n",
            "        [ 903, 1098],\n",
            "        [ 284,  539],\n",
            "        [ 615, 1584],\n",
            "        [ 274,  868],\n",
            "        [ 378,  392],\n",
            "        [ 379,  774],\n",
            "        [  60,  635],\n",
            "        [ 222,  291],\n",
            "        [ 769,  771],\n",
            "        [ 301, 1433],\n",
            "        [ 194,  506],\n",
            "        [ 536,  374],\n",
            "        [ 548,  554],\n",
            "        [ 665, 1275],\n",
            "        [ 821,  571],\n",
            "        [ 499, 1133],\n",
            "        [ 136,  965],\n",
            "        [  90,  447],\n",
            "        [  43,  145],\n",
            "        [ 168, 1019],\n",
            "        [ 606, 1245],\n",
            "        [  70,  714],\n",
            "        [ 385,  456],\n",
            "        [  76, 1370],\n",
            "        [ 714,  735],\n",
            "        [ 393,  907],\n",
            "        [ 282,  349],\n",
            "        [  87,  123],\n",
            "        [ 221, 1544],\n",
            "        [ 275,  301],\n",
            "        [ 535, 1417],\n",
            "        [ 727,  613],\n",
            "        [ 314, 1506],\n",
            "        [ 758,  573],\n",
            "        [  25,  573],\n",
            "        [ 347, 1548],\n",
            "        [ 889, 1369],\n",
            "        [ 504,  861],\n",
            "        [  38, 1451],\n",
            "        [ 115, 1525],\n",
            "        [ 284,  824],\n",
            "        [ 585, 1311],\n",
            "        [ 194, 1395],\n",
            "        [ 610,  274],\n",
            "        [ 943,  390],\n",
            "        [ 654,   22],\n",
            "        [  62,  593],\n",
            "        [ 269, 1022],\n",
            "        [ 135, 1179],\n",
            "        [ 682, 1460]]), tensor([[4],\n",
            "        [4],\n",
            "        [4],\n",
            "        [3],\n",
            "        [5],\n",
            "        [1],\n",
            "        [4],\n",
            "        [4],\n",
            "        [4],\n",
            "        [3],\n",
            "        [4],\n",
            "        [3],\n",
            "        [4],\n",
            "        [4],\n",
            "        [4],\n",
            "        [4],\n",
            "        [4],\n",
            "        [4],\n",
            "        [3],\n",
            "        [5],\n",
            "        [4],\n",
            "        [3],\n",
            "        [3],\n",
            "        [5],\n",
            "        [1],\n",
            "        [3],\n",
            "        [1],\n",
            "        [4],\n",
            "        [5],\n",
            "        [5],\n",
            "        [3],\n",
            "        [5],\n",
            "        [3],\n",
            "        [2],\n",
            "        [4],\n",
            "        [3],\n",
            "        [2],\n",
            "        [2],\n",
            "        [2],\n",
            "        [3],\n",
            "        [1],\n",
            "        [5],\n",
            "        [4],\n",
            "        [3],\n",
            "        [5],\n",
            "        [4],\n",
            "        [3],\n",
            "        [4],\n",
            "        [4],\n",
            "        [4],\n",
            "        [2],\n",
            "        [2],\n",
            "        [1],\n",
            "        [5],\n",
            "        [3],\n",
            "        [4],\n",
            "        [1],\n",
            "        [5],\n",
            "        [3],\n",
            "        [3],\n",
            "        [2],\n",
            "        [2],\n",
            "        [4],\n",
            "        [1]], dtype=torch.int8))\n"
          ]
        }
      ]
    },
    {
      "cell_type": "markdown",
      "metadata": {
        "id": "nyK3Sy9L5KGW"
      },
      "source": [
        "In all applications, when the data has been assembled in a `DataLoaders`, you can have a look at it with the `show_batch` method:"
      ]
    },
    {
      "cell_type": "code",
      "metadata": {
        "id": "U07N7Tue5KGW",
        "colab": {
          "base_uri": "https://localhost:8080/",
          "height": 675
        },
        "outputId": "d91ebec5-470e-46ec-938a-9d68a6204ce8"
      },
      "source": [
        "from fastai.data.all import *\n",
        "from fastai.collab import *\n",
        "import pandas as pd\n",
        "\n",
        "#... (Load your ratings DataFrame as before, ensuring proper handling of NaNs and data types)\n",
        "\n",
        "dls = CollabDataLoaders.from_df(ratings, item_name='title', bs=64)\n",
        "\n",
        "try:\n",
        "    print(\"Showing a batch from the DataLoaders:\")\n",
        "    batch = dls.one_batch()  # Get a batch of data\n",
        "\n",
        "    print(\"Batch type:\", type(batch)) # What kind of object is the batch?\n",
        "    print(\"Batch length:\", len(batch)) # How many elements does it contain?\n",
        "\n",
        "    # Print the shapes and types of the elements in the batch:\n",
        "    for i, tensor in enumerate(batch):\n",
        "        print(f\"Element {i}: Shape: {tensor.shape}, Type: {tensor.dtype}\")\n",
        "        if tensor.ndim > 1: # If it's a 2D tensor (like the ratings), print some values\n",
        "          print(f\"First few rows of element {i}:\\n{tensor[:5]}\") # Print first 5 rows\n",
        "\n",
        "\n",
        "    dls.show_batch() # Try to show the batch (this might still fail if there are issues)\n",
        "\n",
        "except Exception as e:\n",
        "    print(f\"An error occurred while showing the batch: {e}\")\n",
        "\n",
        "# If dls.show_batch() still causes issues, try this alternative to inspect the data more directly:\n",
        "try:\n",
        "    batch = dls.one_batch()\n",
        "    users, items, ratings = batch  # Unpack the batch (assuming it has 3 elements)\n",
        "\n",
        "    print(\"Users (first few):\\n\", users[:10])  # Print the first few user IDs\n",
        "    print(\"Items (first few):\\n\", items[:10])  # Print the first few item IDs (encoded)\n",
        "    print(\"Ratings (first few):\\n\", ratings[:10])  # Print the first few ratings\n",
        "\n",
        "    # Decode item IDs back to titles (if possible):\n",
        "    if hasattr(dls, 'classes') and len(dls.classes) > 1: # Check if classes exist\n",
        "        decoded_items = [dls.classes['title'][item_id] for item_id in items[:10]]\n",
        "        print(\"Decoded Items (first few):\\n\", decoded_items)\n",
        "\n",
        "except Exception as e:\n",
        "    print(f\"An error occurred while inspecting the batch: {e}\")"
      ],
      "execution_count": 40,
      "outputs": [
        {
          "output_type": "stream",
          "name": "stdout",
          "text": [
            "Showing a batch from the DataLoaders:\n",
            "Batch type: <class 'tuple'>\n",
            "Batch length: 2\n",
            "Element 0: Shape: torch.Size([64, 2]), Type: torch.int64\n",
            "First few rows of element 0:\n",
            "tensor([[626, 379],\n",
            "        [276, 439],\n",
            "        [896, 472],\n",
            "        [148, 714],\n",
            "        [500, 227]])\n",
            "Element 1: Shape: torch.Size([64, 1]), Type: torch.int8\n",
            "First few rows of element 1:\n",
            "tensor([[1],\n",
            "        [2],\n",
            "        [2],\n",
            "        [5],\n",
            "        [5]], dtype=torch.int8)\n"
          ]
        },
        {
          "output_type": "display_data",
          "data": {
            "text/plain": [
              "<IPython.core.display.HTML object>"
            ],
            "text/html": [
              "<table border=\"1\" class=\"dataframe\">\n",
              "  <thead>\n",
              "    <tr style=\"text-align: right;\">\n",
              "      <th></th>\n",
              "      <th>user</th>\n",
              "      <th>title</th>\n",
              "      <th>rating</th>\n",
              "    </tr>\n",
              "  </thead>\n",
              "  <tbody>\n",
              "    <tr>\n",
              "      <th>0</th>\n",
              "      <td>620</td>\n",
              "      <td>Crucible, The (1996)</td>\n",
              "      <td>3</td>\n",
              "    </tr>\n",
              "    <tr>\n",
              "      <th>1</th>\n",
              "      <td>21</td>\n",
              "      <td>Frisk (1995)</td>\n",
              "      <td>3</td>\n",
              "    </tr>\n",
              "    <tr>\n",
              "      <th>2</th>\n",
              "      <td>130</td>\n",
              "      <td>Swingers (1996)</td>\n",
              "      <td>5</td>\n",
              "    </tr>\n",
              "    <tr>\n",
              "      <th>3</th>\n",
              "      <td>49</td>\n",
              "      <td>Like Water For Chocolate (Como agua para chocolate) (1992)</td>\n",
              "      <td>2</td>\n",
              "    </tr>\n",
              "    <tr>\n",
              "      <th>4</th>\n",
              "      <td>594</td>\n",
              "      <td>Postino, Il (1994)</td>\n",
              "      <td>4</td>\n",
              "    </tr>\n",
              "    <tr>\n",
              "      <th>5</th>\n",
              "      <td>804</td>\n",
              "      <td>Tales from the Crypt Presents: Bordello of Blood (1996)</td>\n",
              "      <td>4</td>\n",
              "    </tr>\n",
              "    <tr>\n",
              "      <th>6</th>\n",
              "      <td>555</td>\n",
              "      <td>Lost World: Jurassic Park, The (1997)</td>\n",
              "      <td>5</td>\n",
              "    </tr>\n",
              "    <tr>\n",
              "      <th>7</th>\n",
              "      <td>481</td>\n",
              "      <td>Star Wars (1977)</td>\n",
              "      <td>4</td>\n",
              "    </tr>\n",
              "    <tr>\n",
              "      <th>8</th>\n",
              "      <td>535</td>\n",
              "      <td>Clerks (1994)</td>\n",
              "      <td>3</td>\n",
              "    </tr>\n",
              "    <tr>\n",
              "      <th>9</th>\n",
              "      <td>295</td>\n",
              "      <td>Much Ado About Nothing (1993)</td>\n",
              "      <td>5</td>\n",
              "    </tr>\n",
              "  </tbody>\n",
              "</table>"
            ]
          },
          "metadata": {}
        },
        {
          "output_type": "stream",
          "name": "stdout",
          "text": [
            "An error occurred while inspecting the batch: not enough values to unpack (expected 3, got 2)\n"
          ]
        }
      ]
    },
    {
      "cell_type": "markdown",
      "metadata": {
        "id": "cMiAsrvW5KGY"
      },
      "source": [
        "fastai can create and train a collaborative filtering model by using `collab_learner`:"
      ]
    },
    {
      "cell_type": "code",
      "metadata": {
        "id": "0rXePHqS5KGY",
        "outputId": "942e75c1-e7c2-4242-8b18-6c15a8c81e55",
        "colab": {
          "base_uri": "https://localhost:8080/"
        }
      },
      "source": [
        "from fastai.collab import *\n",
        "\n",
        "# ... (Your code to create the dls object)\n",
        "\n",
        "try:\n",
        "    learn = collab_learner(dls, n_factors=50, y_range=(0, 5.5))\n",
        "\n",
        "    print(\"Collab learner created successfully.\")\n",
        "\n",
        "    # 1. Check learner attributes:\n",
        "    print(\"Learner model:\", learn.model) # What kind of model was created?\n",
        "    print(\"Number of factors:\", learn.n_factors) # Are the factors set correctly?\n",
        "    print(\"Y range:\", learn.y_range) # Is the y range set correctly?\n",
        "    print(\"DataLoaders:\", learn.dls) # Are the dataloaders associated correctly?\n",
        "\n",
        "    # 2. Try a simple training cycle:\n",
        "    print(\"\\nTrying a short training cycle (1 epoch):\")\n",
        "    learn.fit(1) # Try fitting for one epoch\n",
        "\n",
        "    # 3. Check for gradients (after a training step):\n",
        "    print(\"\\nChecking for gradients after training:\")\n",
        "    for param in learn.model.parameters():\n",
        "        if param.grad is not None:\n",
        "            print(\"Gradients found.\")\n",
        "            break  # No need to check further if one param has gradients\n",
        "    else:\n",
        "        print(\"WARNING: No gradients found after training. This is a problem.\")\n",
        "\n",
        "\n",
        "    # 4. Print model summary:\n",
        "    print(\"\\nModel Summary:\")\n",
        "    print(learn.model)\n",
        "\n",
        "except Exception as e:\n",
        "    print(f\"An error occurred during collab_learner creation or training: {e}\")"
      ],
      "execution_count": 41,
      "outputs": [
        {
          "output_type": "stream",
          "name": "stdout",
          "text": [
            "Collab learner created successfully.\n",
            "Learner model: EmbeddingDotBias(\n",
            "  (u_weight): Embedding(944, 50)\n",
            "  (i_weight): Embedding(1665, 50)\n",
            "  (u_bias): Embedding(944, 1)\n",
            "  (i_bias): Embedding(1665, 1)\n",
            ")\n",
            "An error occurred during collab_learner creation or training: 'EmbeddingDotBias' object has no attribute 'n_factors'\n"
          ]
        }
      ]
    },
    {
      "cell_type": "markdown",
      "metadata": {
        "id": "58blYToq5KGY"
      },
      "source": [
        "It uses a simple dot product model with 50 latent factors. To train it using the 1cycle policy, we just run this command:"
      ]
    },
    {
      "cell_type": "code",
      "metadata": {
        "id": "ze2sG7Pd5KGZ",
        "colab": {
          "base_uri": "https://localhost:8080/",
          "height": 800
        },
        "outputId": "cd43b5ef-5833-445a-a4ed-488e9c4dc3de"
      },
      "source": [
        "from fastai.collab import *\n",
        "\n",
        "#... (Your code to create the learn object)\n",
        "\n",
        "try:\n",
        "    print(\"Starting training with fit_one_cycle...\")\n",
        "    learn.fit_one_cycle(5, 5e-3, wd=0.1)\n",
        "\n",
        "    print(\"Training completed.  Checking results:\")\n",
        "\n",
        "    # 1. Check the training metrics:\n",
        "    print(\"\\nTraining metrics:\")\n",
        "    print(learn.recorder.values[-1]) # Print the last recorded metrics\n",
        "\n",
        "    # 2. Plot the learning rate and loss:\n",
        "    print(\"\\nPlotting learning rate and loss:\")\n",
        "    learn.recorder.plot_loss()\n",
        "    learn.recorder.plot_lr()\n",
        "    plt.show()\n",
        "\n",
        "    # 3. Check for NaN or inf values in the loss:\n",
        "    losses = learn.recorder.losses\n",
        "    if np.isnan(losses).any() or np.isinf(losses).any():\n",
        "        print(\"WARNING: NaN or inf values found in the losses.  This is a serious problem.\")\n",
        "\n",
        "    # 4. Inspect the model's predictions on a batch:\n",
        "    print(\"\\nInspecting model predictions on a batch:\")\n",
        "    batch = dls.one_batch()\n",
        "    preds = learn.model(*batch[:-1]) # Get predictions (exclude the target variable)\n",
        "    print(\"Predictions shape:\", preds.shape)\n",
        "    print(\"Predictions (first few):\\n\", preds[:10])\n",
        "\n",
        "    # 5. Check the gradients again (after training):\n",
        "    print(\"\\nChecking for gradients after training:\")\n",
        "    for param in learn.model.parameters():\n",
        "        if param.grad is not None:\n",
        "            print(\"Gradients found.\")\n",
        "            break\n",
        "    else:\n",
        "        print(\"WARNING: No gradients found after training. This is a problem.\")\n",
        "\n",
        "except Exception as e:\n",
        "    print(f\"An error occurred during training: {e}\")"
      ],
      "execution_count": 42,
      "outputs": [
        {
          "output_type": "stream",
          "name": "stdout",
          "text": [
            "Starting training with fit_one_cycle...\n"
          ]
        },
        {
          "output_type": "display_data",
          "data": {
            "text/plain": [
              "<IPython.core.display.HTML object>"
            ],
            "text/html": [
              "\n",
              "<style>\n",
              "    /* Turns off some styling */\n",
              "    progress {\n",
              "        /* gets rid of default border in Firefox and Opera. */\n",
              "        border: none;\n",
              "        /* Needs to be in here for Safari polyfill so background images work as expected. */\n",
              "        background-size: auto;\n",
              "    }\n",
              "    progress:not([value]), progress:not([value])::-webkit-progress-bar {\n",
              "        background: repeating-linear-gradient(45deg, #7e7e7e, #7e7e7e 10px, #5c5c5c 10px, #5c5c5c 20px);\n",
              "    }\n",
              "    .progress-bar-interrupted, .progress-bar-interrupted::-webkit-progress-bar {\n",
              "        background: #F44336;\n",
              "    }\n",
              "</style>\n"
            ]
          },
          "metadata": {}
        },
        {
          "output_type": "display_data",
          "data": {
            "text/plain": [
              "<IPython.core.display.HTML object>"
            ],
            "text/html": [
              "<table border=\"1\" class=\"dataframe\">\n",
              "  <thead>\n",
              "    <tr style=\"text-align: left;\">\n",
              "      <th>epoch</th>\n",
              "      <th>train_loss</th>\n",
              "      <th>valid_loss</th>\n",
              "      <th>time</th>\n",
              "    </tr>\n",
              "  </thead>\n",
              "  <tbody>\n",
              "    <tr>\n",
              "      <td>0</td>\n",
              "      <td>0.916375</td>\n",
              "      <td>0.940079</td>\n",
              "      <td>00:07</td>\n",
              "    </tr>\n",
              "    <tr>\n",
              "      <td>1</td>\n",
              "      <td>0.676231</td>\n",
              "      <td>0.894670</td>\n",
              "      <td>00:10</td>\n",
              "    </tr>\n",
              "    <tr>\n",
              "      <td>2</td>\n",
              "      <td>0.532094</td>\n",
              "      <td>0.872027</td>\n",
              "      <td>00:07</td>\n",
              "    </tr>\n",
              "    <tr>\n",
              "      <td>3</td>\n",
              "      <td>0.469248</td>\n",
              "      <td>0.853552</td>\n",
              "      <td>00:07</td>\n",
              "    </tr>\n",
              "    <tr>\n",
              "      <td>4</td>\n",
              "      <td>0.437918</td>\n",
              "      <td>0.849023</td>\n",
              "      <td>00:07</td>\n",
              "    </tr>\n",
              "  </tbody>\n",
              "</table>"
            ]
          },
          "metadata": {}
        },
        {
          "output_type": "stream",
          "name": "stdout",
          "text": [
            "Training completed.  Checking results:\n",
            "\n",
            "Training metrics:\n",
            "[0.4379180073738098, 0.849022626876831]\n",
            "\n",
            "Plotting learning rate and loss:\n",
            "An error occurred during training: 'EmbeddingDotBias' object has no attribute 'plot_lr'\n"
          ]
        },
        {
          "output_type": "display_data",
          "data": {
            "text/plain": [
              "<Figure size 640x480 with 1 Axes>"
            ],
            "image/png": "[encoded data removed]"
          },
          "metadata": {}
        }
      ]
    },
    {
      "cell_type": "markdown",
      "metadata": {
        "id": "uXpc4wrh5KGZ"
      },
      "source": [
        "Here's [some benchmarks](https://www.librec.net/release/v1.3/example.html) on the same dataset for the popular Librec system for collaborative filtering. They show best results based on RMSE of 0.91 (scroll down to the 100k dataset), which corresponds to an MSE of `0.91**2 = 0.83`. So in less than a minute, we got pretty good results!"
      ]
    },
    {
      "cell_type": "markdown",
      "metadata": {
        "id": "GNlR8PdV5KGa"
      },
      "source": [
        "### Interpretation"
      ]
    },
    {
      "cell_type": "markdown",
      "metadata": {
        "id": "-Kp8v39y5KGa"
      },
      "source": [
        "Let's analyze the results of our previous model. We will keep the 1000 most rated movies for this:"
      ]
    },
    {
      "cell_type": "code",
      "metadata": {
        "id": "dOBM1Dmn5KGa",
        "colab": {
          "base_uri": "https://localhost:8080/"
        },
        "outputId": "83f0428b-c414-43d2-9df7-14ce159bfbfd"
      },
      "source": [
        "import pandas as pd\n",
        "\n",
        "# ... (Your code to load the ratings DataFrame)\n",
        "\n",
        "try:\n",
        "    g = ratings.groupby('title')['rating'].count()\n",
        "\n",
        "    print(\"Groupby result (first few rows):\\n\", g.head()) # Inspect the groupby object\n",
        "\n",
        "    top_movies = g.sort_values(ascending=False).index.values[:1000]\n",
        "\n",
        "    print(\"Top movies (first 10):\\n\", top_movies[:10])\n",
        "    print(\"Shape of top_movies:\", top_movies.shape)\n",
        "    print(\"Type of top_movies:\", top_movies.dtype)\n",
        "\n",
        "    # Check for duplicates in top_movies:\n",
        "    if len(top_movies) != len(np.unique(top_movies)):\n",
        "        print(\"WARNING: Duplicate movie titles found in top_movies.  This can cause issues later.\")\n",
        "        #Investigate duplicates\n",
        "        duplicates = top_movies[np.where(np.diff(np.sort(top_movies)) == 0)[0]]\n",
        "        print(\"Duplicate movie titles:\", duplicates)\n",
        "\n",
        "    # Check for NaN values in top_movies:\n",
        "    if pd.isna(top_movies).any():\n",
        "      print(\"WARNING: NaN values found in top_movies. This can cause issues later.\")\n",
        "      nan_movies = top_movies[pd.isna(top_movies)]\n",
        "      print(\"NaN movie titles:\", nan_movies)\n",
        "\n",
        "    # Check if top_movies is empty:\n",
        "    if len(top_movies) == 0:\n",
        "        print(\"WARNING: top_movies is empty. Check if the groupby operation produced any results.\")\n",
        "\n",
        "except Exception as e:\n",
        "    print(f\"An error occurred while selecting top movies: {e}\")"
      ],
      "execution_count": 43,
      "outputs": [
        {
          "output_type": "stream",
          "name": "stdout",
          "text": [
            "Groupby result (first few rows):\n",
            " title\n",
            "'Til There Was You (1997)      9\n",
            "1-900 (1994)                   5\n",
            "101 Dalmatians (1996)        109\n",
            "12 Angry Men (1957)          125\n",
            "187 (1997)                    41\n",
            "Name: rating, dtype: int64\n",
            "Top movies (first 10):\n",
            " ['Star Wars (1977)' 'Contact (1997)' 'Fargo (1996)'\n",
            " 'Return of the Jedi (1983)' 'Liar Liar (1997)'\n",
            " 'English Patient, The (1996)' 'Scream (1996)' 'Toy Story (1995)'\n",
            " 'Air Force One (1997)' 'Independence Day (ID4) (1996)']\n",
            "Shape of top_movies: (1000,)\n",
            "Type of top_movies: object\n"
          ]
        }
      ]
    },
    {
      "cell_type": "markdown",
      "metadata": {
        "id": "iT0TUZeV5KGa"
      },
      "source": [
        "### Movie bias"
      ]
    },
    {
      "cell_type": "markdown",
      "metadata": {
        "id": "QTfd24Ce5KGb"
      },
      "source": [
        "Our model has learned one bias per movie, a unique number independent of users that can be interpreted as the intrinsic \"value\" of the movie. We can grab the bias of each movie in our `top_movies` list with the following command:"
      ]
    },
    {
      "cell_type": "code",
      "metadata": {
        "id": "Q6_3vygf5KGb",
        "colab": {
          "base_uri": "https://localhost:8080/"
        },
        "outputId": "841d139c-c817-4830-8cfb-3a04d4b6c56c"
      },
      "source": [
        "import torch\n",
        "\n",
        "#... (Your code to create the learn object and define top_movies)\n",
        "\n",
        "try:\n",
        "    movie_bias = learn.model.bias(top_movies, is_item=True)\n",
        "\n",
        "    print(\"Shape of movie_bias:\", movie_bias.shape)\n",
        "    print(\"Type of movie_bias:\", movie_bias.dtype)\n",
        "    print(\"Movie bias values (first few):\\n\", movie_bias[:10]) # Print some values\n",
        "\n",
        "    # Check if movie_bias contains NaN or inf values:\n",
        "    if torch.isnan(movie_bias).any() or torch.isinf(movie_bias).any():\n",
        "        print(\"WARNING: movie_bias contains NaN or inf values.  This can cause problems.\")\n",
        "\n",
        "    # Check if all biases are the same:\n",
        "    if torch.all(movie_bias == movie_bias): # Check if all elements are equal\n",
        "        print(\"WARNING: All movie biases are the same. This might indicate a problem with the model or data.\")\n",
        "\n",
        "except Exception as e:\n",
        "    print(f\"An error occurred while getting movie biases: {e}\")"
      ],
      "execution_count": 44,
      "outputs": [
        {
          "output_type": "stream",
          "name": "stdout",
          "text": [
            "Shape of movie_bias: torch.Size([1000])\n",
            "Type of movie_bias: torch.float32\n",
            "Movie bias values (first few):\n",
            " tensor([0.5978, 0.3517, 0.3857, 0.3682, 0.0355, 0.1448, 0.2005, 0.2617, 0.3266,\n",
            "        0.1747])\n",
            "WARNING: All movie biases are the same. This might indicate a problem with the model or data.\n"
          ]
        }
      ]
    },
    {
      "cell_type": "markdown",
      "metadata": {
        "id": "4LWSBSXB5KGb"
      },
      "source": [
        "Let's compare those biases with the average ratings:"
      ]
    },
    {
      "cell_type": "code",
      "metadata": {
        "id": "b-cmUxrz5KGc",
        "outputId": "33c202bb-6ef2-44c0-81be-a9119e165000",
        "colab": {
          "base_uri": "https://localhost:8080/"
        }
      },
      "source": [
        "import pandas as pd\n",
        "import torch\n",
        "\n",
        "#... (Your code to define ratings, top_movies, and movie_bias)\n",
        "\n",
        "try:\n",
        "    mean_ratings = ratings.groupby('title')['rating'].mean()\n",
        "\n",
        "    print(\"Mean ratings (first few):\\n\", mean_ratings.head())  # Inspect mean ratings\n",
        "\n",
        "    movie_ratings = [(b.item(), i, mean_ratings.loc[i]) for i, b in zip(top_movies, movie_bias)]\n",
        "\n",
        "    print(\"Movie ratings (first few):\\n\", movie_ratings[:10]) # Print first few movie ratings\n",
        "\n",
        "    # Check if movie_ratings is empty:\n",
        "    if not movie_ratings: # Check if the list is empty\n",
        "        print(\"WARNING: movie_ratings list is empty. Check if mean_ratings has data for all top_movies.\")\n",
        "\n",
        "    # Check for NaN or inf in mean ratings:\n",
        "    if mean_ratings.isnull().any():\n",
        "        print(\"WARNING: NaN values found in mean_ratings. This can cause issues.\")\n",
        "        nan_movies = mean_ratings[mean_ratings.isnull()]\n",
        "        print(\"Movies with NaN mean ratings:\", nan_movies)\n",
        "\n",
        "    # Check for KeyError:\n",
        "    for i, b in zip(top_movies, movie_bias):\n",
        "        try:\n",
        "            mean_ratings.loc[i]\n",
        "        except KeyError:\n",
        "            print(f\"KeyError: Movie title '{i}' not found in mean_ratings.\")\n",
        "            break # Stop checking after the first KeyError\n",
        "\n",
        "except KeyError as e:\n",
        "    print(f\"KeyError: {e}. Check if all titles in top_movies are present in mean_ratings.\")\n",
        "except Exception as e:\n",
        "    print(f\"An error occurred while creating movie_ratings: {e}\")"
      ],
      "execution_count": 45,
      "outputs": [
        {
          "output_type": "stream",
          "name": "stdout",
          "text": [
            "Mean ratings (first few):\n",
            " title\n",
            "'Til There Was You (1997)    2.333333\n",
            "1-900 (1994)                 2.600000\n",
            "101 Dalmatians (1996)        2.908257\n",
            "12 Angry Men (1957)          4.344000\n",
            "187 (1997)                   3.024390\n",
            "Name: rating, dtype: float64\n",
            "Movie ratings (first few):\n",
            " [(0.597755491733551, 'Star Wars (1977)', 4.3584905660377355), (0.3516916334629059, 'Contact (1997)', 3.8035363457760316), (0.3857367932796478, 'Fargo (1996)', 4.155511811023622), (0.36820554733276367, 'Return of the Jedi (1983)', 4.007889546351085), (0.03546643257141113, 'Liar Liar (1997)', 3.156701030927835), (0.1447751522064209, 'English Patient, The (1996)', 3.656964656964657), (0.20046937465667725, 'Scream (1996)', 3.4414225941422596), (0.26168087124824524, 'Toy Story (1995)', 3.8783185840707963), (0.3265792429447174, 'Air Force One (1997)', 3.6310904872389793), (0.1747371405363083, 'Independence Day (ID4) (1996)', 3.438228438228438)]\n"
          ]
        }
      ]
    },
    {
      "cell_type": "markdown",
      "metadata": {
        "id": "nQ9NpRIY5KGd"
      },
      "source": [
        "Now let's have a look at the movies with the worst bias:"
      ]
    },
    {
      "cell_type": "code",
      "metadata": {
        "id": "sPK_3uoL5KGe",
        "colab": {
          "base_uri": "https://localhost:8080/"
        },
        "outputId": "8d3edffc-e2dc-47e8-9941-5eda991e76b9"
      },
      "source": [
        "import pandas as pd\n",
        "import torch\n",
        "\n",
        "# ... (Your code to define ratings, top_movies, movie_bias, and movie_ratings)\n",
        "\n",
        "try:\n",
        "    item0 = lambda o: o[0]\n",
        "\n",
        "    print(\"Movie ratings before sorting:\\n\", movie_ratings[:10]) # Print before sorting\n",
        "\n",
        "    sorted_movie_ratings = sorted(movie_ratings, key=item0) # Sort the list\n",
        "\n",
        "    print(\"Sorted movie ratings (first 15):\\n\", sorted_movie_ratings[:15])\n",
        "\n",
        "    # Check if sorted_movie_ratings is empty:\n",
        "    if not sorted_movie_ratings:\n",
        "        print(\"WARNING: sorted_movie_ratings is empty. Check if movie_ratings has any elements.\")\n",
        "\n",
        "    # Check if sorting worked as expected (optional, but good practice):\n",
        "    if len(sorted_movie_ratings) > 1:  # Check if there are at least two elements to compare\n",
        "        for i in range(len(sorted_movie_ratings) - 1):\n",
        "            if sorted_movie_ratings[i][0] > sorted_movie_ratings[i+1][0]:\n",
        "                print(\"WARNING: Sorting did not work correctly. Elements are out of order.\")\n",
        "                break # Stop checking after the first out-of-order element\n",
        "\n",
        "except Exception as e:\n",
        "    print(f\"An error occurred during sorting: {e}\")"
      ],
      "execution_count": 46,
      "outputs": [
        {
          "output_type": "stream",
          "name": "stdout",
          "text": [
            "Movie ratings before sorting:\n",
            " [(0.597755491733551, 'Star Wars (1977)', 4.3584905660377355), (0.3516916334629059, 'Contact (1997)', 3.8035363457760316), (0.3857367932796478, 'Fargo (1996)', 4.155511811023622), (0.36820554733276367, 'Return of the Jedi (1983)', 4.007889546351085), (0.03546643257141113, 'Liar Liar (1997)', 3.156701030927835), (0.1447751522064209, 'English Patient, The (1996)', 3.656964656964657), (0.20046937465667725, 'Scream (1996)', 3.4414225941422596), (0.26168087124824524, 'Toy Story (1995)', 3.8783185840707963), (0.3265792429447174, 'Air Force One (1997)', 3.6310904872389793), (0.1747371405363083, 'Independence Day (ID4) (1996)', 3.438228438228438)]\n",
            "Sorted movie ratings (first 15):\n",
            " [(-0.3927995264530182, 'Children of the Corn: The Gathering (1996)', 1.3157894736842106), (-0.32795053720474243, 'Lawnmower Man 2: Beyond Cyberspace (1996)', 1.7142857142857142), (-0.2957817018032074, 'Crow: City of Angels, The (1996)', 1.9487179487179487), (-0.28033173084259033, 'Grease 2 (1982)', 2.0), (-0.27409130334854126, 'Cable Guy, The (1996)', 2.339622641509434), (-0.2709786295890808, 'Beautician and the Beast, The (1997)', 2.313953488372093), (-0.25163304805755615, 'Showgirls (1995)', 1.9565217391304348), (-0.24056777358055115, 'Bio-Dome (1996)', 1.903225806451613), (-0.2402784526348114, 'Leave It to Beaver (1997)', 1.8409090909090908), (-0.23947539925575256, 'Escape from L.A. (1996)', 2.4615384615384617), (-0.23809882998466492, 'Kansas City (1996)', 2.260869565217391), (-0.23735201358795166, 'Striptease (1996)', 2.2388059701492535), (-0.2342102974653244, 'Thinner (1996)', 2.4489795918367347), (-0.23131009936332703, 'Hellraiser: Bloodline (1996)', 2.0), (-0.2256181389093399, 'Flintstones, The (1994)', 2.064516129032258)]\n"
          ]
        }
      ]
    },
    {
      "cell_type": "markdown",
      "metadata": {
        "id": "hyZduCwf5KGf"
      },
      "source": [
        "Or the ones with the best bias:"
      ]
    },
    {
      "cell_type": "code",
      "metadata": {
        "id": "la5TBDHx5KGg",
        "colab": {
          "base_uri": "https://localhost:8080/"
        },
        "outputId": "269e9f10-e8f6-47be-ac80-701855f945df"
      },
      "source": [
        "sorted(movie_ratings, key=lambda o: o[0], reverse=True)[:15]"
      ],
      "execution_count": 47,
      "outputs": [
        {
          "output_type": "execute_result",
          "data": {
            "text/plain": [
              "[(0.6256304383277893, 'Shawshank Redemption, The (1994)', 4.445229681978798),\n",
              " (0.5997787714004517, 'Titanic (1997)', 4.2457142857142856),\n",
              " (0.597755491733551, 'Star Wars (1977)', 4.3584905660377355),\n",
              " (0.5796257257461548, 'As Good As It Gets (1997)', 4.196428571428571),\n",
              " (0.54472416639328, 'Silence of the Lambs, The (1991)', 4.28974358974359),\n",
              " (0.5369519591331482, \"Schindler's List (1993)\", 4.466442953020135),\n",
              " (0.5334804654121399, 'Rear Window (1954)', 4.3875598086124405),\n",
              " (0.4807470738887787, 'Godfather, The (1972)', 4.283292978208232),\n",
              " (0.4775562286376953, 'L.A. Confidential (1997)', 4.161616161616162),\n",
              " (0.4714823067188263, 'Usual Suspects, The (1995)', 4.385767790262173),\n",
              " (0.4695129990577698, 'Good Will Hunting (1997)', 4.262626262626263),\n",
              " (0.46400317549705505, 'Casablanca (1942)', 4.45679012345679),\n",
              " (0.4567626714706421,\n",
              "  'Wallace & Gromit: The Best of Aardman Animation (1996)',\n",
              "  4.447761194029851),\n",
              " (0.44660645723342896,\n",
              "  \"One Flew Over the Cuckoo's Nest (1975)\",\n",
              "  4.291666666666667),\n",
              " (0.44649139046669006, 'Wrong Trousers, The (1993)', 4.466101694915254)]"
            ]
          },
          "metadata": {},
          "execution_count": 47
        }
      ]
    },
    {
      "cell_type": "markdown",
      "metadata": {
        "id": "6evHscZk5KGh"
      },
      "source": [
        "There is certainly a strong correlation!"
      ]
    },
    {
      "cell_type": "markdown",
      "metadata": {
        "id": "_eVUbKjL5KGi"
      },
      "source": [
        "### Movie weights"
      ]
    },
    {
      "cell_type": "markdown",
      "metadata": {
        "id": "rfpKAgSC5KGi"
      },
      "source": [
        "Now let's try to analyze the latent factors our model has learned. We can grab the weights for each movie in `top_movies` the same way as we did for the bias before."
      ]
    },
    {
      "cell_type": "code",
      "metadata": {
        "id": "deDn2gcH5KGj",
        "colab": {
          "base_uri": "https://localhost:8080/"
        },
        "outputId": "adf2f202-5fc3-44cf-ad0e-15f551160d67"
      },
      "source": [
        "import torch\n",
        "\n",
        "# ... (Your code to define learn and top_movies)\n",
        "\n",
        "try:\n",
        "    movie_w = learn.model.weight(top_movies, is_item=True)\n",
        "\n",
        "    print(\"Shape of movie_w:\", movie_w.shape)\n",
        "    print(\"Type of movie_w:\", movie_w.dtype)\n",
        "\n",
        "    # 1. Check for NaN or inf values:\n",
        "    if torch.isnan(movie_w).any() or torch.isinf(movie_w).any():\n",
        "        print(\"WARNING: movie_w contains NaN or inf values.  This can cause problems.\")\n",
        "\n",
        "    # 2. Check for zero or near-zero rows (embeddings):\n",
        "    near_zero_rows = torch.all(torch.abs(movie_w) < 1e-6, dim=1)  # Check if all elements in a row are close to zero\n",
        "    if near_zero_rows.any():\n",
        "        print(\"WARNING: Some rows (embeddings) in movie_w are close to zero. This might indicate a problem.\")\n",
        "        near_zero_indices = torch.nonzero(near_zero_rows).squeeze().tolist()\n",
        "        print(\"Indices of near-zero rows:\", near_zero_indices)\n",
        "\n",
        "    # 3. Check for unusually large values (exploding gradients):\n",
        "    large_values = torch.abs(movie_w) > 10  # Example threshold, adjust as needed\n",
        "    if large_values.any():\n",
        "        print(\"WARNING: Some values in movie_w are unusually large. This might indicate exploding gradients.\")\n",
        "        large_value_indices = torch.nonzero(large_values)\n",
        "        print(\"Indices of large values:\", large_value_indices)\n",
        "\n",
        "    # 4. Print some rows (embeddings) for inspection:\n",
        "    print(\"\\nFirst 5 rows of movie_w:\\n\", movie_w[:5])  # Print the first 5 rows\n",
        "\n",
        "    # 5. Check if the tensor is detached (important for debugging):\n",
        "    if movie_w.requires_grad:\n",
        "        print(\"\\nmovie_w requires gradients.\")\n",
        "    else:\n",
        "        print(\"\\nmovie_w is detached from the computational graph (no gradients). This is usually not what you want.\")\n",
        "\n",
        "except Exception as e:\n",
        "    print(f\"An error occurred while getting movie weights: {e}\")"
      ],
      "execution_count": 48,
      "outputs": [
        {
          "output_type": "stream",
          "name": "stdout",
          "text": [
            "Shape of movie_w: torch.Size([1000, 50])\n",
            "Type of movie_w: torch.float32\n",
            "\n",
            "First 5 rows of movie_w:\n",
            " tensor([[ 0.3343, -0.3354,  0.4655,  0.0116,  0.0833,  0.2215, -0.0819,  0.0266,\n",
            "         -0.2082,  0.0038, -0.1666, -0.2388,  0.0626,  0.1827, -0.2753,  0.0799,\n",
            "         -0.2798,  0.1624,  0.1532, -0.1533,  0.2507, -0.3115,  0.5931, -0.2224,\n",
            "         -0.1345, -0.3721, -0.1787, -0.3164, -0.1418, -0.5189,  0.3932, -0.0533,\n",
            "          0.0553,  0.2935,  0.0243,  0.1001,  0.1515, -0.0082, -0.4298, -0.3966,\n",
            "         -0.2606, -0.2107, -0.3692, -0.2771,  0.1602, -0.2825,  0.0106, -0.2627,\n",
            "          0.5751, -0.1403],\n",
            "        [-0.0940, -0.2802,  0.1733, -0.3603,  0.0821,  0.3533,  0.2316, -0.1920,\n",
            "         -0.2819,  0.2687, -0.3065,  0.1219, -0.2508,  0.5056, -0.3041,  0.4580,\n",
            "          0.5515, -0.0847,  0.2006, -0.3078, -0.3063, -0.0388,  0.0279, -0.3063,\n",
            "         -0.0431, -0.2292, -0.5569, -0.2551,  0.2137,  0.0383,  0.2487, -0.1611,\n",
            "          0.2405,  0.2389,  0.6615,  0.2236,  0.1107,  0.1869, -0.0334, -0.5326,\n",
            "          0.2304, -0.2355, -0.0479, -0.3315,  0.2817, -0.0008,  0.4548, -0.3615,\n",
            "         -0.1054,  0.3677],\n",
            "        [-0.4219, -0.4094,  0.1415,  0.0499,  0.3028,  0.1597, -0.2910, -0.2518,\n",
            "         -0.5316,  0.1168,  0.1072, -0.0486, -0.2962,  0.1851, -0.1425, -0.1616,\n",
            "         -0.1361,  0.3319,  0.6094, -0.4896,  0.0348,  0.3329,  0.1292, -0.2889,\n",
            "          0.1812, -0.3351, -0.3799,  0.2914, -0.1764,  0.1449, -0.1508, -0.2421,\n",
            "         -0.3651,  0.1882, -0.2853,  0.2265,  0.0408, -0.2072, -0.3224, -0.0968,\n",
            "         -0.1116, -0.0640, -0.2148,  0.1112,  0.1734, -0.1501,  0.1842, -0.1678,\n",
            "          0.2742,  0.1496],\n",
            "        [ 0.4171, -0.2890,  0.3175, -0.1813,  0.0232,  0.2068, -0.0664,  0.2163,\n",
            "         -0.2635,  0.0299,  0.2012, -0.3153,  0.1748,  0.3594, -0.4823,  0.4846,\n",
            "         -0.2374,  0.2986,  0.2347, -0.1900,  0.0618, -0.2880,  0.2301,  0.0162,\n",
            "         -0.1594, -0.4398, -0.0265, -0.2518,  0.0675, -0.2459,  0.2368,  0.1698,\n",
            "         -0.0425,  0.4705,  0.0876,  0.0665,  0.1563, -0.2159, -0.4043, -0.5541,\n",
            "          0.0545,  0.0423, -0.2009,  0.0299,  0.2244, -0.2470,  0.3569, -0.3174,\n",
            "          0.3465, -0.2078],\n",
            "        [ 0.1739,  0.4776,  0.1132, -0.3713, -0.1833,  0.0049, -0.4153,  0.1921,\n",
            "         -0.1213, -0.3811,  0.0975, -0.3533, -0.0959,  0.2254,  0.1922,  0.1981,\n",
            "         -0.2896,  0.1077, -0.1865,  0.1326,  0.1814, -0.1618,  0.0750,  0.2084,\n",
            "         -0.2494, -0.3240, -0.2904, -0.0865,  0.3924,  0.1379,  0.1775, -0.3204,\n",
            "         -0.0576, -0.2657,  0.0580,  0.1048,  0.3552, -0.3407,  0.0007, -0.2403,\n",
            "         -0.0463, -0.2810,  0.1393,  0.3412,  0.2242, -0.2214,  0.1253,  0.2802,\n",
            "          0.1298, -0.1515]])\n",
            "\n",
            "movie_w is detached from the computational graph (no gradients). This is usually not what you want.\n"
          ]
        }
      ]
    },
    {
      "cell_type": "markdown",
      "metadata": {
        "id": "NMKR-0Um5KGj"
      },
      "source": [
        "Let's try a PCA to reduce the dimensions and see if we can see what the model learned:"
      ]
    },
    {
      "cell_type": "code",
      "metadata": {
        "id": "7eaYCuVt5KGk",
        "colab": {
          "base_uri": "https://localhost:8080/"
        },
        "outputId": "dcc9b2f4-384e-4160-838f-8df519d79cd8"
      },
      "source": [
        "import torch\n",
        "\n",
        "# ... (Your code to define movie_w)\n",
        "\n",
        "try:\n",
        "    if movie_w.shape[0] < 3:  # Check if there are enough movies for PCA\n",
        "        raise ValueError(\"Not enough movies for PCA.  Need at least 3.\")\n",
        "\n",
        "    movie_pca = movie_w.pca(3)\n",
        "\n",
        "    print(\"Shape of movie_pca:\", movie_pca.shape)\n",
        "    print(\"Type of movie_pca:\", movie_pca.dtype)\n",
        "\n",
        "    # 1. Check for NaN or inf values:\n",
        "    if torch.isnan(movie_pca).any() or torch.isinf(movie_pca).any():\n",
        "        print(\"WARNING: movie_pca contains NaN or inf values. This can cause problems.\")\n",
        "\n",
        "    # 2. Check if the explained variance is reasonable:\n",
        "    # (This requires calculating the SVD which is used internally by .pca)\n",
        "    U, S, V = torch.linalg.svd(movie_w) # Get the SVD\n",
        "    explained_variance = (S**2).cumsum(dim=0) / (S**2).sum()\n",
        "    print(\"Explained variance:\", explained_variance[:3]) # Print explained variance for the 3 components\n",
        "\n",
        "    # 3. Print some rows for inspection:\n",
        "    print(\"\\nFirst 5 rows of movie_pca:\\n\", movie_pca[:5])\n",
        "\n",
        "except ValueError as e:\n",
        "    print(f\"ValueError during PCA: {e}\")  # Catch the specific error\n",
        "except RuntimeError as e: # Catch potential SVD issues\n",
        "    print(f\"RuntimeError during PCA (likely SVD issue): {e}\")\n",
        "except Exception as e:\n",
        "    print(f\"An error occurred during PCA: {e}\")"
      ],
      "execution_count": 49,
      "outputs": [
        {
          "output_type": "stream",
          "name": "stdout",
          "text": [
            "Shape of movie_pca: torch.Size([1000, 3])\n",
            "Type of movie_pca: torch.float32\n",
            "Explained variance: tensor([0.2102, 0.2990, 0.3496])\n",
            "\n",
            "First 5 rows of movie_pca:\n",
            " tensor([[ 0.5897,  0.6933,  0.7247],\n",
            "        [ 0.2447,  0.4541,  0.2646],\n",
            "        [ 0.7635, -0.0656,  0.0584],\n",
            "        [ 0.2651,  0.6819,  0.6098],\n",
            "        [-0.5341,  0.3908,  0.2842]])\n"
          ]
        }
      ]
    },
    {
      "cell_type": "code",
      "metadata": {
        "id": "gP8YQMM55KGl",
        "outputId": "b5eb1a35-7f37-4118-c852-38f5b4ffa30b",
        "colab": {
          "base_uri": "https://localhost:8080/"
        }
      },
      "source": [
        "import torch\n",
        "\n",
        "# ... (Your code to define movie_pca and top_movies)\n",
        "\n",
        "try:\n",
        "    if movie_pca.shape[1] != 3: # Check if movie_pca has 3 columns (components)\n",
        "        raise ValueError(\"movie_pca must have 3 columns for unpacking into fac0, fac1, and fac2.\")\n",
        "\n",
        "    fac0, fac1, fac2 = movie_pca.t()  # Transpose movie_pca before unpacking\n",
        "\n",
        "    print(\"Shape of fac0:\", fac0.shape)\n",
        "    print(\"Shape of fac1:\", fac1.shape)\n",
        "    print(\"Shape of fac2:\", fac2.shape)\n",
        "\n",
        "    movie_comp = [(f.item(), i) for f, i in zip(fac0, top_movies)] # Use f.item()\n",
        "\n",
        "    print(\"Movie components (first few):\\n\", movie_comp[:10])\n",
        "\n",
        "    # Check if movie_comp is empty:\n",
        "    if not movie_comp:\n",
        "        print(\"WARNING: movie_comp is empty. Check if fac0 and top_movies have matching elements.\")\n",
        "\n",
        "except ValueError as e:\n",
        "    print(f\"ValueError during unpacking or movie_comp creation: {e}\")\n",
        "except Exception as e:\n",
        "    print(f\"An error occurred while creating movie_comp: {e}\")"
      ],
      "execution_count": 50,
      "outputs": [
        {
          "output_type": "stream",
          "name": "stdout",
          "text": [
            "Shape of fac0: torch.Size([1000])\n",
            "Shape of fac1: torch.Size([1000])\n",
            "Shape of fac2: torch.Size([1000])\n",
            "Movie components (first few):\n",
            " [(0.589699387550354, 'Star Wars (1977)'), (0.2447184920310974, 'Contact (1997)'), (0.7634958028793335, 'Fargo (1996)'), (0.265090674161911, 'Return of the Jedi (1983)'), (-0.5340869426727295, 'Liar Liar (1997)'), (0.3468797504901886, 'English Patient, The (1996)'), (-0.39552855491638184, 'Scream (1996)'), (0.32456129789352417, 'Toy Story (1995)'), (-0.4922863245010376, 'Air Force One (1997)'), (-0.515415608882904, 'Independence Day (ID4) (1996)')]\n"
          ]
        }
      ]
    },
    {
      "cell_type": "markdown",
      "metadata": {
        "id": "MRscjh3K5KGl"
      },
      "source": [
        "Here are the highest score on the first dimension:"
      ]
    },
    {
      "cell_type": "code",
      "metadata": {
        "id": "L74WWxjA5KGl",
        "colab": {
          "base_uri": "https://localhost:8080/"
        },
        "outputId": "abc30004-10f4-470c-a431-903919615f86"
      },
      "source": [
        "sorted(movie_comp, key=itemgetter(0), reverse=True)[:10]"
      ],
      "execution_count": 51,
      "outputs": [
        {
          "output_type": "execute_result",
          "data": {
            "text/plain": [
              "[(1.1026663780212402, 'Close Shave, A (1995)'),\n",
              " (1.0859993696212769, 'Casablanca (1942)'),\n",
              " (1.0844415426254272, 'Lawrence of Arabia (1962)'),\n",
              " (1.039290428161621,\n",
              "  'Dr. Strangelove or: How I Learned to Stop Worrying and Love the Bomb (1963)'),\n",
              " (1.0347260236740112, 'Third Man, The (1949)'),\n",
              " (1.0301014184951782, 'Persuasion (1995)'),\n",
              " (1.027605414390564, 'When We Were Kings (1996)'),\n",
              " (1.0237884521484375, 'Down by Law (1986)'),\n",
              " (1.0052802562713623, 'Citizen Kane (1941)'),\n",
              " (0.9956159591674805, 'Sunset Blvd. (1950)')]"
            ]
          },
          "metadata": {},
          "execution_count": 51
        }
      ]
    },
    {
      "cell_type": "markdown",
      "metadata": {
        "id": "XMS1ASOm5KGm"
      },
      "source": [
        "And the worst:"
      ]
    },
    {
      "cell_type": "code",
      "metadata": {
        "id": "kDxgTWUW5KGm",
        "colab": {
          "base_uri": "https://localhost:8080/"
        },
        "outputId": "95eabf6b-63f3-49f8-9acf-6b7fdb24442a"
      },
      "source": [
        "from operator import itemgetter\n",
        "\n",
        "# ... (Your code to define movie_comp)\n",
        "\n",
        "try:\n",
        "    print(\"Movie components before sorting:\\n\", movie_comp[:10])  # Print before sorting\n",
        "\n",
        "    sorted_movie_comp = sorted(movie_comp, key=itemgetter(0))\n",
        "\n",
        "    print(\"Sorted movie components (first 10):\\n\", sorted_movie_comp[:10])\n",
        "\n",
        "    # Check if sorted_movie_comp is empty:\n",
        "    if not sorted_movie_comp:\n",
        "        print(\"WARNING: sorted_movie_comp is empty. Check if movie_comp has any elements.\")\n",
        "\n",
        "    # Verify sorting (optional):\n",
        "    if len(sorted_movie_comp) > 1:\n",
        "        for i in range(len(sorted_movie_comp) - 1):\n",
        "            if sorted_movie_comp[i][0] > sorted_movie_comp[i+1][0]:  # Corrected comparison for ascending order\n",
        "                print(\"WARNING: Sorting did not work correctly. Elements are out of order.\")\n",
        "                break\n",
        "\n",
        "except Exception as e:\n",
        "    print(f\"An error occurred during sorting: {e}\")"
      ],
      "execution_count": 52,
      "outputs": [
        {
          "output_type": "stream",
          "name": "stdout",
          "text": [
            "Movie components before sorting:\n",
            " [(0.589699387550354, 'Star Wars (1977)'), (0.2447184920310974, 'Contact (1997)'), (0.7634958028793335, 'Fargo (1996)'), (0.265090674161911, 'Return of the Jedi (1983)'), (-0.5340869426727295, 'Liar Liar (1997)'), (0.3468797504901886, 'English Patient, The (1996)'), (-0.39552855491638184, 'Scream (1996)'), (0.32456129789352417, 'Toy Story (1995)'), (-0.4922863245010376, 'Air Force One (1997)'), (-0.515415608882904, 'Independence Day (ID4) (1996)')]\n",
            "Sorted movie components (first 10):\n",
            " [(-1.3667731285095215, 'Jungle2Jungle (1997)'), (-1.212355375289917, 'Free Willy 3: The Rescue (1997)'), (-1.1962171792984009, 'Vegas Vacation (1997)'), (-1.168724536895752, 'Home Alone 3 (1997)'), (-1.1685527563095093, \"McHale's Navy (1997)\"), (-1.1080646514892578, 'Congo (1995)'), (-1.1069798469543457, 'Bio-Dome (1996)'), (-1.07722008228302, 'Cutthroat Island (1995)'), (-1.0687974691390991, 'Speed 2: Cruise Control (1997)'), (-1.0503239631652832, 'D3: The Mighty Ducks (1996)')]\n"
          ]
        }
      ]
    },
    {
      "cell_type": "markdown",
      "metadata": {
        "id": "JXZyCaJL5KGn"
      },
      "source": [
        "Same thing for our second dimension:"
      ]
    },
    {
      "cell_type": "code",
      "metadata": {
        "id": "0JR6BnTn5KGn",
        "outputId": "8d261539-2d5b-4801-f9f5-31ddb3fc0fd9",
        "colab": {
          "base_uri": "https://localhost:8080/"
        }
      },
      "source": [
        "#... (Your code to define fac1 and top_movies)\n",
        "\n",
        "try:\n",
        "    print(\"Length of fac1:\", len(fac1))\n",
        "    print(\"Length of top_movies:\", len(top_movies))\n",
        "\n",
        "    if len(fac1)!= len(top_movies):\n",
        "        print(\"WARNING: Lengths of fac1 and top_movies do not match. This will cause problems with zip.\")\n",
        "\n",
        "    movie_comp = [(f.item(), i) for f, i in zip(fac1, top_movies)]\n",
        "\n",
        "    print(\"Movie components (first few):\\n\", movie_comp[:10])\n",
        "\n",
        "    # Check if movie_comp is empty (after potential mismatch):\n",
        "    if not movie_comp:\n",
        "        print(\"WARNING: movie_comp is empty. Check if fac1 and top_movies have matching elements.\")\n",
        "\n",
        "except Exception as e:\n",
        "    print(f\"An error occurred while creating movie_comp: {e}\")"
      ],
      "execution_count": 53,
      "outputs": [
        {
          "output_type": "stream",
          "name": "stdout",
          "text": [
            "Length of fac1: 1000\n",
            "Length of top_movies: 1000\n",
            "Movie components (first few):\n",
            " [(0.693336009979248, 'Star Wars (1977)'), (0.4541489779949188, 'Contact (1997)'), (-0.06558307260274887, 'Fargo (1996)'), (0.6818768978118896, 'Return of the Jedi (1983)'), (0.3907597064971924, 'Liar Liar (1997)'), (0.04614900052547455, 'English Patient, The (1996)'), (0.19460290670394897, 'Scream (1996)'), (0.4079301059246063, 'Toy Story (1995)'), (0.5724118947982788, 'Air Force One (1997)'), (0.9587222337722778, 'Independence Day (ID4) (1996)')]\n"
          ]
        }
      ]
    },
    {
      "cell_type": "code",
      "metadata": {
        "id": "xj4_P5dS5KGn",
        "colab": {
          "base_uri": "https://localhost:8080/"
        },
        "outputId": "fecb01eb-52fb-4426-f863-6c294802142e"
      },
      "source": [
        "from operator import itemgetter\n",
        "\n",
        "# ... (Your code to define movie_comp)\n",
        "\n",
        "try:\n",
        "    print(\"Movie components before sorting:\\n\", movie_comp[:10])  # Print before sorting\n",
        "\n",
        "    sorted_movie_comp = sorted(movie_comp, key=itemgetter(0), reverse=True)\n",
        "\n",
        "    print(\"Sorted movie components (first 10):\\n\", sorted_movie_comp[:10])\n",
        "\n",
        "    # Check if sorted_movie_comp is empty:\n",
        "    if not sorted_movie_comp:\n",
        "        print(\"WARNING: sorted_movie_comp is empty. Check if movie_comp has any elements.\")\n",
        "\n",
        "    # Verify sorting (optional):\n",
        "    if len(sorted_movie_comp) > 1:\n",
        "        for i in range(len(sorted_movie_comp) - 1):\n",
        "            if sorted_movie_comp[i][0] < sorted_movie_comp[i + 1][0]:  # Corrected comparison for descending order\n",
        "                print(\"WARNING: Sorting did not work correctly. Elements are out of order.\")\n",
        "                break\n",
        "\n",
        "except Exception as e:\n",
        "    print(f\"An error occurred during sorting: {e}\")"
      ],
      "execution_count": 54,
      "outputs": [
        {
          "output_type": "stream",
          "name": "stdout",
          "text": [
            "Movie components before sorting:\n",
            " [(0.693336009979248, 'Star Wars (1977)'), (0.4541489779949188, 'Contact (1997)'), (-0.06558307260274887, 'Fargo (1996)'), (0.6818768978118896, 'Return of the Jedi (1983)'), (0.3907597064971924, 'Liar Liar (1997)'), (0.04614900052547455, 'English Patient, The (1996)'), (0.19460290670394897, 'Scream (1996)'), (0.4079301059246063, 'Toy Story (1995)'), (0.5724118947982788, 'Air Force One (1997)'), (0.9587222337722778, 'Independence Day (ID4) (1996)')]\n",
            "Sorted movie components (first 10):\n",
            " [(1.3213040828704834, 'Braveheart (1995)'), (1.0643092393875122, 'Titanic (1997)'), (0.9857715368270874, 'Forrest Gump (1994)'), (0.9587222337722778, 'Independence Day (ID4) (1996)'), (0.9497814774513245, \"It's a Wonderful Life (1946)\"), (0.9246375560760498, 'Raiders of the Lost Ark (1981)'), (0.8667290210723877, 'Pretty Woman (1990)'), (0.8314993381500244, 'Time to Kill, A (1996)'), (0.801116406917572, 'Field of Dreams (1989)'), (0.8009253740310669, \"Schindler's List (1993)\")]\n"
          ]
        }
      ]
    },
    {
      "cell_type": "code",
      "metadata": {
        "id": "28K9s9Rp5KGo",
        "colab": {
          "base_uri": "https://localhost:8080/"
        },
        "outputId": "e32fab90-5bf2-42bd-e281-599829e03380"
      },
      "source": [
        "from operator import itemgetter\n",
        "\n",
        "# ... (Your code to define movie_comp)\n",
        "\n",
        "try:\n",
        "    print(\"Movie components before sorting:\\n\", movie_comp[:10])  # Print before sorting\n",
        "\n",
        "    sorted_movie_comp = sorted(movie_comp, key=itemgetter(0))\n",
        "\n",
        "    print(\"Sorted movie components (first 10):\\n\", sorted_movie_comp[:10])\n",
        "\n",
        "    # Check if sorted_movie_comp is empty:\n",
        "    if not sorted_movie_comp:\n",
        "        print(\"WARNING: sorted_movie_comp is empty. Check if movie_comp has any elements.\")\n",
        "\n",
        "    # Verify sorting (optional - for ascending order):\n",
        "    if len(sorted_movie_comp) > 1:\n",
        "        for i in range(len(sorted_movie_comp) - 1):\n",
        "            if sorted_movie_comp[i][0] > sorted_movie_comp[i + 1][0]:  # Correct comparison for ascending order\n",
        "                print(\"WARNING: Sorting did not work correctly. Elements are out of order.\")\n",
        "                break\n",
        "\n",
        "except Exception as e:\n",
        "    print(f\"An error occurred during sorting: {e}\")"
      ],
      "execution_count": 55,
      "outputs": [
        {
          "output_type": "stream",
          "name": "stdout",
          "text": [
            "Movie components before sorting:\n",
            " [(0.693336009979248, 'Star Wars (1977)'), (0.4541489779949188, 'Contact (1997)'), (-0.06558307260274887, 'Fargo (1996)'), (0.6818768978118896, 'Return of the Jedi (1983)'), (0.3907597064971924, 'Liar Liar (1997)'), (0.04614900052547455, 'English Patient, The (1996)'), (0.19460290670394897, 'Scream (1996)'), (0.4079301059246063, 'Toy Story (1995)'), (0.5724118947982788, 'Air Force One (1997)'), (0.9587222337722778, 'Independence Day (ID4) (1996)')]\n",
            "Sorted movie components (first 10):\n",
            " [(-0.9498230218887329, 'Trainspotting (1996)'), (-0.9187273979187012, 'Keys to Tulsa (1997)'), (-0.9000670909881592, 'Serial Mom (1994)'), (-0.8200811147689819, 'Fog, The (1980)'), (-0.818536102771759, 'Ready to Wear (Pret-A-Porter) (1994)'), (-0.8090493679046631, 'Beavis and Butt-head Do America (1996)'), (-0.7720345258712769, 'Spice World (1997)'), (-0.7208623290061951, 'Gang Related (1997)'), (-0.7098212242126465, 'Barb Wire (1996)'), (-0.7095446586608887, 'Cook the Thief His Wife & Her Lover, The (1989)')]\n"
          ]
        }
      ]
    },
    {
      "cell_type": "markdown",
      "metadata": {
        "id": "eZAynsWP5KGo"
      },
      "source": [
        "And we can even plot the movies according to their scores on those dimensions:"
      ]
    },
    {
      "cell_type": "code",
      "metadata": {
        "id": "fHtORCAp5KGp",
        "colab": {
          "base_uri": "https://localhost:8080/",
          "height": 1000
        },
        "outputId": "b43a1db6-0c12-4a3b-8d66-1018901a26fc"
      },
      "source": [
        "import numpy as np\n",
        "import matplotlib.pyplot as plt\n",
        "\n",
        "# ... (Sample Data as before)\n",
        "\n",
        "num_movies_to_plot = min(50, len(top_movies))\n",
        "idxs = np.random.choice(len(top_movies), num_movies_to_plot, replace=False)\n",
        "\n",
        "X = fac0[idxs]\n",
        "Y = fac2[idxs]\n",
        "\n",
        "plt.figure(figsize=(15, 15))\n",
        "plt.scatter(X, Y)\n",
        "\n",
        "text_offsets_x = np.random.uniform(-0.5, 0.5, size=num_movies_to_plot)\n",
        "text_offsets_y = np.random.uniform(0, 1, size=num_movies_to_plot)\n",
        "\n",
        "# 5. Check Text Offsets:\n",
        "print(\"Text offsets X:\", text_offsets_x)\n",
        "print(\"Text offsets Y:\", text_offsets_y)\n",
        "\n",
        "# Use enumerate to get the correct index\n",
        "for j, (movie_name, x, y) in enumerate(zip(top_movies[idxs], X, Y)):  # Use enumerate\n",
        "    print(f\"Plotting movie: {movie_name} at ({x}, {y}) with offset ({text_offsets_x[j]}, {text_offsets_y[j]})\")\n",
        "    plt.text(x + text_offsets_x[j], y + text_offsets_y[j], movie_name, color=np.random.rand(3) * 0.7, fontsize=11)  # Use movie_name\n",
        "\n",
        "plt.xlabel(\"Factor 0\")\n",
        "plt.ylabel(\"Factor 2\")\n",
        "plt.title(\"Movie Embeddings Visualization\")\n",
        "plt.show()"
      ],
      "execution_count": 59,
      "outputs": [
        {
          "output_type": "stream",
          "name": "stdout",
          "text": [
            "Text offsets X: [-0.02452985  0.34079842 -0.27297755 -0.25457401 -0.28940226 -0.08161581\n",
            " -0.34070462 -0.39728015  0.25964867 -0.12271117 -0.40864455  0.48984974\n",
            "  0.34292334  0.45181535  0.26594083 -0.25724164  0.46103285 -0.04391089\n",
            " -0.37689703  0.05123726 -0.41047731  0.33022746  0.0712465  -0.31946622\n",
            "  0.13923035  0.47801979 -0.11188364 -0.36292908  0.20535534 -0.33059455\n",
            " -0.42851369  0.05693289  0.2136357  -0.0966303  -0.07613011  0.42020789\n",
            "  0.24059515  0.13328584 -0.48878538  0.03114661  0.09776312  0.44085911\n",
            " -0.2487223  -0.30922673  0.34463695 -0.38342653  0.0226658   0.09691228\n",
            " -0.16392248  0.39143345]\n",
            "Text offsets Y: [5.95698346e-01 8.77560617e-01 9.79137724e-02 1.96975569e-01\n",
            " 5.23937113e-01 8.88125192e-02 1.33468476e-01 4.90968864e-01\n",
            " 4.47365154e-01 4.19254295e-01 5.14202425e-01 5.52180084e-01\n",
            " 3.67143431e-01 8.55591381e-01 9.17444080e-01 9.11151666e-01\n",
            " 9.30582656e-01 3.53186107e-01 3.70900399e-01 9.61741875e-01\n",
            " 5.85500817e-01 6.43829695e-01 4.52539715e-01 3.29472188e-01\n",
            " 7.56325226e-01 2.81241173e-01 8.00294912e-01 5.65507317e-01\n",
            " 7.42016315e-04 8.33588516e-01 2.54654481e-01 4.20909646e-01\n",
            " 2.80369260e-01 9.83113725e-01 5.00809061e-02 7.70058593e-02\n",
            " 8.90919080e-01 4.11695874e-01 7.21208612e-01 4.93475064e-02\n",
            " 5.69042242e-01 8.56597792e-01 1.03564626e-01 6.66128214e-01\n",
            " 6.42509168e-01 4.25421467e-01 6.44255602e-01 1.81574243e-01\n",
            " 2.46119175e-02 4.68093317e-01]\n",
            "Plotting movie: Movie 46 at (5.024547521114787, 4.404953582088109) with offset (-0.024529845243327353, 0.5956983463143644)\n",
            "Plotting movie: Movie 64 at (4.21039873982013, 6.57905612644316) with offset (0.3407984164125958, 0.8775606167646104)\n",
            "Plotting movie: Movie 95 at (9.687533383191541, 8.407257795935967) with offset (-0.2729775536138196, 0.09791377240091881)\n",
            "Plotting movie: Movie 23 at (2.9620598325650995, 9.6240111483513) with offset (-0.2545740080114204, 0.1969755690356091)\n",
            "Plotting movie: Movie 79 at (3.3692129807423377, 7.397997590251895) with offset (-0.2894022562449584, 0.5239371133518147)\n",
            "Plotting movie: Movie 43 at (7.408230698389518, 3.1697180347017175) with offset (-0.08161581429378106, 0.08881251915728128)\n",
            "Plotting movie: Movie 5 at (2.2757352562182342, 6.757433240919518) with offset (-0.34070462068274443, 0.13346847571794118)\n",
            "Plotting movie: Movie 24 at (0.753383197468408, 1.2703826641201121) with offset (-0.39728015331583366, 0.4909688644873661)\n",
            "Plotting movie: Movie 36 at (4.363681957796809, 7.923249321736422) with offset (0.25964867459139973, 0.44736515361953855)\n",
            "Plotting movie: Movie 77 at (9.792897873881943, 7.533796064311278) with offset (-0.12271116805253157, 0.41925429494759126)\n",
            "Plotting movie: Movie 63 at (6.229859993609688, 1.156157475482481) with offset (-0.4086445481629122, 0.5142024253427816)\n",
            "Plotting movie: Movie 69 at (4.8289630546524585, 9.223508710707609) with offset (0.4898497441200036, 0.5521800841633486)\n",
            "Plotting movie: Movie 45 at (7.124444487943464, 6.7365069157466175) with offset (0.3429233438706528, 0.36714343133128524)\n",
            "Plotting movie: Movie 16 at (1.0727580626312694, 9.535794168315011) with offset (0.4518153450923832, 0.8555913812433956)\n",
            "Plotting movie: Movie 3 at (7.9459432319792045, 2.846677988571238) with offset (0.26594083169518545, 0.9174440797570912)\n",
            "Plotting movie: Movie 56 at (6.184724887923032, 3.6737798959988255) with offset (-0.2572416358595462, 0.9111516662742255)\n",
            "Plotting movie: Movie 29 at (0.6774064883082564, 1.6456387733016842) with offset (0.46103285304524877, 0.9305826560282612)\n",
            "Plotting movie: Movie 55 at (7.864184344144892, 7.970791193231673) with offset (-0.04391088643459984, 0.353186107062478)\n",
            "Plotting movie: Movie 88 at (2.605773577153374, 4.544448352446926) with offset (-0.37689703334745817, 0.3709003986898317)\n",
            "Plotting movie: Movie 30 at (9.736507054279555, 6.490273824996619) with offset (0.051237262284351326, 0.961741874602074)\n",
            "Plotting movie: Movie 52 at (0.15673013792762425, 2.5137165377711392) with offset (-0.4104773056506995, 0.5855008170437241)\n",
            "Plotting movie: Movie 65 at (1.1851475439956993, 2.239960855265738) with offset (0.33022746131528213, 0.6438296945238705)\n",
            "Plotting movie: Movie 93 at (0.9896052151010681, 7.321508693695925) with offset (0.07124650445339864, 0.45253971489769307)\n",
            "Plotting movie: Movie 12 at (3.1590188759237425, 1.3192892908680653) with offset (-0.31946622338006236, 0.32947218782267684)\n",
            "Plotting movie: Movie 34 at (4.27180974034452, 0.5741196383830682) with offset (0.13923034851069815, 0.7563252258535083)\n",
            "Plotting movie: Movie 71 at (3.8292249238315, 9.241942578853493) with offset (0.47801978604009243, 0.2812411730401847)\n",
            "Plotting movie: Movie 33 at (9.977697453835452, 6.912410115110903) with offset (-0.11188363589200001, 0.800294912145758)\n",
            "Plotting movie: Movie 41 at (2.061560764659298, 0.12311664654361842) with offset (-0.362929075441183, 0.5655073166040351)\n",
            "Plotting movie: Movie 49 at (1.752801356124526, 8.76196103214795) with offset (0.20535533875968282, 0.000742016314551952)\n",
            "Plotting movie: Movie 75 at (1.9574417483963158, 3.66388733686861) with offset (-0.3305945487813581, 0.8335885155524226)\n",
            "Plotting movie: Movie 26 at (1.5606689290010067, 8.93781752547426) with offset (-0.42851369423736174, 0.25465448126338175)\n",
            "Plotting movie: Movie 32 at (4.341804984317708, 2.1282147808695018) with offset (0.056932889229157624, 0.4209096455148281)\n",
            "Plotting movie: Movie 31 at (4.323851202456232, 7.200094416933834) with offset (0.21363570219113903, 0.2803692601867168)\n",
            "Plotting movie: Movie 35 at (1.519087871724849, 5.373288067064729) with offset (-0.09663030155924579, 0.9831137251715231)\n",
            "Plotting movie: Movie 2 at (7.642489343606394, 7.941321798841672) with offset (-0.07613010760202865, 0.05008090611343252)\n",
            "Plotting movie: Movie 27 at (1.5342500691584027, 3.666753244245531) with offset (0.4202078902984505, 0.07700585928926207)\n",
            "Plotting movie: Movie 40 at (8.411433623228262, 0.5182808396981742) with offset (0.2405951540279011, 0.8909190804205405)\n",
            "Plotting movie: Movie 74 at (4.7831064834625465, 1.9541924160553836) with offset (0.13328584084895034, 0.41169587351914205)\n",
            "Plotting movie: Movie 76 at (0.7709670826892268, 5.736362486453734) with offset (-0.48878538115108183, 0.7212086118186852)\n",
            "Plotting movie: Movie 67 at (0.7406626954102014, 8.995050176353077) with offset (0.031146605378977177, 0.04934750640467478)\n",
            "Plotting movie: Movie 83 at (7.90960730141287, 0.06594364750889037) with offset (0.09776311873447385, 0.5690422415714714)\n",
            "Plotting movie: Movie 20 at (5.155675747110536, 6.896002469069114) with offset (0.4408591064087226, 0.8565977920597044)\n",
            "Plotting movie: Movie 70 at (5.650035960468359, 9.085398069720345) with offset (-0.2487223043661957, 0.1035646263820923)\n",
            "Plotting movie: Movie 14 at (2.3012451967189964, 5.754422488329074) with offset (-0.30922673380539134, 0.6661282144356533)\n",
            "Plotting movie: Movie 28 at (7.654646737934789, 1.7318848222472916) with offset (0.34463694567378433, 0.6425091679034277)\n",
            "Plotting movie: Movie 8 at (1.7155137303736456, 9.126611691200146) with offset (-0.3834265333191762, 0.42542146675557024)\n",
            "Plotting movie: Movie 81 at (4.31681779527046, 8.02233354362383) with offset (0.02266580367771953, 0.6442556020923615)\n",
            "Plotting movie: Movie 48 at (4.784192884123325, 7.116889327517213) with offset (0.09691228043598132, 0.18157424343496442)\n",
            "Plotting movie: Movie 22 at (2.939736479098105, 9.503731106554936) with offset (-0.1639224846361078, 0.02461191752748404)\n",
            "Plotting movie: Movie 50 at (6.183752397376122, 9.591396294872993) with offset (0.39143344640932043, 0.46809331662482834)\n"
          ]
        },
        {
          "output_type": "display_data",
          "data": {
            "text/plain": [
              "<Figure size 1500x1500 with 1 Axes>"
            ],
            "image/png": "[encoded data removed]"
          },
          "metadata": {}
        }
      ]
    },
    {
      "cell_type": "code",
      "source": [
        "\n",
        "\n",
        "\n",
        "\n",
        "\n",
        "\n"
      ],
      "metadata": {
        "id": "NUgxT40ay8vK"
      },
      "execution_count": 36,
      "outputs": []
    },
    {
      "cell_type": "markdown",
      "source": [
        "# Exercise 2\n",
        "\n",
        "## Play around with different collaborative filtering model parameters such as n_factors and other parameters.\n",
        "## Identify if any such parameters have impact on the speed of convergence or the performance on the model"
      ],
      "metadata": {
        "id": "y-Awr1ea7No6"
      }
    },
    {
      "cell_type": "code",
      "source": [
        "#CODE"
      ],
      "metadata": {
        "id": "O8Z1SLY1zLgV"
      },
      "execution_count": 35,
      "outputs": []
    },
    {
      "cell_type": "code",
      "source": [
        "#startcodingorgeneratingwithAI"
      ],
      "metadata": {
        "id": "W4C3hMM47rb0"
      },
      "execution_count": 36,
      "outputs": []
    }
  ]
}